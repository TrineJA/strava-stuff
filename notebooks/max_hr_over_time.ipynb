{
 "cells": [
  {
   "cell_type": "code",
   "execution_count": 1,
   "id": "931665a3",
   "metadata": {},
   "outputs": [],
   "source": [
    "%load_ext autoreload\n",
    "%autoreload 2"
   ]
  },
  {
   "cell_type": "code",
   "execution_count": 2,
   "id": "24969b9d",
   "metadata": {},
   "outputs": [],
   "source": [
    "import sys\n",
    "sys.path.append('../src/')\n",
    "sys.path.append('..')\n",
    "\n",
    "import pandas as pd\n",
    "import matplotlib.pyplot as plt \n",
    "import plotly.express as px\n",
    "\n",
    "plt.rcParams[\"figure.figsize\"]=20,12\n",
    "\n",
    "from get_data import get_activity_data"
   ]
  },
  {
   "cell_type": "code",
   "execution_count": 3,
   "id": "013ef7c7",
   "metadata": {},
   "outputs": [],
   "source": [
    "df = get_activity_data()"
   ]
  },
  {
   "cell_type": "code",
   "execution_count": 25,
   "id": "1a7ce649",
   "metadata": {},
   "outputs": [
    {
     "data": {
      "text/plain": [
       "(151, 3)"
      ]
     },
     "execution_count": 25,
     "metadata": {},
     "output_type": "execute_result"
    }
   ],
   "source": [
    "_df = df[['start_date_local','max_heartrate','type']].query(\"max_heartrate>0 and type in ['Ride','Run']\")\n",
    "_df['start_date_local'] = _df['start_date_local'].dt.date\n",
    "_df = _df.query(\"max_heartrate<185\") # remove rides with wrong heart rate (when garmin was not paired with HR monitor)\n",
    "_df.shape"
   ]
  },
  {
   "cell_type": "code",
   "execution_count": 45,
   "id": "9a74681b",
   "metadata": {},
   "outputs": [
    {
     "data": {
      "application/vnd.plotly.v1+json": {
       "config": {
        "plotlyServerURL": "https://plot.ly"
       },
       "data": [
        {
         "hovertemplate": "type=Ride<br>start_date_local=%{x}<br>max_heartrate=%{y}<extra></extra>",
         "legendgroup": "Ride",
         "marker": {
          "color": "#636efa",
          "symbol": "circle"
         },
         "mode": "markers",
         "name": "Ride",
         "orientation": "v",
         "showlegend": true,
         "type": "scatter",
         "x": [
          "2021-04-07",
          "2021-04-06",
          "2021-04-01",
          "2021-04-01",
          "2021-04-01",
          "2021-03-30",
          "2021-03-28",
          "2021-03-26",
          "2021-03-25",
          "2021-03-23",
          "2021-03-21",
          "2021-03-20",
          "2021-03-19",
          "2021-03-17",
          "2021-03-16",
          "2021-03-14",
          "2021-03-12",
          "2021-03-09",
          "2021-03-07",
          "2021-03-06",
          "2021-03-05",
          "2021-03-04",
          "2021-03-02",
          "2021-02-28",
          "2021-02-27",
          "2021-02-17",
          "2021-02-14",
          "2021-02-13",
          "2021-02-11",
          "2021-02-10",
          "2021-02-07",
          "2021-02-06",
          "2021-02-04",
          "2021-02-02",
          "2021-01-31",
          "2021-01-30",
          "2021-01-29",
          "2021-01-27",
          "2021-01-24",
          "2021-01-23",
          "2021-01-21",
          "2021-01-17",
          "2021-01-16",
          "2021-01-14",
          "2021-01-12",
          "2021-01-09",
          "2021-01-08",
          "2021-01-06",
          "2021-01-03",
          "2021-01-02",
          "2020-12-31",
          "2020-12-28",
          "2020-12-26",
          "2020-12-25",
          "2020-12-23",
          "2020-12-22",
          "2020-12-19",
          "2020-12-17",
          "2020-12-13",
          "2020-12-12",
          "2020-12-09",
          "2020-12-08",
          "2020-12-06",
          "2020-12-03",
          "2020-11-30",
          "2020-11-29",
          "2020-11-26",
          "2020-11-24",
          "2020-11-22",
          "2020-11-21",
          "2020-11-20",
          "2020-11-17",
          "2020-11-15",
          "2020-11-12",
          "2020-11-08",
          "2020-11-06",
          "2020-11-03",
          "2020-11-01",
          "2020-10-24",
          "2020-10-22",
          "2020-10-20",
          "2020-10-18",
          "2020-10-14",
          "2020-10-11",
          "2020-10-06",
          "2020-07-11",
          "2020-05-10",
          "2020-05-03",
          "2020-04-23",
          "2020-04-17",
          "2020-04-12",
          "2020-04-07",
          "2020-01-10",
          "2019-09-14",
          "2019-09-12"
         ],
         "xaxis": "x",
         "y": [
          155,
          150,
          148,
          150,
          151,
          157,
          153,
          166,
          139,
          153,
          160,
          148,
          161,
          156,
          153,
          160,
          155,
          150,
          150,
          162,
          153,
          162,
          161,
          160,
          162,
          158,
          150,
          163,
          161,
          162,
          155,
          156,
          161,
          152,
          151,
          158,
          147,
          157,
          154,
          155,
          157,
          153,
          143,
          141,
          157,
          152,
          159,
          154,
          154,
          159,
          158,
          163,
          157,
          160,
          163,
          160,
          166,
          155,
          158,
          162,
          156,
          152,
          160,
          156,
          154,
          148,
          159,
          159,
          161,
          158,
          160,
          160,
          152,
          159,
          152,
          156,
          153,
          165,
          162,
          148,
          165,
          157,
          164,
          161,
          157,
          157,
          170,
          172,
          153,
          157,
          152,
          153,
          152,
          167,
          151
         ],
         "yaxis": "y"
        },
        {
         "hovertemplate": "type=Run<br>start_date_local=%{x}<br>max_heartrate=%{y}<extra></extra>",
         "legendgroup": "Run",
         "marker": {
          "color": "#EF553B",
          "symbol": "circle"
         },
         "mode": "markers",
         "name": "Run",
         "orientation": "v",
         "showlegend": true,
         "type": "scatter",
         "x": [
          "2021-01-19",
          "2021-01-15",
          "2021-01-10",
          "2020-12-20",
          "2020-12-15",
          "2020-12-10",
          "2020-12-04",
          "2020-12-02",
          "2020-11-28",
          "2020-11-26",
          "2020-11-23",
          "2020-11-07",
          "2020-11-04",
          "2020-11-02",
          "2020-10-30",
          "2020-10-28",
          "2020-10-26",
          "2020-10-23",
          "2020-10-20",
          "2020-10-18",
          "2020-10-16",
          "2020-08-31",
          "2020-03-27",
          "2020-03-25",
          "2020-03-22",
          "2020-03-19",
          "2020-01-03",
          "2019-12-31",
          "2019-12-25",
          "2019-12-22",
          "2019-12-21",
          "2019-12-17",
          "2019-12-04",
          "2019-12-02",
          "2019-11-26",
          "2019-11-22",
          "2019-11-19",
          "2019-11-17",
          "2019-11-14",
          "2019-08-27",
          "2019-08-22",
          "2019-08-19",
          "2019-08-15",
          "2019-08-12",
          "2019-08-09",
          "2019-08-06",
          "2019-08-03",
          "2019-07-31",
          "2019-07-29",
          "2019-07-24",
          "2019-07-22",
          "2019-07-19",
          "2019-07-14",
          "2019-07-12",
          "2019-07-10",
          "2019-07-08"
         ],
         "xaxis": "x",
         "y": [
          154,
          154,
          158,
          161,
          159,
          158,
          164,
          161,
          165,
          164,
          159,
          158,
          161,
          168,
          166,
          161,
          155,
          164,
          164,
          166,
          165,
          171,
          165,
          152,
          171,
          166,
          165,
          178,
          167,
          166,
          158,
          165,
          167,
          166,
          163,
          171,
          168,
          172,
          169,
          166,
          168,
          164,
          168,
          151,
          167,
          164,
          166,
          166,
          165,
          157,
          170,
          177,
          170,
          161,
          169,
          177
         ],
         "yaxis": "y"
        }
       ],
       "layout": {
        "legend": {
         "title": {
          "text": "type"
         },
         "tracegroupgap": 0
        },
        "margin": {
         "t": 60
        },
        "template": {
         "data": {
          "bar": [
           {
            "error_x": {
             "color": "#2a3f5f"
            },
            "error_y": {
             "color": "#2a3f5f"
            },
            "marker": {
             "line": {
              "color": "#E5ECF6",
              "width": 0.5
             }
            },
            "type": "bar"
           }
          ],
          "barpolar": [
           {
            "marker": {
             "line": {
              "color": "#E5ECF6",
              "width": 0.5
             }
            },
            "type": "barpolar"
           }
          ],
          "carpet": [
           {
            "aaxis": {
             "endlinecolor": "#2a3f5f",
             "gridcolor": "white",
             "linecolor": "white",
             "minorgridcolor": "white",
             "startlinecolor": "#2a3f5f"
            },
            "baxis": {
             "endlinecolor": "#2a3f5f",
             "gridcolor": "white",
             "linecolor": "white",
             "minorgridcolor": "white",
             "startlinecolor": "#2a3f5f"
            },
            "type": "carpet"
           }
          ],
          "choropleth": [
           {
            "colorbar": {
             "outlinewidth": 0,
             "ticks": ""
            },
            "type": "choropleth"
           }
          ],
          "contour": [
           {
            "colorbar": {
             "outlinewidth": 0,
             "ticks": ""
            },
            "colorscale": [
             [
              0,
              "#0d0887"
             ],
             [
              0.1111111111111111,
              "#46039f"
             ],
             [
              0.2222222222222222,
              "#7201a8"
             ],
             [
              0.3333333333333333,
              "#9c179e"
             ],
             [
              0.4444444444444444,
              "#bd3786"
             ],
             [
              0.5555555555555556,
              "#d8576b"
             ],
             [
              0.6666666666666666,
              "#ed7953"
             ],
             [
              0.7777777777777778,
              "#fb9f3a"
             ],
             [
              0.8888888888888888,
              "#fdca26"
             ],
             [
              1,
              "#f0f921"
             ]
            ],
            "type": "contour"
           }
          ],
          "contourcarpet": [
           {
            "colorbar": {
             "outlinewidth": 0,
             "ticks": ""
            },
            "type": "contourcarpet"
           }
          ],
          "heatmap": [
           {
            "colorbar": {
             "outlinewidth": 0,
             "ticks": ""
            },
            "colorscale": [
             [
              0,
              "#0d0887"
             ],
             [
              0.1111111111111111,
              "#46039f"
             ],
             [
              0.2222222222222222,
              "#7201a8"
             ],
             [
              0.3333333333333333,
              "#9c179e"
             ],
             [
              0.4444444444444444,
              "#bd3786"
             ],
             [
              0.5555555555555556,
              "#d8576b"
             ],
             [
              0.6666666666666666,
              "#ed7953"
             ],
             [
              0.7777777777777778,
              "#fb9f3a"
             ],
             [
              0.8888888888888888,
              "#fdca26"
             ],
             [
              1,
              "#f0f921"
             ]
            ],
            "type": "heatmap"
           }
          ],
          "heatmapgl": [
           {
            "colorbar": {
             "outlinewidth": 0,
             "ticks": ""
            },
            "colorscale": [
             [
              0,
              "#0d0887"
             ],
             [
              0.1111111111111111,
              "#46039f"
             ],
             [
              0.2222222222222222,
              "#7201a8"
             ],
             [
              0.3333333333333333,
              "#9c179e"
             ],
             [
              0.4444444444444444,
              "#bd3786"
             ],
             [
              0.5555555555555556,
              "#d8576b"
             ],
             [
              0.6666666666666666,
              "#ed7953"
             ],
             [
              0.7777777777777778,
              "#fb9f3a"
             ],
             [
              0.8888888888888888,
              "#fdca26"
             ],
             [
              1,
              "#f0f921"
             ]
            ],
            "type": "heatmapgl"
           }
          ],
          "histogram": [
           {
            "marker": {
             "colorbar": {
              "outlinewidth": 0,
              "ticks": ""
             }
            },
            "type": "histogram"
           }
          ],
          "histogram2d": [
           {
            "colorbar": {
             "outlinewidth": 0,
             "ticks": ""
            },
            "colorscale": [
             [
              0,
              "#0d0887"
             ],
             [
              0.1111111111111111,
              "#46039f"
             ],
             [
              0.2222222222222222,
              "#7201a8"
             ],
             [
              0.3333333333333333,
              "#9c179e"
             ],
             [
              0.4444444444444444,
              "#bd3786"
             ],
             [
              0.5555555555555556,
              "#d8576b"
             ],
             [
              0.6666666666666666,
              "#ed7953"
             ],
             [
              0.7777777777777778,
              "#fb9f3a"
             ],
             [
              0.8888888888888888,
              "#fdca26"
             ],
             [
              1,
              "#f0f921"
             ]
            ],
            "type": "histogram2d"
           }
          ],
          "histogram2dcontour": [
           {
            "colorbar": {
             "outlinewidth": 0,
             "ticks": ""
            },
            "colorscale": [
             [
              0,
              "#0d0887"
             ],
             [
              0.1111111111111111,
              "#46039f"
             ],
             [
              0.2222222222222222,
              "#7201a8"
             ],
             [
              0.3333333333333333,
              "#9c179e"
             ],
             [
              0.4444444444444444,
              "#bd3786"
             ],
             [
              0.5555555555555556,
              "#d8576b"
             ],
             [
              0.6666666666666666,
              "#ed7953"
             ],
             [
              0.7777777777777778,
              "#fb9f3a"
             ],
             [
              0.8888888888888888,
              "#fdca26"
             ],
             [
              1,
              "#f0f921"
             ]
            ],
            "type": "histogram2dcontour"
           }
          ],
          "mesh3d": [
           {
            "colorbar": {
             "outlinewidth": 0,
             "ticks": ""
            },
            "type": "mesh3d"
           }
          ],
          "parcoords": [
           {
            "line": {
             "colorbar": {
              "outlinewidth": 0,
              "ticks": ""
             }
            },
            "type": "parcoords"
           }
          ],
          "pie": [
           {
            "automargin": true,
            "type": "pie"
           }
          ],
          "scatter": [
           {
            "marker": {
             "colorbar": {
              "outlinewidth": 0,
              "ticks": ""
             }
            },
            "type": "scatter"
           }
          ],
          "scatter3d": [
           {
            "line": {
             "colorbar": {
              "outlinewidth": 0,
              "ticks": ""
             }
            },
            "marker": {
             "colorbar": {
              "outlinewidth": 0,
              "ticks": ""
             }
            },
            "type": "scatter3d"
           }
          ],
          "scattercarpet": [
           {
            "marker": {
             "colorbar": {
              "outlinewidth": 0,
              "ticks": ""
             }
            },
            "type": "scattercarpet"
           }
          ],
          "scattergeo": [
           {
            "marker": {
             "colorbar": {
              "outlinewidth": 0,
              "ticks": ""
             }
            },
            "type": "scattergeo"
           }
          ],
          "scattergl": [
           {
            "marker": {
             "colorbar": {
              "outlinewidth": 0,
              "ticks": ""
             }
            },
            "type": "scattergl"
           }
          ],
          "scattermapbox": [
           {
            "marker": {
             "colorbar": {
              "outlinewidth": 0,
              "ticks": ""
             }
            },
            "type": "scattermapbox"
           }
          ],
          "scatterpolar": [
           {
            "marker": {
             "colorbar": {
              "outlinewidth": 0,
              "ticks": ""
             }
            },
            "type": "scatterpolar"
           }
          ],
          "scatterpolargl": [
           {
            "marker": {
             "colorbar": {
              "outlinewidth": 0,
              "ticks": ""
             }
            },
            "type": "scatterpolargl"
           }
          ],
          "scatterternary": [
           {
            "marker": {
             "colorbar": {
              "outlinewidth": 0,
              "ticks": ""
             }
            },
            "type": "scatterternary"
           }
          ],
          "surface": [
           {
            "colorbar": {
             "outlinewidth": 0,
             "ticks": ""
            },
            "colorscale": [
             [
              0,
              "#0d0887"
             ],
             [
              0.1111111111111111,
              "#46039f"
             ],
             [
              0.2222222222222222,
              "#7201a8"
             ],
             [
              0.3333333333333333,
              "#9c179e"
             ],
             [
              0.4444444444444444,
              "#bd3786"
             ],
             [
              0.5555555555555556,
              "#d8576b"
             ],
             [
              0.6666666666666666,
              "#ed7953"
             ],
             [
              0.7777777777777778,
              "#fb9f3a"
             ],
             [
              0.8888888888888888,
              "#fdca26"
             ],
             [
              1,
              "#f0f921"
             ]
            ],
            "type": "surface"
           }
          ],
          "table": [
           {
            "cells": {
             "fill": {
              "color": "#EBF0F8"
             },
             "line": {
              "color": "white"
             }
            },
            "header": {
             "fill": {
              "color": "#C8D4E3"
             },
             "line": {
              "color": "white"
             }
            },
            "type": "table"
           }
          ]
         },
         "layout": {
          "annotationdefaults": {
           "arrowcolor": "#2a3f5f",
           "arrowhead": 0,
           "arrowwidth": 1
          },
          "autotypenumbers": "strict",
          "coloraxis": {
           "colorbar": {
            "outlinewidth": 0,
            "ticks": ""
           }
          },
          "colorscale": {
           "diverging": [
            [
             0,
             "#8e0152"
            ],
            [
             0.1,
             "#c51b7d"
            ],
            [
             0.2,
             "#de77ae"
            ],
            [
             0.3,
             "#f1b6da"
            ],
            [
             0.4,
             "#fde0ef"
            ],
            [
             0.5,
             "#f7f7f7"
            ],
            [
             0.6,
             "#e6f5d0"
            ],
            [
             0.7,
             "#b8e186"
            ],
            [
             0.8,
             "#7fbc41"
            ],
            [
             0.9,
             "#4d9221"
            ],
            [
             1,
             "#276419"
            ]
           ],
           "sequential": [
            [
             0,
             "#0d0887"
            ],
            [
             0.1111111111111111,
             "#46039f"
            ],
            [
             0.2222222222222222,
             "#7201a8"
            ],
            [
             0.3333333333333333,
             "#9c179e"
            ],
            [
             0.4444444444444444,
             "#bd3786"
            ],
            [
             0.5555555555555556,
             "#d8576b"
            ],
            [
             0.6666666666666666,
             "#ed7953"
            ],
            [
             0.7777777777777778,
             "#fb9f3a"
            ],
            [
             0.8888888888888888,
             "#fdca26"
            ],
            [
             1,
             "#f0f921"
            ]
           ],
           "sequentialminus": [
            [
             0,
             "#0d0887"
            ],
            [
             0.1111111111111111,
             "#46039f"
            ],
            [
             0.2222222222222222,
             "#7201a8"
            ],
            [
             0.3333333333333333,
             "#9c179e"
            ],
            [
             0.4444444444444444,
             "#bd3786"
            ],
            [
             0.5555555555555556,
             "#d8576b"
            ],
            [
             0.6666666666666666,
             "#ed7953"
            ],
            [
             0.7777777777777778,
             "#fb9f3a"
            ],
            [
             0.8888888888888888,
             "#fdca26"
            ],
            [
             1,
             "#f0f921"
            ]
           ]
          },
          "colorway": [
           "#636efa",
           "#EF553B",
           "#00cc96",
           "#ab63fa",
           "#FFA15A",
           "#19d3f3",
           "#FF6692",
           "#B6E880",
           "#FF97FF",
           "#FECB52"
          ],
          "font": {
           "color": "#2a3f5f"
          },
          "geo": {
           "bgcolor": "white",
           "lakecolor": "white",
           "landcolor": "#E5ECF6",
           "showlakes": true,
           "showland": true,
           "subunitcolor": "white"
          },
          "hoverlabel": {
           "align": "left"
          },
          "hovermode": "closest",
          "mapbox": {
           "style": "light"
          },
          "paper_bgcolor": "white",
          "plot_bgcolor": "#E5ECF6",
          "polar": {
           "angularaxis": {
            "gridcolor": "white",
            "linecolor": "white",
            "ticks": ""
           },
           "bgcolor": "#E5ECF6",
           "radialaxis": {
            "gridcolor": "white",
            "linecolor": "white",
            "ticks": ""
           }
          },
          "scene": {
           "xaxis": {
            "backgroundcolor": "#E5ECF6",
            "gridcolor": "white",
            "gridwidth": 2,
            "linecolor": "white",
            "showbackground": true,
            "ticks": "",
            "zerolinecolor": "white"
           },
           "yaxis": {
            "backgroundcolor": "#E5ECF6",
            "gridcolor": "white",
            "gridwidth": 2,
            "linecolor": "white",
            "showbackground": true,
            "ticks": "",
            "zerolinecolor": "white"
           },
           "zaxis": {
            "backgroundcolor": "#E5ECF6",
            "gridcolor": "white",
            "gridwidth": 2,
            "linecolor": "white",
            "showbackground": true,
            "ticks": "",
            "zerolinecolor": "white"
           }
          },
          "shapedefaults": {
           "line": {
            "color": "#2a3f5f"
           }
          },
          "ternary": {
           "aaxis": {
            "gridcolor": "white",
            "linecolor": "white",
            "ticks": ""
           },
           "baxis": {
            "gridcolor": "white",
            "linecolor": "white",
            "ticks": ""
           },
           "bgcolor": "#E5ECF6",
           "caxis": {
            "gridcolor": "white",
            "linecolor": "white",
            "ticks": ""
           }
          },
          "title": {
           "x": 0.05
          },
          "xaxis": {
           "automargin": true,
           "gridcolor": "white",
           "linecolor": "white",
           "ticks": "",
           "title": {
            "standoff": 15
           },
           "zerolinecolor": "white",
           "zerolinewidth": 2
          },
          "yaxis": {
           "automargin": true,
           "gridcolor": "white",
           "linecolor": "white",
           "ticks": "",
           "title": {
            "standoff": 15
           },
           "zerolinecolor": "white",
           "zerolinewidth": 2
          }
         }
        },
        "xaxis": {
         "anchor": "y",
         "domain": [
          0,
          1
         ],
         "rangeselector": {
          "buttons": [
           {
            "count": 1,
            "label": "1m",
            "step": "month",
            "stepmode": "backward"
           },
           {
            "count": 6,
            "label": "6m",
            "step": "month",
            "stepmode": "backward"
           },
           {
            "count": 1,
            "label": "YTD",
            "step": "year",
            "stepmode": "todate"
           },
           {
            "count": 1,
            "label": "1y",
            "step": "year",
            "stepmode": "backward"
           },
           {
            "step": "all"
           }
          ]
         },
         "rangeslider": {
          "visible": true
         },
         "title": {
          "text": "start_date_local"
         }
        },
        "yaxis": {
         "anchor": "x",
         "domain": [
          0,
          1
         ],
         "title": {
          "text": "max_heartrate"
         }
        }
       }
      },
      "text/html": [
       "<div>                            <div id=\"8a94d7a9-c0f8-499e-95c9-3c456b8f6943\" class=\"plotly-graph-div\" style=\"height:525px; width:100%;\"></div>            <script type=\"text/javascript\">                require([\"plotly\"], function(Plotly) {                    window.PLOTLYENV=window.PLOTLYENV || {};                                    if (document.getElementById(\"8a94d7a9-c0f8-499e-95c9-3c456b8f6943\")) {                    Plotly.newPlot(                        \"8a94d7a9-c0f8-499e-95c9-3c456b8f6943\",                        [{\"hovertemplate\": \"type=Ride<br>start_date_local=%{x}<br>max_heartrate=%{y}<extra></extra>\", \"legendgroup\": \"Ride\", \"marker\": {\"color\": \"#636efa\", \"symbol\": \"circle\"}, \"mode\": \"markers\", \"name\": \"Ride\", \"orientation\": \"v\", \"showlegend\": true, \"type\": \"scatter\", \"x\": [\"2021-04-07\", \"2021-04-06\", \"2021-04-01\", \"2021-04-01\", \"2021-04-01\", \"2021-03-30\", \"2021-03-28\", \"2021-03-26\", \"2021-03-25\", \"2021-03-23\", \"2021-03-21\", \"2021-03-20\", \"2021-03-19\", \"2021-03-17\", \"2021-03-16\", \"2021-03-14\", \"2021-03-12\", \"2021-03-09\", \"2021-03-07\", \"2021-03-06\", \"2021-03-05\", \"2021-03-04\", \"2021-03-02\", \"2021-02-28\", \"2021-02-27\", \"2021-02-17\", \"2021-02-14\", \"2021-02-13\", \"2021-02-11\", \"2021-02-10\", \"2021-02-07\", \"2021-02-06\", \"2021-02-04\", \"2021-02-02\", \"2021-01-31\", \"2021-01-30\", \"2021-01-29\", \"2021-01-27\", \"2021-01-24\", \"2021-01-23\", \"2021-01-21\", \"2021-01-17\", \"2021-01-16\", \"2021-01-14\", \"2021-01-12\", \"2021-01-09\", \"2021-01-08\", \"2021-01-06\", \"2021-01-03\", \"2021-01-02\", \"2020-12-31\", \"2020-12-28\", \"2020-12-26\", \"2020-12-25\", \"2020-12-23\", \"2020-12-22\", \"2020-12-19\", \"2020-12-17\", \"2020-12-13\", \"2020-12-12\", \"2020-12-09\", \"2020-12-08\", \"2020-12-06\", \"2020-12-03\", \"2020-11-30\", \"2020-11-29\", \"2020-11-26\", \"2020-11-24\", \"2020-11-22\", \"2020-11-21\", \"2020-11-20\", \"2020-11-17\", \"2020-11-15\", \"2020-11-12\", \"2020-11-08\", \"2020-11-06\", \"2020-11-03\", \"2020-11-01\", \"2020-10-24\", \"2020-10-22\", \"2020-10-20\", \"2020-10-18\", \"2020-10-14\", \"2020-10-11\", \"2020-10-06\", \"2020-07-11\", \"2020-05-10\", \"2020-05-03\", \"2020-04-23\", \"2020-04-17\", \"2020-04-12\", \"2020-04-07\", \"2020-01-10\", \"2019-09-14\", \"2019-09-12\"], \"xaxis\": \"x\", \"y\": [155.0, 150.0, 148.0, 150.0, 151.0, 157.0, 153.0, 166.0, 139.0, 153.0, 160.0, 148.0, 161.0, 156.0, 153.0, 160.0, 155.0, 150.0, 150.0, 162.0, 153.0, 162.0, 161.0, 160.0, 162.0, 158.0, 150.0, 163.0, 161.0, 162.0, 155.0, 156.0, 161.0, 152.0, 151.0, 158.0, 147.0, 157.0, 154.0, 155.0, 157.0, 153.0, 143.0, 141.0, 157.0, 152.0, 159.0, 154.0, 154.0, 159.0, 158.0, 163.0, 157.0, 160.0, 163.0, 160.0, 166.0, 155.0, 158.0, 162.0, 156.0, 152.0, 160.0, 156.0, 154.0, 148.0, 159.0, 159.0, 161.0, 158.0, 160.0, 160.0, 152.0, 159.0, 152.0, 156.0, 153.0, 165.0, 162.0, 148.0, 165.0, 157.0, 164.0, 161.0, 157.0, 157.0, 170.0, 172.0, 153.0, 157.0, 152.0, 153.0, 152.0, 167.0, 151.0], \"yaxis\": \"y\"}, {\"hovertemplate\": \"type=Run<br>start_date_local=%{x}<br>max_heartrate=%{y}<extra></extra>\", \"legendgroup\": \"Run\", \"marker\": {\"color\": \"#EF553B\", \"symbol\": \"circle\"}, \"mode\": \"markers\", \"name\": \"Run\", \"orientation\": \"v\", \"showlegend\": true, \"type\": \"scatter\", \"x\": [\"2021-01-19\", \"2021-01-15\", \"2021-01-10\", \"2020-12-20\", \"2020-12-15\", \"2020-12-10\", \"2020-12-04\", \"2020-12-02\", \"2020-11-28\", \"2020-11-26\", \"2020-11-23\", \"2020-11-07\", \"2020-11-04\", \"2020-11-02\", \"2020-10-30\", \"2020-10-28\", \"2020-10-26\", \"2020-10-23\", \"2020-10-20\", \"2020-10-18\", \"2020-10-16\", \"2020-08-31\", \"2020-03-27\", \"2020-03-25\", \"2020-03-22\", \"2020-03-19\", \"2020-01-03\", \"2019-12-31\", \"2019-12-25\", \"2019-12-22\", \"2019-12-21\", \"2019-12-17\", \"2019-12-04\", \"2019-12-02\", \"2019-11-26\", \"2019-11-22\", \"2019-11-19\", \"2019-11-17\", \"2019-11-14\", \"2019-08-27\", \"2019-08-22\", \"2019-08-19\", \"2019-08-15\", \"2019-08-12\", \"2019-08-09\", \"2019-08-06\", \"2019-08-03\", \"2019-07-31\", \"2019-07-29\", \"2019-07-24\", \"2019-07-22\", \"2019-07-19\", \"2019-07-14\", \"2019-07-12\", \"2019-07-10\", \"2019-07-08\"], \"xaxis\": \"x\", \"y\": [154.0, 154.0, 158.0, 161.0, 159.0, 158.0, 164.0, 161.0, 165.0, 164.0, 159.0, 158.0, 161.0, 168.0, 166.0, 161.0, 155.0, 164.0, 164.0, 166.0, 165.0, 171.0, 165.0, 152.0, 171.0, 166.0, 165.0, 178.0, 167.0, 166.0, 158.0, 165.0, 167.0, 166.0, 163.0, 171.0, 168.0, 172.0, 169.0, 166.0, 168.0, 164.0, 168.0, 151.0, 167.0, 164.0, 166.0, 166.0, 165.0, 157.0, 170.0, 177.0, 170.0, 161.0, 169.0, 177.0], \"yaxis\": \"y\"}],                        {\"legend\": {\"title\": {\"text\": \"type\"}, \"tracegroupgap\": 0}, \"margin\": {\"t\": 60}, \"template\": {\"data\": {\"bar\": [{\"error_x\": {\"color\": \"#2a3f5f\"}, \"error_y\": {\"color\": \"#2a3f5f\"}, \"marker\": {\"line\": {\"color\": \"#E5ECF6\", \"width\": 0.5}}, \"type\": \"bar\"}], \"barpolar\": [{\"marker\": {\"line\": {\"color\": \"#E5ECF6\", \"width\": 0.5}}, \"type\": \"barpolar\"}], \"carpet\": [{\"aaxis\": {\"endlinecolor\": \"#2a3f5f\", \"gridcolor\": \"white\", \"linecolor\": \"white\", \"minorgridcolor\": \"white\", \"startlinecolor\": \"#2a3f5f\"}, \"baxis\": {\"endlinecolor\": \"#2a3f5f\", \"gridcolor\": \"white\", \"linecolor\": \"white\", \"minorgridcolor\": \"white\", \"startlinecolor\": \"#2a3f5f\"}, \"type\": \"carpet\"}], \"choropleth\": [{\"colorbar\": {\"outlinewidth\": 0, \"ticks\": \"\"}, \"type\": \"choropleth\"}], \"contour\": [{\"colorbar\": {\"outlinewidth\": 0, \"ticks\": \"\"}, \"colorscale\": [[0.0, \"#0d0887\"], [0.1111111111111111, \"#46039f\"], [0.2222222222222222, \"#7201a8\"], [0.3333333333333333, \"#9c179e\"], [0.4444444444444444, \"#bd3786\"], [0.5555555555555556, \"#d8576b\"], [0.6666666666666666, \"#ed7953\"], [0.7777777777777778, \"#fb9f3a\"], [0.8888888888888888, \"#fdca26\"], [1.0, \"#f0f921\"]], \"type\": \"contour\"}], \"contourcarpet\": [{\"colorbar\": {\"outlinewidth\": 0, \"ticks\": \"\"}, \"type\": \"contourcarpet\"}], \"heatmap\": [{\"colorbar\": {\"outlinewidth\": 0, \"ticks\": \"\"}, \"colorscale\": [[0.0, \"#0d0887\"], [0.1111111111111111, \"#46039f\"], [0.2222222222222222, \"#7201a8\"], [0.3333333333333333, \"#9c179e\"], [0.4444444444444444, \"#bd3786\"], [0.5555555555555556, \"#d8576b\"], [0.6666666666666666, \"#ed7953\"], [0.7777777777777778, \"#fb9f3a\"], [0.8888888888888888, \"#fdca26\"], [1.0, \"#f0f921\"]], \"type\": \"heatmap\"}], \"heatmapgl\": [{\"colorbar\": {\"outlinewidth\": 0, \"ticks\": \"\"}, \"colorscale\": [[0.0, \"#0d0887\"], [0.1111111111111111, \"#46039f\"], [0.2222222222222222, \"#7201a8\"], [0.3333333333333333, \"#9c179e\"], [0.4444444444444444, \"#bd3786\"], [0.5555555555555556, \"#d8576b\"], [0.6666666666666666, \"#ed7953\"], [0.7777777777777778, \"#fb9f3a\"], [0.8888888888888888, \"#fdca26\"], [1.0, \"#f0f921\"]], \"type\": \"heatmapgl\"}], \"histogram\": [{\"marker\": {\"colorbar\": {\"outlinewidth\": 0, \"ticks\": \"\"}}, \"type\": \"histogram\"}], \"histogram2d\": [{\"colorbar\": {\"outlinewidth\": 0, \"ticks\": \"\"}, \"colorscale\": [[0.0, \"#0d0887\"], [0.1111111111111111, \"#46039f\"], [0.2222222222222222, \"#7201a8\"], [0.3333333333333333, \"#9c179e\"], [0.4444444444444444, \"#bd3786\"], [0.5555555555555556, \"#d8576b\"], [0.6666666666666666, \"#ed7953\"], [0.7777777777777778, \"#fb9f3a\"], [0.8888888888888888, \"#fdca26\"], [1.0, \"#f0f921\"]], \"type\": \"histogram2d\"}], \"histogram2dcontour\": [{\"colorbar\": {\"outlinewidth\": 0, \"ticks\": \"\"}, \"colorscale\": [[0.0, \"#0d0887\"], [0.1111111111111111, \"#46039f\"], [0.2222222222222222, \"#7201a8\"], [0.3333333333333333, \"#9c179e\"], [0.4444444444444444, \"#bd3786\"], [0.5555555555555556, \"#d8576b\"], [0.6666666666666666, \"#ed7953\"], [0.7777777777777778, \"#fb9f3a\"], [0.8888888888888888, \"#fdca26\"], [1.0, \"#f0f921\"]], \"type\": \"histogram2dcontour\"}], \"mesh3d\": [{\"colorbar\": {\"outlinewidth\": 0, \"ticks\": \"\"}, \"type\": \"mesh3d\"}], \"parcoords\": [{\"line\": {\"colorbar\": {\"outlinewidth\": 0, \"ticks\": \"\"}}, \"type\": \"parcoords\"}], \"pie\": [{\"automargin\": true, \"type\": \"pie\"}], \"scatter\": [{\"marker\": {\"colorbar\": {\"outlinewidth\": 0, \"ticks\": \"\"}}, \"type\": \"scatter\"}], \"scatter3d\": [{\"line\": {\"colorbar\": {\"outlinewidth\": 0, \"ticks\": \"\"}}, \"marker\": {\"colorbar\": {\"outlinewidth\": 0, \"ticks\": \"\"}}, \"type\": \"scatter3d\"}], \"scattercarpet\": [{\"marker\": {\"colorbar\": {\"outlinewidth\": 0, \"ticks\": \"\"}}, \"type\": \"scattercarpet\"}], \"scattergeo\": [{\"marker\": {\"colorbar\": {\"outlinewidth\": 0, \"ticks\": \"\"}}, \"type\": \"scattergeo\"}], \"scattergl\": [{\"marker\": {\"colorbar\": {\"outlinewidth\": 0, \"ticks\": \"\"}}, \"type\": \"scattergl\"}], \"scattermapbox\": [{\"marker\": {\"colorbar\": {\"outlinewidth\": 0, \"ticks\": \"\"}}, \"type\": \"scattermapbox\"}], \"scatterpolar\": [{\"marker\": {\"colorbar\": {\"outlinewidth\": 0, \"ticks\": \"\"}}, \"type\": \"scatterpolar\"}], \"scatterpolargl\": [{\"marker\": {\"colorbar\": {\"outlinewidth\": 0, \"ticks\": \"\"}}, \"type\": \"scatterpolargl\"}], \"scatterternary\": [{\"marker\": {\"colorbar\": {\"outlinewidth\": 0, \"ticks\": \"\"}}, \"type\": \"scatterternary\"}], \"surface\": [{\"colorbar\": {\"outlinewidth\": 0, \"ticks\": \"\"}, \"colorscale\": [[0.0, \"#0d0887\"], [0.1111111111111111, \"#46039f\"], [0.2222222222222222, \"#7201a8\"], [0.3333333333333333, \"#9c179e\"], [0.4444444444444444, \"#bd3786\"], [0.5555555555555556, \"#d8576b\"], [0.6666666666666666, \"#ed7953\"], [0.7777777777777778, \"#fb9f3a\"], [0.8888888888888888, \"#fdca26\"], [1.0, \"#f0f921\"]], \"type\": \"surface\"}], \"table\": [{\"cells\": {\"fill\": {\"color\": \"#EBF0F8\"}, \"line\": {\"color\": \"white\"}}, \"header\": {\"fill\": {\"color\": \"#C8D4E3\"}, \"line\": {\"color\": \"white\"}}, \"type\": \"table\"}]}, \"layout\": {\"annotationdefaults\": {\"arrowcolor\": \"#2a3f5f\", \"arrowhead\": 0, \"arrowwidth\": 1}, \"autotypenumbers\": \"strict\", \"coloraxis\": {\"colorbar\": {\"outlinewidth\": 0, \"ticks\": \"\"}}, \"colorscale\": {\"diverging\": [[0, \"#8e0152\"], [0.1, \"#c51b7d\"], [0.2, \"#de77ae\"], [0.3, \"#f1b6da\"], [0.4, \"#fde0ef\"], [0.5, \"#f7f7f7\"], [0.6, \"#e6f5d0\"], [0.7, \"#b8e186\"], [0.8, \"#7fbc41\"], [0.9, \"#4d9221\"], [1, \"#276419\"]], \"sequential\": [[0.0, \"#0d0887\"], [0.1111111111111111, \"#46039f\"], [0.2222222222222222, \"#7201a8\"], [0.3333333333333333, \"#9c179e\"], [0.4444444444444444, \"#bd3786\"], [0.5555555555555556, \"#d8576b\"], [0.6666666666666666, \"#ed7953\"], [0.7777777777777778, \"#fb9f3a\"], [0.8888888888888888, \"#fdca26\"], [1.0, \"#f0f921\"]], \"sequentialminus\": [[0.0, \"#0d0887\"], [0.1111111111111111, \"#46039f\"], [0.2222222222222222, \"#7201a8\"], [0.3333333333333333, \"#9c179e\"], [0.4444444444444444, \"#bd3786\"], [0.5555555555555556, \"#d8576b\"], [0.6666666666666666, \"#ed7953\"], [0.7777777777777778, \"#fb9f3a\"], [0.8888888888888888, \"#fdca26\"], [1.0, \"#f0f921\"]]}, \"colorway\": [\"#636efa\", \"#EF553B\", \"#00cc96\", \"#ab63fa\", \"#FFA15A\", \"#19d3f3\", \"#FF6692\", \"#B6E880\", \"#FF97FF\", \"#FECB52\"], \"font\": {\"color\": \"#2a3f5f\"}, \"geo\": {\"bgcolor\": \"white\", \"lakecolor\": \"white\", \"landcolor\": \"#E5ECF6\", \"showlakes\": true, \"showland\": true, \"subunitcolor\": \"white\"}, \"hoverlabel\": {\"align\": \"left\"}, \"hovermode\": \"closest\", \"mapbox\": {\"style\": \"light\"}, \"paper_bgcolor\": \"white\", \"plot_bgcolor\": \"#E5ECF6\", \"polar\": {\"angularaxis\": {\"gridcolor\": \"white\", \"linecolor\": \"white\", \"ticks\": \"\"}, \"bgcolor\": \"#E5ECF6\", \"radialaxis\": {\"gridcolor\": \"white\", \"linecolor\": \"white\", \"ticks\": \"\"}}, \"scene\": {\"xaxis\": {\"backgroundcolor\": \"#E5ECF6\", \"gridcolor\": \"white\", \"gridwidth\": 2, \"linecolor\": \"white\", \"showbackground\": true, \"ticks\": \"\", \"zerolinecolor\": \"white\"}, \"yaxis\": {\"backgroundcolor\": \"#E5ECF6\", \"gridcolor\": \"white\", \"gridwidth\": 2, \"linecolor\": \"white\", \"showbackground\": true, \"ticks\": \"\", \"zerolinecolor\": \"white\"}, \"zaxis\": {\"backgroundcolor\": \"#E5ECF6\", \"gridcolor\": \"white\", \"gridwidth\": 2, \"linecolor\": \"white\", \"showbackground\": true, \"ticks\": \"\", \"zerolinecolor\": \"white\"}}, \"shapedefaults\": {\"line\": {\"color\": \"#2a3f5f\"}}, \"ternary\": {\"aaxis\": {\"gridcolor\": \"white\", \"linecolor\": \"white\", \"ticks\": \"\"}, \"baxis\": {\"gridcolor\": \"white\", \"linecolor\": \"white\", \"ticks\": \"\"}, \"bgcolor\": \"#E5ECF6\", \"caxis\": {\"gridcolor\": \"white\", \"linecolor\": \"white\", \"ticks\": \"\"}}, \"title\": {\"x\": 0.05}, \"xaxis\": {\"automargin\": true, \"gridcolor\": \"white\", \"linecolor\": \"white\", \"ticks\": \"\", \"title\": {\"standoff\": 15}, \"zerolinecolor\": \"white\", \"zerolinewidth\": 2}, \"yaxis\": {\"automargin\": true, \"gridcolor\": \"white\", \"linecolor\": \"white\", \"ticks\": \"\", \"title\": {\"standoff\": 15}, \"zerolinecolor\": \"white\", \"zerolinewidth\": 2}}}, \"xaxis\": {\"anchor\": \"y\", \"domain\": [0.0, 1.0], \"rangeselector\": {\"buttons\": [{\"count\": 1, \"label\": \"1m\", \"step\": \"month\", \"stepmode\": \"backward\"}, {\"count\": 6, \"label\": \"6m\", \"step\": \"month\", \"stepmode\": \"backward\"}, {\"count\": 1, \"label\": \"YTD\", \"step\": \"year\", \"stepmode\": \"todate\"}, {\"count\": 1, \"label\": \"1y\", \"step\": \"year\", \"stepmode\": \"backward\"}, {\"step\": \"all\"}]}, \"rangeslider\": {\"visible\": true}, \"title\": {\"text\": \"start_date_local\"}}, \"yaxis\": {\"anchor\": \"x\", \"domain\": [0.0, 1.0], \"title\": {\"text\": \"max_heartrate\"}}},                        {\"responsive\": true}                    ).then(function(){\n",
       "                            \n",
       "var gd = document.getElementById('8a94d7a9-c0f8-499e-95c9-3c456b8f6943');\n",
       "var x = new MutationObserver(function (mutations, observer) {{\n",
       "        var display = window.getComputedStyle(gd).display;\n",
       "        if (!display || display === 'none') {{\n",
       "            console.log([gd, 'removed!']);\n",
       "            Plotly.purge(gd);\n",
       "            observer.disconnect();\n",
       "        }}\n",
       "}});\n",
       "\n",
       "// Listen for the removal of the full notebook cells\n",
       "var notebookContainer = gd.closest('#notebook-container');\n",
       "if (notebookContainer) {{\n",
       "    x.observe(notebookContainer, {childList: true});\n",
       "}}\n",
       "\n",
       "// Listen for the clearing of the current output cell\n",
       "var outputEl = gd.closest('.output');\n",
       "if (outputEl) {{\n",
       "    x.observe(outputEl, {childList: true});\n",
       "}}\n",
       "\n",
       "                        })                };                });            </script>        </div>"
      ]
     },
     "metadata": {},
     "output_type": "display_data"
    }
   ],
   "source": [
    "fig = px.scatter(_df, x='start_date_local', y='max_heartrate', color='type')\n",
    "fig.update_xaxes(rangeslider_visible=True,\n",
    "                 rangeselector=dict(\n",
    "                     buttons=list([\n",
    "                         dict(count=1, label=\"1m\", step=\"month\", stepmode=\"backward\"),\n",
    "                         dict(count=6, label=\"6m\", step=\"month\", stepmode=\"backward\"),\n",
    "                         dict(count=1, label=\"YTD\", step=\"year\", stepmode=\"todate\"),\n",
    "                         dict(count=1, label=\"1y\", step=\"year\", stepmode=\"backward\"),\n",
    "                         dict(step=\"all\")\n",
    "                     ]))\n",
    "                )\n",
    "fig.show()"
   ]
  },
  {
   "cell_type": "code",
   "execution_count": 34,
   "id": "1aa25d2a",
   "metadata": {},
   "outputs": [
    {
     "data": {
      "application/vnd.plotly.v1+json": {
       "config": {
        "plotlyServerURL": "https://plot.ly"
       },
       "data": [
        {
         "hovertemplate": "type=Ride<br>start_date_local=%{x}<br>max_heartrate=%{y}<extra></extra>",
         "legendgroup": "Ride",
         "marker": {
          "color": "#636efa",
          "symbol": "circle"
         },
         "mode": "markers",
         "name": "Ride",
         "orientation": "v",
         "showlegend": true,
         "type": "scatter",
         "x": [
          "2021-04-07",
          "2021-04-06",
          "2021-04-01",
          "2021-04-01",
          "2021-04-01",
          "2021-03-30",
          "2021-03-28",
          "2021-03-26",
          "2021-03-25",
          "2021-03-23",
          "2021-03-21",
          "2021-03-20",
          "2021-03-19",
          "2021-03-17",
          "2021-03-16",
          "2021-03-14",
          "2021-03-12",
          "2021-03-09",
          "2021-03-07",
          "2021-03-06",
          "2021-03-05",
          "2021-03-04",
          "2021-03-02",
          "2021-02-28",
          "2021-02-27",
          "2021-02-17",
          "2021-02-14",
          "2021-02-13",
          "2021-02-11",
          "2021-02-10",
          "2021-02-07",
          "2021-02-06",
          "2021-02-04",
          "2021-02-02",
          "2021-01-31",
          "2021-01-30",
          "2021-01-29",
          "2021-01-27",
          "2021-01-24",
          "2021-01-23",
          "2021-01-21",
          "2021-01-17",
          "2021-01-16",
          "2021-01-14",
          "2021-01-12",
          "2021-01-09",
          "2021-01-08",
          "2021-01-06",
          "2021-01-03",
          "2021-01-02",
          "2020-12-31",
          "2020-12-28",
          "2020-12-26",
          "2020-12-25",
          "2020-12-23",
          "2020-12-22",
          "2020-12-19",
          "2020-12-17",
          "2020-12-13",
          "2020-12-12",
          "2020-12-09",
          "2020-12-08",
          "2020-12-06",
          "2020-12-03",
          "2020-11-30",
          "2020-11-29",
          "2020-11-26",
          "2020-11-24",
          "2020-11-22",
          "2020-11-21",
          "2020-11-20",
          "2020-11-17",
          "2020-11-15",
          "2020-11-12",
          "2020-11-08",
          "2020-11-06",
          "2020-11-03",
          "2020-11-01",
          "2020-10-24",
          "2020-10-22",
          "2020-10-20",
          "2020-10-18",
          "2020-10-14",
          "2020-10-11",
          "2020-10-06",
          "2020-07-11",
          "2020-05-10",
          "2020-05-03",
          "2020-04-23",
          "2020-04-17",
          "2020-04-12",
          "2020-04-07",
          "2020-01-10",
          "2019-09-14",
          "2019-09-12"
         ],
         "xaxis": "x",
         "y": [
          155,
          150,
          148,
          150,
          151,
          157,
          153,
          166,
          139,
          153,
          160,
          148,
          161,
          156,
          153,
          160,
          155,
          150,
          150,
          162,
          153,
          162,
          161,
          160,
          162,
          158,
          150,
          163,
          161,
          162,
          155,
          156,
          161,
          152,
          151,
          158,
          147,
          157,
          154,
          155,
          157,
          153,
          143,
          141,
          157,
          152,
          159,
          154,
          154,
          159,
          158,
          163,
          157,
          160,
          163,
          160,
          166,
          155,
          158,
          162,
          156,
          152,
          160,
          156,
          154,
          148,
          159,
          159,
          161,
          158,
          160,
          160,
          152,
          159,
          152,
          156,
          153,
          165,
          162,
          148,
          165,
          157,
          164,
          161,
          157,
          157,
          170,
          172,
          153,
          157,
          152,
          153,
          152,
          167,
          151
         ],
         "yaxis": "y"
        },
        {
         "alignmentgroup": "True",
         "hovertemplate": "type=Ride<br>max_heartrate=%{y}<extra></extra>",
         "legendgroup": "Ride",
         "marker": {
          "color": "#636efa",
          "symbol": "circle"
         },
         "name": "Ride",
         "notched": true,
         "offsetgroup": "Ride",
         "showlegend": false,
         "type": "box",
         "xaxis": "x2",
         "y": [
          155,
          150,
          148,
          150,
          151,
          157,
          153,
          166,
          139,
          153,
          160,
          148,
          161,
          156,
          153,
          160,
          155,
          150,
          150,
          162,
          153,
          162,
          161,
          160,
          162,
          158,
          150,
          163,
          161,
          162,
          155,
          156,
          161,
          152,
          151,
          158,
          147,
          157,
          154,
          155,
          157,
          153,
          143,
          141,
          157,
          152,
          159,
          154,
          154,
          159,
          158,
          163,
          157,
          160,
          163,
          160,
          166,
          155,
          158,
          162,
          156,
          152,
          160,
          156,
          154,
          148,
          159,
          159,
          161,
          158,
          160,
          160,
          152,
          159,
          152,
          156,
          153,
          165,
          162,
          148,
          165,
          157,
          164,
          161,
          157,
          157,
          170,
          172,
          153,
          157,
          152,
          153,
          152,
          167,
          151
         ],
         "yaxis": "y2"
        },
        {
         "hovertemplate": "type=Run<br>start_date_local=%{x}<br>max_heartrate=%{y}<extra></extra>",
         "legendgroup": "Run",
         "marker": {
          "color": "#EF553B",
          "symbol": "circle"
         },
         "mode": "markers",
         "name": "Run",
         "orientation": "v",
         "showlegend": true,
         "type": "scatter",
         "x": [
          "2021-01-19",
          "2021-01-15",
          "2021-01-10",
          "2020-12-20",
          "2020-12-15",
          "2020-12-10",
          "2020-12-04",
          "2020-12-02",
          "2020-11-28",
          "2020-11-26",
          "2020-11-23",
          "2020-11-07",
          "2020-11-04",
          "2020-11-02",
          "2020-10-30",
          "2020-10-28",
          "2020-10-26",
          "2020-10-23",
          "2020-10-20",
          "2020-10-18",
          "2020-10-16",
          "2020-08-31",
          "2020-03-27",
          "2020-03-25",
          "2020-03-22",
          "2020-03-19",
          "2020-01-03",
          "2019-12-31",
          "2019-12-25",
          "2019-12-22",
          "2019-12-21",
          "2019-12-17",
          "2019-12-04",
          "2019-12-02",
          "2019-11-26",
          "2019-11-22",
          "2019-11-19",
          "2019-11-17",
          "2019-11-14",
          "2019-08-27",
          "2019-08-22",
          "2019-08-19",
          "2019-08-15",
          "2019-08-12",
          "2019-08-09",
          "2019-08-06",
          "2019-08-03",
          "2019-07-31",
          "2019-07-29",
          "2019-07-24",
          "2019-07-22",
          "2019-07-19",
          "2019-07-14",
          "2019-07-12",
          "2019-07-10",
          "2019-07-08"
         ],
         "xaxis": "x",
         "y": [
          154,
          154,
          158,
          161,
          159,
          158,
          164,
          161,
          165,
          164,
          159,
          158,
          161,
          168,
          166,
          161,
          155,
          164,
          164,
          166,
          165,
          171,
          165,
          152,
          171,
          166,
          165,
          178,
          167,
          166,
          158,
          165,
          167,
          166,
          163,
          171,
          168,
          172,
          169,
          166,
          168,
          164,
          168,
          151,
          167,
          164,
          166,
          166,
          165,
          157,
          170,
          177,
          170,
          161,
          169,
          177
         ],
         "yaxis": "y"
        },
        {
         "alignmentgroup": "True",
         "hovertemplate": "type=Run<br>max_heartrate=%{y}<extra></extra>",
         "legendgroup": "Run",
         "marker": {
          "color": "#EF553B",
          "symbol": "circle"
         },
         "name": "Run",
         "notched": true,
         "offsetgroup": "Run",
         "showlegend": false,
         "type": "box",
         "xaxis": "x2",
         "y": [
          154,
          154,
          158,
          161,
          159,
          158,
          164,
          161,
          165,
          164,
          159,
          158,
          161,
          168,
          166,
          161,
          155,
          164,
          164,
          166,
          165,
          171,
          165,
          152,
          171,
          166,
          165,
          178,
          167,
          166,
          158,
          165,
          167,
          166,
          163,
          171,
          168,
          172,
          169,
          166,
          168,
          164,
          168,
          151,
          167,
          164,
          166,
          166,
          165,
          157,
          170,
          177,
          170,
          161,
          169,
          177
         ],
         "yaxis": "y2"
        }
       ],
       "layout": {
        "legend": {
         "title": {
          "text": "type"
         },
         "tracegroupgap": 0
        },
        "margin": {
         "t": 60
        },
        "template": {
         "data": {
          "bar": [
           {
            "error_x": {
             "color": "#2a3f5f"
            },
            "error_y": {
             "color": "#2a3f5f"
            },
            "marker": {
             "line": {
              "color": "#E5ECF6",
              "width": 0.5
             }
            },
            "type": "bar"
           }
          ],
          "barpolar": [
           {
            "marker": {
             "line": {
              "color": "#E5ECF6",
              "width": 0.5
             }
            },
            "type": "barpolar"
           }
          ],
          "carpet": [
           {
            "aaxis": {
             "endlinecolor": "#2a3f5f",
             "gridcolor": "white",
             "linecolor": "white",
             "minorgridcolor": "white",
             "startlinecolor": "#2a3f5f"
            },
            "baxis": {
             "endlinecolor": "#2a3f5f",
             "gridcolor": "white",
             "linecolor": "white",
             "minorgridcolor": "white",
             "startlinecolor": "#2a3f5f"
            },
            "type": "carpet"
           }
          ],
          "choropleth": [
           {
            "colorbar": {
             "outlinewidth": 0,
             "ticks": ""
            },
            "type": "choropleth"
           }
          ],
          "contour": [
           {
            "colorbar": {
             "outlinewidth": 0,
             "ticks": ""
            },
            "colorscale": [
             [
              0,
              "#0d0887"
             ],
             [
              0.1111111111111111,
              "#46039f"
             ],
             [
              0.2222222222222222,
              "#7201a8"
             ],
             [
              0.3333333333333333,
              "#9c179e"
             ],
             [
              0.4444444444444444,
              "#bd3786"
             ],
             [
              0.5555555555555556,
              "#d8576b"
             ],
             [
              0.6666666666666666,
              "#ed7953"
             ],
             [
              0.7777777777777778,
              "#fb9f3a"
             ],
             [
              0.8888888888888888,
              "#fdca26"
             ],
             [
              1,
              "#f0f921"
             ]
            ],
            "type": "contour"
           }
          ],
          "contourcarpet": [
           {
            "colorbar": {
             "outlinewidth": 0,
             "ticks": ""
            },
            "type": "contourcarpet"
           }
          ],
          "heatmap": [
           {
            "colorbar": {
             "outlinewidth": 0,
             "ticks": ""
            },
            "colorscale": [
             [
              0,
              "#0d0887"
             ],
             [
              0.1111111111111111,
              "#46039f"
             ],
             [
              0.2222222222222222,
              "#7201a8"
             ],
             [
              0.3333333333333333,
              "#9c179e"
             ],
             [
              0.4444444444444444,
              "#bd3786"
             ],
             [
              0.5555555555555556,
              "#d8576b"
             ],
             [
              0.6666666666666666,
              "#ed7953"
             ],
             [
              0.7777777777777778,
              "#fb9f3a"
             ],
             [
              0.8888888888888888,
              "#fdca26"
             ],
             [
              1,
              "#f0f921"
             ]
            ],
            "type": "heatmap"
           }
          ],
          "heatmapgl": [
           {
            "colorbar": {
             "outlinewidth": 0,
             "ticks": ""
            },
            "colorscale": [
             [
              0,
              "#0d0887"
             ],
             [
              0.1111111111111111,
              "#46039f"
             ],
             [
              0.2222222222222222,
              "#7201a8"
             ],
             [
              0.3333333333333333,
              "#9c179e"
             ],
             [
              0.4444444444444444,
              "#bd3786"
             ],
             [
              0.5555555555555556,
              "#d8576b"
             ],
             [
              0.6666666666666666,
              "#ed7953"
             ],
             [
              0.7777777777777778,
              "#fb9f3a"
             ],
             [
              0.8888888888888888,
              "#fdca26"
             ],
             [
              1,
              "#f0f921"
             ]
            ],
            "type": "heatmapgl"
           }
          ],
          "histogram": [
           {
            "marker": {
             "colorbar": {
              "outlinewidth": 0,
              "ticks": ""
             }
            },
            "type": "histogram"
           }
          ],
          "histogram2d": [
           {
            "colorbar": {
             "outlinewidth": 0,
             "ticks": ""
            },
            "colorscale": [
             [
              0,
              "#0d0887"
             ],
             [
              0.1111111111111111,
              "#46039f"
             ],
             [
              0.2222222222222222,
              "#7201a8"
             ],
             [
              0.3333333333333333,
              "#9c179e"
             ],
             [
              0.4444444444444444,
              "#bd3786"
             ],
             [
              0.5555555555555556,
              "#d8576b"
             ],
             [
              0.6666666666666666,
              "#ed7953"
             ],
             [
              0.7777777777777778,
              "#fb9f3a"
             ],
             [
              0.8888888888888888,
              "#fdca26"
             ],
             [
              1,
              "#f0f921"
             ]
            ],
            "type": "histogram2d"
           }
          ],
          "histogram2dcontour": [
           {
            "colorbar": {
             "outlinewidth": 0,
             "ticks": ""
            },
            "colorscale": [
             [
              0,
              "#0d0887"
             ],
             [
              0.1111111111111111,
              "#46039f"
             ],
             [
              0.2222222222222222,
              "#7201a8"
             ],
             [
              0.3333333333333333,
              "#9c179e"
             ],
             [
              0.4444444444444444,
              "#bd3786"
             ],
             [
              0.5555555555555556,
              "#d8576b"
             ],
             [
              0.6666666666666666,
              "#ed7953"
             ],
             [
              0.7777777777777778,
              "#fb9f3a"
             ],
             [
              0.8888888888888888,
              "#fdca26"
             ],
             [
              1,
              "#f0f921"
             ]
            ],
            "type": "histogram2dcontour"
           }
          ],
          "mesh3d": [
           {
            "colorbar": {
             "outlinewidth": 0,
             "ticks": ""
            },
            "type": "mesh3d"
           }
          ],
          "parcoords": [
           {
            "line": {
             "colorbar": {
              "outlinewidth": 0,
              "ticks": ""
             }
            },
            "type": "parcoords"
           }
          ],
          "pie": [
           {
            "automargin": true,
            "type": "pie"
           }
          ],
          "scatter": [
           {
            "marker": {
             "colorbar": {
              "outlinewidth": 0,
              "ticks": ""
             }
            },
            "type": "scatter"
           }
          ],
          "scatter3d": [
           {
            "line": {
             "colorbar": {
              "outlinewidth": 0,
              "ticks": ""
             }
            },
            "marker": {
             "colorbar": {
              "outlinewidth": 0,
              "ticks": ""
             }
            },
            "type": "scatter3d"
           }
          ],
          "scattercarpet": [
           {
            "marker": {
             "colorbar": {
              "outlinewidth": 0,
              "ticks": ""
             }
            },
            "type": "scattercarpet"
           }
          ],
          "scattergeo": [
           {
            "marker": {
             "colorbar": {
              "outlinewidth": 0,
              "ticks": ""
             }
            },
            "type": "scattergeo"
           }
          ],
          "scattergl": [
           {
            "marker": {
             "colorbar": {
              "outlinewidth": 0,
              "ticks": ""
             }
            },
            "type": "scattergl"
           }
          ],
          "scattermapbox": [
           {
            "marker": {
             "colorbar": {
              "outlinewidth": 0,
              "ticks": ""
             }
            },
            "type": "scattermapbox"
           }
          ],
          "scatterpolar": [
           {
            "marker": {
             "colorbar": {
              "outlinewidth": 0,
              "ticks": ""
             }
            },
            "type": "scatterpolar"
           }
          ],
          "scatterpolargl": [
           {
            "marker": {
             "colorbar": {
              "outlinewidth": 0,
              "ticks": ""
             }
            },
            "type": "scatterpolargl"
           }
          ],
          "scatterternary": [
           {
            "marker": {
             "colorbar": {
              "outlinewidth": 0,
              "ticks": ""
             }
            },
            "type": "scatterternary"
           }
          ],
          "surface": [
           {
            "colorbar": {
             "outlinewidth": 0,
             "ticks": ""
            },
            "colorscale": [
             [
              0,
              "#0d0887"
             ],
             [
              0.1111111111111111,
              "#46039f"
             ],
             [
              0.2222222222222222,
              "#7201a8"
             ],
             [
              0.3333333333333333,
              "#9c179e"
             ],
             [
              0.4444444444444444,
              "#bd3786"
             ],
             [
              0.5555555555555556,
              "#d8576b"
             ],
             [
              0.6666666666666666,
              "#ed7953"
             ],
             [
              0.7777777777777778,
              "#fb9f3a"
             ],
             [
              0.8888888888888888,
              "#fdca26"
             ],
             [
              1,
              "#f0f921"
             ]
            ],
            "type": "surface"
           }
          ],
          "table": [
           {
            "cells": {
             "fill": {
              "color": "#EBF0F8"
             },
             "line": {
              "color": "white"
             }
            },
            "header": {
             "fill": {
              "color": "#C8D4E3"
             },
             "line": {
              "color": "white"
             }
            },
            "type": "table"
           }
          ]
         },
         "layout": {
          "annotationdefaults": {
           "arrowcolor": "#2a3f5f",
           "arrowhead": 0,
           "arrowwidth": 1
          },
          "autotypenumbers": "strict",
          "coloraxis": {
           "colorbar": {
            "outlinewidth": 0,
            "ticks": ""
           }
          },
          "colorscale": {
           "diverging": [
            [
             0,
             "#8e0152"
            ],
            [
             0.1,
             "#c51b7d"
            ],
            [
             0.2,
             "#de77ae"
            ],
            [
             0.3,
             "#f1b6da"
            ],
            [
             0.4,
             "#fde0ef"
            ],
            [
             0.5,
             "#f7f7f7"
            ],
            [
             0.6,
             "#e6f5d0"
            ],
            [
             0.7,
             "#b8e186"
            ],
            [
             0.8,
             "#7fbc41"
            ],
            [
             0.9,
             "#4d9221"
            ],
            [
             1,
             "#276419"
            ]
           ],
           "sequential": [
            [
             0,
             "#0d0887"
            ],
            [
             0.1111111111111111,
             "#46039f"
            ],
            [
             0.2222222222222222,
             "#7201a8"
            ],
            [
             0.3333333333333333,
             "#9c179e"
            ],
            [
             0.4444444444444444,
             "#bd3786"
            ],
            [
             0.5555555555555556,
             "#d8576b"
            ],
            [
             0.6666666666666666,
             "#ed7953"
            ],
            [
             0.7777777777777778,
             "#fb9f3a"
            ],
            [
             0.8888888888888888,
             "#fdca26"
            ],
            [
             1,
             "#f0f921"
            ]
           ],
           "sequentialminus": [
            [
             0,
             "#0d0887"
            ],
            [
             0.1111111111111111,
             "#46039f"
            ],
            [
             0.2222222222222222,
             "#7201a8"
            ],
            [
             0.3333333333333333,
             "#9c179e"
            ],
            [
             0.4444444444444444,
             "#bd3786"
            ],
            [
             0.5555555555555556,
             "#d8576b"
            ],
            [
             0.6666666666666666,
             "#ed7953"
            ],
            [
             0.7777777777777778,
             "#fb9f3a"
            ],
            [
             0.8888888888888888,
             "#fdca26"
            ],
            [
             1,
             "#f0f921"
            ]
           ]
          },
          "colorway": [
           "#636efa",
           "#EF553B",
           "#00cc96",
           "#ab63fa",
           "#FFA15A",
           "#19d3f3",
           "#FF6692",
           "#B6E880",
           "#FF97FF",
           "#FECB52"
          ],
          "font": {
           "color": "#2a3f5f"
          },
          "geo": {
           "bgcolor": "white",
           "lakecolor": "white",
           "landcolor": "#E5ECF6",
           "showlakes": true,
           "showland": true,
           "subunitcolor": "white"
          },
          "hoverlabel": {
           "align": "left"
          },
          "hovermode": "closest",
          "mapbox": {
           "style": "light"
          },
          "paper_bgcolor": "white",
          "plot_bgcolor": "#E5ECF6",
          "polar": {
           "angularaxis": {
            "gridcolor": "white",
            "linecolor": "white",
            "ticks": ""
           },
           "bgcolor": "#E5ECF6",
           "radialaxis": {
            "gridcolor": "white",
            "linecolor": "white",
            "ticks": ""
           }
          },
          "scene": {
           "xaxis": {
            "backgroundcolor": "#E5ECF6",
            "gridcolor": "white",
            "gridwidth": 2,
            "linecolor": "white",
            "showbackground": true,
            "ticks": "",
            "zerolinecolor": "white"
           },
           "yaxis": {
            "backgroundcolor": "#E5ECF6",
            "gridcolor": "white",
            "gridwidth": 2,
            "linecolor": "white",
            "showbackground": true,
            "ticks": "",
            "zerolinecolor": "white"
           },
           "zaxis": {
            "backgroundcolor": "#E5ECF6",
            "gridcolor": "white",
            "gridwidth": 2,
            "linecolor": "white",
            "showbackground": true,
            "ticks": "",
            "zerolinecolor": "white"
           }
          },
          "shapedefaults": {
           "line": {
            "color": "#2a3f5f"
           }
          },
          "ternary": {
           "aaxis": {
            "gridcolor": "white",
            "linecolor": "white",
            "ticks": ""
           },
           "baxis": {
            "gridcolor": "white",
            "linecolor": "white",
            "ticks": ""
           },
           "bgcolor": "#E5ECF6",
           "caxis": {
            "gridcolor": "white",
            "linecolor": "white",
            "ticks": ""
           }
          },
          "title": {
           "x": 0.05
          },
          "xaxis": {
           "automargin": true,
           "gridcolor": "white",
           "linecolor": "white",
           "ticks": "",
           "title": {
            "standoff": 15
           },
           "zerolinecolor": "white",
           "zerolinewidth": 2
          },
          "yaxis": {
           "automargin": true,
           "gridcolor": "white",
           "linecolor": "white",
           "ticks": "",
           "title": {
            "standoff": 15
           },
           "zerolinecolor": "white",
           "zerolinewidth": 2
          }
         }
        },
        "xaxis": {
         "anchor": "y",
         "domain": [
          0,
          0.7363
         ],
         "title": {
          "text": "start_date_local"
         }
        },
        "xaxis2": {
         "anchor": "y2",
         "domain": [
          0.7413,
          1
         ],
         "matches": "x2",
         "showgrid": false,
         "showline": false,
         "showticklabels": false,
         "ticks": ""
        },
        "yaxis": {
         "anchor": "x",
         "domain": [
          0,
          1
         ],
         "title": {
          "text": "max_heartrate"
         }
        },
        "yaxis2": {
         "anchor": "x2",
         "domain": [
          0,
          1
         ],
         "matches": "y",
         "showgrid": true,
         "showticklabels": false
        }
       }
      },
      "text/html": [
       "<div>                            <div id=\"c9788009-da96-4d58-a97a-ce0ed561232f\" class=\"plotly-graph-div\" style=\"height:525px; width:100%;\"></div>            <script type=\"text/javascript\">                require([\"plotly\"], function(Plotly) {                    window.PLOTLYENV=window.PLOTLYENV || {};                                    if (document.getElementById(\"c9788009-da96-4d58-a97a-ce0ed561232f\")) {                    Plotly.newPlot(                        \"c9788009-da96-4d58-a97a-ce0ed561232f\",                        [{\"hovertemplate\": \"type=Ride<br>start_date_local=%{x}<br>max_heartrate=%{y}<extra></extra>\", \"legendgroup\": \"Ride\", \"marker\": {\"color\": \"#636efa\", \"symbol\": \"circle\"}, \"mode\": \"markers\", \"name\": \"Ride\", \"orientation\": \"v\", \"showlegend\": true, \"type\": \"scatter\", \"x\": [\"2021-04-07\", \"2021-04-06\", \"2021-04-01\", \"2021-04-01\", \"2021-04-01\", \"2021-03-30\", \"2021-03-28\", \"2021-03-26\", \"2021-03-25\", \"2021-03-23\", \"2021-03-21\", \"2021-03-20\", \"2021-03-19\", \"2021-03-17\", \"2021-03-16\", \"2021-03-14\", \"2021-03-12\", \"2021-03-09\", \"2021-03-07\", \"2021-03-06\", \"2021-03-05\", \"2021-03-04\", \"2021-03-02\", \"2021-02-28\", \"2021-02-27\", \"2021-02-17\", \"2021-02-14\", \"2021-02-13\", \"2021-02-11\", \"2021-02-10\", \"2021-02-07\", \"2021-02-06\", \"2021-02-04\", \"2021-02-02\", \"2021-01-31\", \"2021-01-30\", \"2021-01-29\", \"2021-01-27\", \"2021-01-24\", \"2021-01-23\", \"2021-01-21\", \"2021-01-17\", \"2021-01-16\", \"2021-01-14\", \"2021-01-12\", \"2021-01-09\", \"2021-01-08\", \"2021-01-06\", \"2021-01-03\", \"2021-01-02\", \"2020-12-31\", \"2020-12-28\", \"2020-12-26\", \"2020-12-25\", \"2020-12-23\", \"2020-12-22\", \"2020-12-19\", \"2020-12-17\", \"2020-12-13\", \"2020-12-12\", \"2020-12-09\", \"2020-12-08\", \"2020-12-06\", \"2020-12-03\", \"2020-11-30\", \"2020-11-29\", \"2020-11-26\", \"2020-11-24\", \"2020-11-22\", \"2020-11-21\", \"2020-11-20\", \"2020-11-17\", \"2020-11-15\", \"2020-11-12\", \"2020-11-08\", \"2020-11-06\", \"2020-11-03\", \"2020-11-01\", \"2020-10-24\", \"2020-10-22\", \"2020-10-20\", \"2020-10-18\", \"2020-10-14\", \"2020-10-11\", \"2020-10-06\", \"2020-07-11\", \"2020-05-10\", \"2020-05-03\", \"2020-04-23\", \"2020-04-17\", \"2020-04-12\", \"2020-04-07\", \"2020-01-10\", \"2019-09-14\", \"2019-09-12\"], \"xaxis\": \"x\", \"y\": [155.0, 150.0, 148.0, 150.0, 151.0, 157.0, 153.0, 166.0, 139.0, 153.0, 160.0, 148.0, 161.0, 156.0, 153.0, 160.0, 155.0, 150.0, 150.0, 162.0, 153.0, 162.0, 161.0, 160.0, 162.0, 158.0, 150.0, 163.0, 161.0, 162.0, 155.0, 156.0, 161.0, 152.0, 151.0, 158.0, 147.0, 157.0, 154.0, 155.0, 157.0, 153.0, 143.0, 141.0, 157.0, 152.0, 159.0, 154.0, 154.0, 159.0, 158.0, 163.0, 157.0, 160.0, 163.0, 160.0, 166.0, 155.0, 158.0, 162.0, 156.0, 152.0, 160.0, 156.0, 154.0, 148.0, 159.0, 159.0, 161.0, 158.0, 160.0, 160.0, 152.0, 159.0, 152.0, 156.0, 153.0, 165.0, 162.0, 148.0, 165.0, 157.0, 164.0, 161.0, 157.0, 157.0, 170.0, 172.0, 153.0, 157.0, 152.0, 153.0, 152.0, 167.0, 151.0], \"yaxis\": \"y\"}, {\"alignmentgroup\": \"True\", \"hovertemplate\": \"type=Ride<br>max_heartrate=%{y}<extra></extra>\", \"legendgroup\": \"Ride\", \"marker\": {\"color\": \"#636efa\", \"symbol\": \"circle\"}, \"name\": \"Ride\", \"notched\": true, \"offsetgroup\": \"Ride\", \"showlegend\": false, \"type\": \"box\", \"xaxis\": \"x2\", \"y\": [155.0, 150.0, 148.0, 150.0, 151.0, 157.0, 153.0, 166.0, 139.0, 153.0, 160.0, 148.0, 161.0, 156.0, 153.0, 160.0, 155.0, 150.0, 150.0, 162.0, 153.0, 162.0, 161.0, 160.0, 162.0, 158.0, 150.0, 163.0, 161.0, 162.0, 155.0, 156.0, 161.0, 152.0, 151.0, 158.0, 147.0, 157.0, 154.0, 155.0, 157.0, 153.0, 143.0, 141.0, 157.0, 152.0, 159.0, 154.0, 154.0, 159.0, 158.0, 163.0, 157.0, 160.0, 163.0, 160.0, 166.0, 155.0, 158.0, 162.0, 156.0, 152.0, 160.0, 156.0, 154.0, 148.0, 159.0, 159.0, 161.0, 158.0, 160.0, 160.0, 152.0, 159.0, 152.0, 156.0, 153.0, 165.0, 162.0, 148.0, 165.0, 157.0, 164.0, 161.0, 157.0, 157.0, 170.0, 172.0, 153.0, 157.0, 152.0, 153.0, 152.0, 167.0, 151.0], \"yaxis\": \"y2\"}, {\"hovertemplate\": \"type=Run<br>start_date_local=%{x}<br>max_heartrate=%{y}<extra></extra>\", \"legendgroup\": \"Run\", \"marker\": {\"color\": \"#EF553B\", \"symbol\": \"circle\"}, \"mode\": \"markers\", \"name\": \"Run\", \"orientation\": \"v\", \"showlegend\": true, \"type\": \"scatter\", \"x\": [\"2021-01-19\", \"2021-01-15\", \"2021-01-10\", \"2020-12-20\", \"2020-12-15\", \"2020-12-10\", \"2020-12-04\", \"2020-12-02\", \"2020-11-28\", \"2020-11-26\", \"2020-11-23\", \"2020-11-07\", \"2020-11-04\", \"2020-11-02\", \"2020-10-30\", \"2020-10-28\", \"2020-10-26\", \"2020-10-23\", \"2020-10-20\", \"2020-10-18\", \"2020-10-16\", \"2020-08-31\", \"2020-03-27\", \"2020-03-25\", \"2020-03-22\", \"2020-03-19\", \"2020-01-03\", \"2019-12-31\", \"2019-12-25\", \"2019-12-22\", \"2019-12-21\", \"2019-12-17\", \"2019-12-04\", \"2019-12-02\", \"2019-11-26\", \"2019-11-22\", \"2019-11-19\", \"2019-11-17\", \"2019-11-14\", \"2019-08-27\", \"2019-08-22\", \"2019-08-19\", \"2019-08-15\", \"2019-08-12\", \"2019-08-09\", \"2019-08-06\", \"2019-08-03\", \"2019-07-31\", \"2019-07-29\", \"2019-07-24\", \"2019-07-22\", \"2019-07-19\", \"2019-07-14\", \"2019-07-12\", \"2019-07-10\", \"2019-07-08\"], \"xaxis\": \"x\", \"y\": [154.0, 154.0, 158.0, 161.0, 159.0, 158.0, 164.0, 161.0, 165.0, 164.0, 159.0, 158.0, 161.0, 168.0, 166.0, 161.0, 155.0, 164.0, 164.0, 166.0, 165.0, 171.0, 165.0, 152.0, 171.0, 166.0, 165.0, 178.0, 167.0, 166.0, 158.0, 165.0, 167.0, 166.0, 163.0, 171.0, 168.0, 172.0, 169.0, 166.0, 168.0, 164.0, 168.0, 151.0, 167.0, 164.0, 166.0, 166.0, 165.0, 157.0, 170.0, 177.0, 170.0, 161.0, 169.0, 177.0], \"yaxis\": \"y\"}, {\"alignmentgroup\": \"True\", \"hovertemplate\": \"type=Run<br>max_heartrate=%{y}<extra></extra>\", \"legendgroup\": \"Run\", \"marker\": {\"color\": \"#EF553B\", \"symbol\": \"circle\"}, \"name\": \"Run\", \"notched\": true, \"offsetgroup\": \"Run\", \"showlegend\": false, \"type\": \"box\", \"xaxis\": \"x2\", \"y\": [154.0, 154.0, 158.0, 161.0, 159.0, 158.0, 164.0, 161.0, 165.0, 164.0, 159.0, 158.0, 161.0, 168.0, 166.0, 161.0, 155.0, 164.0, 164.0, 166.0, 165.0, 171.0, 165.0, 152.0, 171.0, 166.0, 165.0, 178.0, 167.0, 166.0, 158.0, 165.0, 167.0, 166.0, 163.0, 171.0, 168.0, 172.0, 169.0, 166.0, 168.0, 164.0, 168.0, 151.0, 167.0, 164.0, 166.0, 166.0, 165.0, 157.0, 170.0, 177.0, 170.0, 161.0, 169.0, 177.0], \"yaxis\": \"y2\"}],                        {\"legend\": {\"title\": {\"text\": \"type\"}, \"tracegroupgap\": 0}, \"margin\": {\"t\": 60}, \"template\": {\"data\": {\"bar\": [{\"error_x\": {\"color\": \"#2a3f5f\"}, \"error_y\": {\"color\": \"#2a3f5f\"}, \"marker\": {\"line\": {\"color\": \"#E5ECF6\", \"width\": 0.5}}, \"type\": \"bar\"}], \"barpolar\": [{\"marker\": {\"line\": {\"color\": \"#E5ECF6\", \"width\": 0.5}}, \"type\": \"barpolar\"}], \"carpet\": [{\"aaxis\": {\"endlinecolor\": \"#2a3f5f\", \"gridcolor\": \"white\", \"linecolor\": \"white\", \"minorgridcolor\": \"white\", \"startlinecolor\": \"#2a3f5f\"}, \"baxis\": {\"endlinecolor\": \"#2a3f5f\", \"gridcolor\": \"white\", \"linecolor\": \"white\", \"minorgridcolor\": \"white\", \"startlinecolor\": \"#2a3f5f\"}, \"type\": \"carpet\"}], \"choropleth\": [{\"colorbar\": {\"outlinewidth\": 0, \"ticks\": \"\"}, \"type\": \"choropleth\"}], \"contour\": [{\"colorbar\": {\"outlinewidth\": 0, \"ticks\": \"\"}, \"colorscale\": [[0.0, \"#0d0887\"], [0.1111111111111111, \"#46039f\"], [0.2222222222222222, \"#7201a8\"], [0.3333333333333333, \"#9c179e\"], [0.4444444444444444, \"#bd3786\"], [0.5555555555555556, \"#d8576b\"], [0.6666666666666666, \"#ed7953\"], [0.7777777777777778, \"#fb9f3a\"], [0.8888888888888888, \"#fdca26\"], [1.0, \"#f0f921\"]], \"type\": \"contour\"}], \"contourcarpet\": [{\"colorbar\": {\"outlinewidth\": 0, \"ticks\": \"\"}, \"type\": \"contourcarpet\"}], \"heatmap\": [{\"colorbar\": {\"outlinewidth\": 0, \"ticks\": \"\"}, \"colorscale\": [[0.0, \"#0d0887\"], [0.1111111111111111, \"#46039f\"], [0.2222222222222222, \"#7201a8\"], [0.3333333333333333, \"#9c179e\"], [0.4444444444444444, \"#bd3786\"], [0.5555555555555556, \"#d8576b\"], [0.6666666666666666, \"#ed7953\"], [0.7777777777777778, \"#fb9f3a\"], [0.8888888888888888, \"#fdca26\"], [1.0, \"#f0f921\"]], \"type\": \"heatmap\"}], \"heatmapgl\": [{\"colorbar\": {\"outlinewidth\": 0, \"ticks\": \"\"}, \"colorscale\": [[0.0, \"#0d0887\"], [0.1111111111111111, \"#46039f\"], [0.2222222222222222, \"#7201a8\"], [0.3333333333333333, \"#9c179e\"], [0.4444444444444444, \"#bd3786\"], [0.5555555555555556, \"#d8576b\"], [0.6666666666666666, \"#ed7953\"], [0.7777777777777778, \"#fb9f3a\"], [0.8888888888888888, \"#fdca26\"], [1.0, \"#f0f921\"]], \"type\": \"heatmapgl\"}], \"histogram\": [{\"marker\": {\"colorbar\": {\"outlinewidth\": 0, \"ticks\": \"\"}}, \"type\": \"histogram\"}], \"histogram2d\": [{\"colorbar\": {\"outlinewidth\": 0, \"ticks\": \"\"}, \"colorscale\": [[0.0, \"#0d0887\"], [0.1111111111111111, \"#46039f\"], [0.2222222222222222, \"#7201a8\"], [0.3333333333333333, \"#9c179e\"], [0.4444444444444444, \"#bd3786\"], [0.5555555555555556, \"#d8576b\"], [0.6666666666666666, \"#ed7953\"], [0.7777777777777778, \"#fb9f3a\"], [0.8888888888888888, \"#fdca26\"], [1.0, \"#f0f921\"]], \"type\": \"histogram2d\"}], \"histogram2dcontour\": [{\"colorbar\": {\"outlinewidth\": 0, \"ticks\": \"\"}, \"colorscale\": [[0.0, \"#0d0887\"], [0.1111111111111111, \"#46039f\"], [0.2222222222222222, \"#7201a8\"], [0.3333333333333333, \"#9c179e\"], [0.4444444444444444, \"#bd3786\"], [0.5555555555555556, \"#d8576b\"], [0.6666666666666666, \"#ed7953\"], [0.7777777777777778, \"#fb9f3a\"], [0.8888888888888888, \"#fdca26\"], [1.0, \"#f0f921\"]], \"type\": \"histogram2dcontour\"}], \"mesh3d\": [{\"colorbar\": {\"outlinewidth\": 0, \"ticks\": \"\"}, \"type\": \"mesh3d\"}], \"parcoords\": [{\"line\": {\"colorbar\": {\"outlinewidth\": 0, \"ticks\": \"\"}}, \"type\": \"parcoords\"}], \"pie\": [{\"automargin\": true, \"type\": \"pie\"}], \"scatter\": [{\"marker\": {\"colorbar\": {\"outlinewidth\": 0, \"ticks\": \"\"}}, \"type\": \"scatter\"}], \"scatter3d\": [{\"line\": {\"colorbar\": {\"outlinewidth\": 0, \"ticks\": \"\"}}, \"marker\": {\"colorbar\": {\"outlinewidth\": 0, \"ticks\": \"\"}}, \"type\": \"scatter3d\"}], \"scattercarpet\": [{\"marker\": {\"colorbar\": {\"outlinewidth\": 0, \"ticks\": \"\"}}, \"type\": \"scattercarpet\"}], \"scattergeo\": [{\"marker\": {\"colorbar\": {\"outlinewidth\": 0, \"ticks\": \"\"}}, \"type\": \"scattergeo\"}], \"scattergl\": [{\"marker\": {\"colorbar\": {\"outlinewidth\": 0, \"ticks\": \"\"}}, \"type\": \"scattergl\"}], \"scattermapbox\": [{\"marker\": {\"colorbar\": {\"outlinewidth\": 0, \"ticks\": \"\"}}, \"type\": \"scattermapbox\"}], \"scatterpolar\": [{\"marker\": {\"colorbar\": {\"outlinewidth\": 0, \"ticks\": \"\"}}, \"type\": \"scatterpolar\"}], \"scatterpolargl\": [{\"marker\": {\"colorbar\": {\"outlinewidth\": 0, \"ticks\": \"\"}}, \"type\": \"scatterpolargl\"}], \"scatterternary\": [{\"marker\": {\"colorbar\": {\"outlinewidth\": 0, \"ticks\": \"\"}}, \"type\": \"scatterternary\"}], \"surface\": [{\"colorbar\": {\"outlinewidth\": 0, \"ticks\": \"\"}, \"colorscale\": [[0.0, \"#0d0887\"], [0.1111111111111111, \"#46039f\"], [0.2222222222222222, \"#7201a8\"], [0.3333333333333333, \"#9c179e\"], [0.4444444444444444, \"#bd3786\"], [0.5555555555555556, \"#d8576b\"], [0.6666666666666666, \"#ed7953\"], [0.7777777777777778, \"#fb9f3a\"], [0.8888888888888888, \"#fdca26\"], [1.0, \"#f0f921\"]], \"type\": \"surface\"}], \"table\": [{\"cells\": {\"fill\": {\"color\": \"#EBF0F8\"}, \"line\": {\"color\": \"white\"}}, \"header\": {\"fill\": {\"color\": \"#C8D4E3\"}, \"line\": {\"color\": \"white\"}}, \"type\": \"table\"}]}, \"layout\": {\"annotationdefaults\": {\"arrowcolor\": \"#2a3f5f\", \"arrowhead\": 0, \"arrowwidth\": 1}, \"autotypenumbers\": \"strict\", \"coloraxis\": {\"colorbar\": {\"outlinewidth\": 0, \"ticks\": \"\"}}, \"colorscale\": {\"diverging\": [[0, \"#8e0152\"], [0.1, \"#c51b7d\"], [0.2, \"#de77ae\"], [0.3, \"#f1b6da\"], [0.4, \"#fde0ef\"], [0.5, \"#f7f7f7\"], [0.6, \"#e6f5d0\"], [0.7, \"#b8e186\"], [0.8, \"#7fbc41\"], [0.9, \"#4d9221\"], [1, \"#276419\"]], \"sequential\": [[0.0, \"#0d0887\"], [0.1111111111111111, \"#46039f\"], [0.2222222222222222, \"#7201a8\"], [0.3333333333333333, \"#9c179e\"], [0.4444444444444444, \"#bd3786\"], [0.5555555555555556, \"#d8576b\"], [0.6666666666666666, \"#ed7953\"], [0.7777777777777778, \"#fb9f3a\"], [0.8888888888888888, \"#fdca26\"], [1.0, \"#f0f921\"]], \"sequentialminus\": [[0.0, \"#0d0887\"], [0.1111111111111111, \"#46039f\"], [0.2222222222222222, \"#7201a8\"], [0.3333333333333333, \"#9c179e\"], [0.4444444444444444, \"#bd3786\"], [0.5555555555555556, \"#d8576b\"], [0.6666666666666666, \"#ed7953\"], [0.7777777777777778, \"#fb9f3a\"], [0.8888888888888888, \"#fdca26\"], [1.0, \"#f0f921\"]]}, \"colorway\": [\"#636efa\", \"#EF553B\", \"#00cc96\", \"#ab63fa\", \"#FFA15A\", \"#19d3f3\", \"#FF6692\", \"#B6E880\", \"#FF97FF\", \"#FECB52\"], \"font\": {\"color\": \"#2a3f5f\"}, \"geo\": {\"bgcolor\": \"white\", \"lakecolor\": \"white\", \"landcolor\": \"#E5ECF6\", \"showlakes\": true, \"showland\": true, \"subunitcolor\": \"white\"}, \"hoverlabel\": {\"align\": \"left\"}, \"hovermode\": \"closest\", \"mapbox\": {\"style\": \"light\"}, \"paper_bgcolor\": \"white\", \"plot_bgcolor\": \"#E5ECF6\", \"polar\": {\"angularaxis\": {\"gridcolor\": \"white\", \"linecolor\": \"white\", \"ticks\": \"\"}, \"bgcolor\": \"#E5ECF6\", \"radialaxis\": {\"gridcolor\": \"white\", \"linecolor\": \"white\", \"ticks\": \"\"}}, \"scene\": {\"xaxis\": {\"backgroundcolor\": \"#E5ECF6\", \"gridcolor\": \"white\", \"gridwidth\": 2, \"linecolor\": \"white\", \"showbackground\": true, \"ticks\": \"\", \"zerolinecolor\": \"white\"}, \"yaxis\": {\"backgroundcolor\": \"#E5ECF6\", \"gridcolor\": \"white\", \"gridwidth\": 2, \"linecolor\": \"white\", \"showbackground\": true, \"ticks\": \"\", \"zerolinecolor\": \"white\"}, \"zaxis\": {\"backgroundcolor\": \"#E5ECF6\", \"gridcolor\": \"white\", \"gridwidth\": 2, \"linecolor\": \"white\", \"showbackground\": true, \"ticks\": \"\", \"zerolinecolor\": \"white\"}}, \"shapedefaults\": {\"line\": {\"color\": \"#2a3f5f\"}}, \"ternary\": {\"aaxis\": {\"gridcolor\": \"white\", \"linecolor\": \"white\", \"ticks\": \"\"}, \"baxis\": {\"gridcolor\": \"white\", \"linecolor\": \"white\", \"ticks\": \"\"}, \"bgcolor\": \"#E5ECF6\", \"caxis\": {\"gridcolor\": \"white\", \"linecolor\": \"white\", \"ticks\": \"\"}}, \"title\": {\"x\": 0.05}, \"xaxis\": {\"automargin\": true, \"gridcolor\": \"white\", \"linecolor\": \"white\", \"ticks\": \"\", \"title\": {\"standoff\": 15}, \"zerolinecolor\": \"white\", \"zerolinewidth\": 2}, \"yaxis\": {\"automargin\": true, \"gridcolor\": \"white\", \"linecolor\": \"white\", \"ticks\": \"\", \"title\": {\"standoff\": 15}, \"zerolinecolor\": \"white\", \"zerolinewidth\": 2}}}, \"xaxis\": {\"anchor\": \"y\", \"domain\": [0.0, 0.7363], \"title\": {\"text\": \"start_date_local\"}}, \"xaxis2\": {\"anchor\": \"y2\", \"domain\": [0.7413, 1.0], \"matches\": \"x2\", \"showgrid\": false, \"showline\": false, \"showticklabels\": false, \"ticks\": \"\"}, \"yaxis\": {\"anchor\": \"x\", \"domain\": [0.0, 1.0], \"title\": {\"text\": \"max_heartrate\"}}, \"yaxis2\": {\"anchor\": \"x2\", \"domain\": [0.0, 1.0], \"matches\": \"y\", \"showgrid\": true, \"showticklabels\": false}},                        {\"responsive\": true}                    ).then(function(){\n",
       "                            \n",
       "var gd = document.getElementById('c9788009-da96-4d58-a97a-ce0ed561232f');\n",
       "var x = new MutationObserver(function (mutations, observer) {{\n",
       "        var display = window.getComputedStyle(gd).display;\n",
       "        if (!display || display === 'none') {{\n",
       "            console.log([gd, 'removed!']);\n",
       "            Plotly.purge(gd);\n",
       "            observer.disconnect();\n",
       "        }}\n",
       "}});\n",
       "\n",
       "// Listen for the removal of the full notebook cells\n",
       "var notebookContainer = gd.closest('#notebook-container');\n",
       "if (notebookContainer) {{\n",
       "    x.observe(notebookContainer, {childList: true});\n",
       "}}\n",
       "\n",
       "// Listen for the clearing of the current output cell\n",
       "var outputEl = gd.closest('.output');\n",
       "if (outputEl) {{\n",
       "    x.observe(outputEl, {childList: true});\n",
       "}}\n",
       "\n",
       "                        })                };                });            </script>        </div>"
      ]
     },
     "metadata": {},
     "output_type": "display_data"
    }
   ],
   "source": [
    "fig = px.scatter(_df, x='start_date_local', y='max_heartrate', color='type',marginal_y='box')#, trendline=\"ols\")\n",
    "fig.show()"
   ]
  },
  {
   "cell_type": "code",
   "execution_count": 33,
   "id": "046a0caf",
   "metadata": {},
   "outputs": [
    {
     "data": {
      "application/vnd.plotly.v1+json": {
       "config": {
        "plotlyServerURL": "https://plot.ly"
       },
       "data": [
        {
         "hovertemplate": "type=Ride<br>start_date_local=%{x}<br>max_heartrate=%{y}<extra></extra>",
         "legendgroup": "Ride",
         "marker": {
          "color": "#636efa",
          "symbol": "circle"
         },
         "mode": "markers",
         "name": "Ride",
         "orientation": "v",
         "showlegend": true,
         "type": "scatter",
         "x": [
          "2021-04-07",
          "2021-04-06",
          "2021-04-01",
          "2021-04-01",
          "2021-04-01",
          "2021-03-30",
          "2021-03-28",
          "2021-03-26",
          "2021-03-25",
          "2021-03-23",
          "2021-03-21",
          "2021-03-20",
          "2021-03-19",
          "2021-03-17",
          "2021-03-16",
          "2021-03-14",
          "2021-03-12",
          "2021-03-09",
          "2021-03-07",
          "2021-03-06",
          "2021-03-05",
          "2021-03-04",
          "2021-03-02",
          "2021-02-28",
          "2021-02-27",
          "2021-02-17",
          "2021-02-14",
          "2021-02-13",
          "2021-02-11",
          "2021-02-10",
          "2021-02-07",
          "2021-02-06",
          "2021-02-04",
          "2021-02-02",
          "2021-01-31",
          "2021-01-30",
          "2021-01-29",
          "2021-01-27",
          "2021-01-24",
          "2021-01-23",
          "2021-01-21",
          "2021-01-17",
          "2021-01-16",
          "2021-01-14",
          "2021-01-12",
          "2021-01-09",
          "2021-01-08",
          "2021-01-06",
          "2021-01-03",
          "2021-01-02",
          "2020-12-31",
          "2020-12-28",
          "2020-12-26",
          "2020-12-25",
          "2020-12-23",
          "2020-12-22",
          "2020-12-19",
          "2020-12-17",
          "2020-12-13",
          "2020-12-12",
          "2020-12-09",
          "2020-12-08",
          "2020-12-06",
          "2020-12-03",
          "2020-11-30",
          "2020-11-29",
          "2020-11-26",
          "2020-11-24",
          "2020-11-22",
          "2020-11-21",
          "2020-11-20",
          "2020-11-17",
          "2020-11-15",
          "2020-11-12",
          "2020-11-08",
          "2020-11-06",
          "2020-11-03",
          "2020-11-01",
          "2020-10-24",
          "2020-10-22",
          "2020-10-20",
          "2020-10-18",
          "2020-10-14",
          "2020-10-11",
          "2020-10-06",
          "2020-07-11",
          "2020-05-10",
          "2020-05-03",
          "2020-04-23",
          "2020-04-17",
          "2020-04-12",
          "2020-04-07",
          "2020-01-10",
          "2019-09-14",
          "2019-09-12"
         ],
         "xaxis": "x2",
         "y": [
          155,
          150,
          148,
          150,
          151,
          157,
          153,
          166,
          139,
          153,
          160,
          148,
          161,
          156,
          153,
          160,
          155,
          150,
          150,
          162,
          153,
          162,
          161,
          160,
          162,
          158,
          150,
          163,
          161,
          162,
          155,
          156,
          161,
          152,
          151,
          158,
          147,
          157,
          154,
          155,
          157,
          153,
          143,
          141,
          157,
          152,
          159,
          154,
          154,
          159,
          158,
          163,
          157,
          160,
          163,
          160,
          166,
          155,
          158,
          162,
          156,
          152,
          160,
          156,
          154,
          148,
          159,
          159,
          161,
          158,
          160,
          160,
          152,
          159,
          152,
          156,
          153,
          165,
          162,
          148,
          165,
          157,
          164,
          161,
          157,
          157,
          170,
          172,
          153,
          157,
          152,
          153,
          152,
          167,
          151
         ],
         "yaxis": "y2"
        },
        {
         "hovertemplate": "type=Run<br>start_date_local=%{x}<br>max_heartrate=%{y}<extra></extra>",
         "legendgroup": "Run",
         "marker": {
          "color": "#EF553B",
          "symbol": "circle"
         },
         "mode": "markers",
         "name": "Run",
         "orientation": "v",
         "showlegend": true,
         "type": "scatter",
         "x": [
          "2021-01-19",
          "2021-01-15",
          "2021-01-10",
          "2020-12-20",
          "2020-12-15",
          "2020-12-10",
          "2020-12-04",
          "2020-12-02",
          "2020-11-28",
          "2020-11-26",
          "2020-11-23",
          "2020-11-07",
          "2020-11-04",
          "2020-11-02",
          "2020-10-30",
          "2020-10-28",
          "2020-10-26",
          "2020-10-23",
          "2020-10-20",
          "2020-10-18",
          "2020-10-16",
          "2020-08-31",
          "2020-03-27",
          "2020-03-25",
          "2020-03-22",
          "2020-03-19",
          "2020-01-03",
          "2019-12-31",
          "2019-12-25",
          "2019-12-22",
          "2019-12-21",
          "2019-12-17",
          "2019-12-04",
          "2019-12-02",
          "2019-11-26",
          "2019-11-22",
          "2019-11-19",
          "2019-11-17",
          "2019-11-14",
          "2019-08-27",
          "2019-08-22",
          "2019-08-19",
          "2019-08-15",
          "2019-08-12",
          "2019-08-09",
          "2019-08-06",
          "2019-08-03",
          "2019-07-31",
          "2019-07-29",
          "2019-07-24",
          "2019-07-22",
          "2019-07-19",
          "2019-07-14",
          "2019-07-12",
          "2019-07-10",
          "2019-07-08"
         ],
         "xaxis": "x",
         "y": [
          154,
          154,
          158,
          161,
          159,
          158,
          164,
          161,
          165,
          164,
          159,
          158,
          161,
          168,
          166,
          161,
          155,
          164,
          164,
          166,
          165,
          171,
          165,
          152,
          171,
          166,
          165,
          178,
          167,
          166,
          158,
          165,
          167,
          166,
          163,
          171,
          168,
          172,
          169,
          166,
          168,
          164,
          168,
          151,
          167,
          164,
          166,
          166,
          165,
          157,
          170,
          177,
          170,
          161,
          169,
          177
         ],
         "yaxis": "y"
        }
       ],
       "layout": {
        "annotations": [
         {
          "font": {},
          "showarrow": false,
          "text": "type=Run",
          "textangle": 90,
          "x": 0.98,
          "xanchor": "left",
          "xref": "paper",
          "y": 0.2425,
          "yanchor": "middle",
          "yref": "paper"
         },
         {
          "font": {},
          "showarrow": false,
          "text": "type=Ride",
          "textangle": 90,
          "x": 0.98,
          "xanchor": "left",
          "xref": "paper",
          "y": 0.7575000000000001,
          "yanchor": "middle",
          "yref": "paper"
         }
        ],
        "legend": {
         "title": {
          "text": "type"
         },
         "tracegroupgap": 0
        },
        "margin": {
         "t": 60
        },
        "template": {
         "data": {
          "bar": [
           {
            "error_x": {
             "color": "#2a3f5f"
            },
            "error_y": {
             "color": "#2a3f5f"
            },
            "marker": {
             "line": {
              "color": "#E5ECF6",
              "width": 0.5
             }
            },
            "type": "bar"
           }
          ],
          "barpolar": [
           {
            "marker": {
             "line": {
              "color": "#E5ECF6",
              "width": 0.5
             }
            },
            "type": "barpolar"
           }
          ],
          "carpet": [
           {
            "aaxis": {
             "endlinecolor": "#2a3f5f",
             "gridcolor": "white",
             "linecolor": "white",
             "minorgridcolor": "white",
             "startlinecolor": "#2a3f5f"
            },
            "baxis": {
             "endlinecolor": "#2a3f5f",
             "gridcolor": "white",
             "linecolor": "white",
             "minorgridcolor": "white",
             "startlinecolor": "#2a3f5f"
            },
            "type": "carpet"
           }
          ],
          "choropleth": [
           {
            "colorbar": {
             "outlinewidth": 0,
             "ticks": ""
            },
            "type": "choropleth"
           }
          ],
          "contour": [
           {
            "colorbar": {
             "outlinewidth": 0,
             "ticks": ""
            },
            "colorscale": [
             [
              0,
              "#0d0887"
             ],
             [
              0.1111111111111111,
              "#46039f"
             ],
             [
              0.2222222222222222,
              "#7201a8"
             ],
             [
              0.3333333333333333,
              "#9c179e"
             ],
             [
              0.4444444444444444,
              "#bd3786"
             ],
             [
              0.5555555555555556,
              "#d8576b"
             ],
             [
              0.6666666666666666,
              "#ed7953"
             ],
             [
              0.7777777777777778,
              "#fb9f3a"
             ],
             [
              0.8888888888888888,
              "#fdca26"
             ],
             [
              1,
              "#f0f921"
             ]
            ],
            "type": "contour"
           }
          ],
          "contourcarpet": [
           {
            "colorbar": {
             "outlinewidth": 0,
             "ticks": ""
            },
            "type": "contourcarpet"
           }
          ],
          "heatmap": [
           {
            "colorbar": {
             "outlinewidth": 0,
             "ticks": ""
            },
            "colorscale": [
             [
              0,
              "#0d0887"
             ],
             [
              0.1111111111111111,
              "#46039f"
             ],
             [
              0.2222222222222222,
              "#7201a8"
             ],
             [
              0.3333333333333333,
              "#9c179e"
             ],
             [
              0.4444444444444444,
              "#bd3786"
             ],
             [
              0.5555555555555556,
              "#d8576b"
             ],
             [
              0.6666666666666666,
              "#ed7953"
             ],
             [
              0.7777777777777778,
              "#fb9f3a"
             ],
             [
              0.8888888888888888,
              "#fdca26"
             ],
             [
              1,
              "#f0f921"
             ]
            ],
            "type": "heatmap"
           }
          ],
          "heatmapgl": [
           {
            "colorbar": {
             "outlinewidth": 0,
             "ticks": ""
            },
            "colorscale": [
             [
              0,
              "#0d0887"
             ],
             [
              0.1111111111111111,
              "#46039f"
             ],
             [
              0.2222222222222222,
              "#7201a8"
             ],
             [
              0.3333333333333333,
              "#9c179e"
             ],
             [
              0.4444444444444444,
              "#bd3786"
             ],
             [
              0.5555555555555556,
              "#d8576b"
             ],
             [
              0.6666666666666666,
              "#ed7953"
             ],
             [
              0.7777777777777778,
              "#fb9f3a"
             ],
             [
              0.8888888888888888,
              "#fdca26"
             ],
             [
              1,
              "#f0f921"
             ]
            ],
            "type": "heatmapgl"
           }
          ],
          "histogram": [
           {
            "marker": {
             "colorbar": {
              "outlinewidth": 0,
              "ticks": ""
             }
            },
            "type": "histogram"
           }
          ],
          "histogram2d": [
           {
            "colorbar": {
             "outlinewidth": 0,
             "ticks": ""
            },
            "colorscale": [
             [
              0,
              "#0d0887"
             ],
             [
              0.1111111111111111,
              "#46039f"
             ],
             [
              0.2222222222222222,
              "#7201a8"
             ],
             [
              0.3333333333333333,
              "#9c179e"
             ],
             [
              0.4444444444444444,
              "#bd3786"
             ],
             [
              0.5555555555555556,
              "#d8576b"
             ],
             [
              0.6666666666666666,
              "#ed7953"
             ],
             [
              0.7777777777777778,
              "#fb9f3a"
             ],
             [
              0.8888888888888888,
              "#fdca26"
             ],
             [
              1,
              "#f0f921"
             ]
            ],
            "type": "histogram2d"
           }
          ],
          "histogram2dcontour": [
           {
            "colorbar": {
             "outlinewidth": 0,
             "ticks": ""
            },
            "colorscale": [
             [
              0,
              "#0d0887"
             ],
             [
              0.1111111111111111,
              "#46039f"
             ],
             [
              0.2222222222222222,
              "#7201a8"
             ],
             [
              0.3333333333333333,
              "#9c179e"
             ],
             [
              0.4444444444444444,
              "#bd3786"
             ],
             [
              0.5555555555555556,
              "#d8576b"
             ],
             [
              0.6666666666666666,
              "#ed7953"
             ],
             [
              0.7777777777777778,
              "#fb9f3a"
             ],
             [
              0.8888888888888888,
              "#fdca26"
             ],
             [
              1,
              "#f0f921"
             ]
            ],
            "type": "histogram2dcontour"
           }
          ],
          "mesh3d": [
           {
            "colorbar": {
             "outlinewidth": 0,
             "ticks": ""
            },
            "type": "mesh3d"
           }
          ],
          "parcoords": [
           {
            "line": {
             "colorbar": {
              "outlinewidth": 0,
              "ticks": ""
             }
            },
            "type": "parcoords"
           }
          ],
          "pie": [
           {
            "automargin": true,
            "type": "pie"
           }
          ],
          "scatter": [
           {
            "marker": {
             "colorbar": {
              "outlinewidth": 0,
              "ticks": ""
             }
            },
            "type": "scatter"
           }
          ],
          "scatter3d": [
           {
            "line": {
             "colorbar": {
              "outlinewidth": 0,
              "ticks": ""
             }
            },
            "marker": {
             "colorbar": {
              "outlinewidth": 0,
              "ticks": ""
             }
            },
            "type": "scatter3d"
           }
          ],
          "scattercarpet": [
           {
            "marker": {
             "colorbar": {
              "outlinewidth": 0,
              "ticks": ""
             }
            },
            "type": "scattercarpet"
           }
          ],
          "scattergeo": [
           {
            "marker": {
             "colorbar": {
              "outlinewidth": 0,
              "ticks": ""
             }
            },
            "type": "scattergeo"
           }
          ],
          "scattergl": [
           {
            "marker": {
             "colorbar": {
              "outlinewidth": 0,
              "ticks": ""
             }
            },
            "type": "scattergl"
           }
          ],
          "scattermapbox": [
           {
            "marker": {
             "colorbar": {
              "outlinewidth": 0,
              "ticks": ""
             }
            },
            "type": "scattermapbox"
           }
          ],
          "scatterpolar": [
           {
            "marker": {
             "colorbar": {
              "outlinewidth": 0,
              "ticks": ""
             }
            },
            "type": "scatterpolar"
           }
          ],
          "scatterpolargl": [
           {
            "marker": {
             "colorbar": {
              "outlinewidth": 0,
              "ticks": ""
             }
            },
            "type": "scatterpolargl"
           }
          ],
          "scatterternary": [
           {
            "marker": {
             "colorbar": {
              "outlinewidth": 0,
              "ticks": ""
             }
            },
            "type": "scatterternary"
           }
          ],
          "surface": [
           {
            "colorbar": {
             "outlinewidth": 0,
             "ticks": ""
            },
            "colorscale": [
             [
              0,
              "#0d0887"
             ],
             [
              0.1111111111111111,
              "#46039f"
             ],
             [
              0.2222222222222222,
              "#7201a8"
             ],
             [
              0.3333333333333333,
              "#9c179e"
             ],
             [
              0.4444444444444444,
              "#bd3786"
             ],
             [
              0.5555555555555556,
              "#d8576b"
             ],
             [
              0.6666666666666666,
              "#ed7953"
             ],
             [
              0.7777777777777778,
              "#fb9f3a"
             ],
             [
              0.8888888888888888,
              "#fdca26"
             ],
             [
              1,
              "#f0f921"
             ]
            ],
            "type": "surface"
           }
          ],
          "table": [
           {
            "cells": {
             "fill": {
              "color": "#EBF0F8"
             },
             "line": {
              "color": "white"
             }
            },
            "header": {
             "fill": {
              "color": "#C8D4E3"
             },
             "line": {
              "color": "white"
             }
            },
            "type": "table"
           }
          ]
         },
         "layout": {
          "annotationdefaults": {
           "arrowcolor": "#2a3f5f",
           "arrowhead": 0,
           "arrowwidth": 1
          },
          "autotypenumbers": "strict",
          "coloraxis": {
           "colorbar": {
            "outlinewidth": 0,
            "ticks": ""
           }
          },
          "colorscale": {
           "diverging": [
            [
             0,
             "#8e0152"
            ],
            [
             0.1,
             "#c51b7d"
            ],
            [
             0.2,
             "#de77ae"
            ],
            [
             0.3,
             "#f1b6da"
            ],
            [
             0.4,
             "#fde0ef"
            ],
            [
             0.5,
             "#f7f7f7"
            ],
            [
             0.6,
             "#e6f5d0"
            ],
            [
             0.7,
             "#b8e186"
            ],
            [
             0.8,
             "#7fbc41"
            ],
            [
             0.9,
             "#4d9221"
            ],
            [
             1,
             "#276419"
            ]
           ],
           "sequential": [
            [
             0,
             "#0d0887"
            ],
            [
             0.1111111111111111,
             "#46039f"
            ],
            [
             0.2222222222222222,
             "#7201a8"
            ],
            [
             0.3333333333333333,
             "#9c179e"
            ],
            [
             0.4444444444444444,
             "#bd3786"
            ],
            [
             0.5555555555555556,
             "#d8576b"
            ],
            [
             0.6666666666666666,
             "#ed7953"
            ],
            [
             0.7777777777777778,
             "#fb9f3a"
            ],
            [
             0.8888888888888888,
             "#fdca26"
            ],
            [
             1,
             "#f0f921"
            ]
           ],
           "sequentialminus": [
            [
             0,
             "#0d0887"
            ],
            [
             0.1111111111111111,
             "#46039f"
            ],
            [
             0.2222222222222222,
             "#7201a8"
            ],
            [
             0.3333333333333333,
             "#9c179e"
            ],
            [
             0.4444444444444444,
             "#bd3786"
            ],
            [
             0.5555555555555556,
             "#d8576b"
            ],
            [
             0.6666666666666666,
             "#ed7953"
            ],
            [
             0.7777777777777778,
             "#fb9f3a"
            ],
            [
             0.8888888888888888,
             "#fdca26"
            ],
            [
             1,
             "#f0f921"
            ]
           ]
          },
          "colorway": [
           "#636efa",
           "#EF553B",
           "#00cc96",
           "#ab63fa",
           "#FFA15A",
           "#19d3f3",
           "#FF6692",
           "#B6E880",
           "#FF97FF",
           "#FECB52"
          ],
          "font": {
           "color": "#2a3f5f"
          },
          "geo": {
           "bgcolor": "white",
           "lakecolor": "white",
           "landcolor": "#E5ECF6",
           "showlakes": true,
           "showland": true,
           "subunitcolor": "white"
          },
          "hoverlabel": {
           "align": "left"
          },
          "hovermode": "closest",
          "mapbox": {
           "style": "light"
          },
          "paper_bgcolor": "white",
          "plot_bgcolor": "#E5ECF6",
          "polar": {
           "angularaxis": {
            "gridcolor": "white",
            "linecolor": "white",
            "ticks": ""
           },
           "bgcolor": "#E5ECF6",
           "radialaxis": {
            "gridcolor": "white",
            "linecolor": "white",
            "ticks": ""
           }
          },
          "scene": {
           "xaxis": {
            "backgroundcolor": "#E5ECF6",
            "gridcolor": "white",
            "gridwidth": 2,
            "linecolor": "white",
            "showbackground": true,
            "ticks": "",
            "zerolinecolor": "white"
           },
           "yaxis": {
            "backgroundcolor": "#E5ECF6",
            "gridcolor": "white",
            "gridwidth": 2,
            "linecolor": "white",
            "showbackground": true,
            "ticks": "",
            "zerolinecolor": "white"
           },
           "zaxis": {
            "backgroundcolor": "#E5ECF6",
            "gridcolor": "white",
            "gridwidth": 2,
            "linecolor": "white",
            "showbackground": true,
            "ticks": "",
            "zerolinecolor": "white"
           }
          },
          "shapedefaults": {
           "line": {
            "color": "#2a3f5f"
           }
          },
          "ternary": {
           "aaxis": {
            "gridcolor": "white",
            "linecolor": "white",
            "ticks": ""
           },
           "baxis": {
            "gridcolor": "white",
            "linecolor": "white",
            "ticks": ""
           },
           "bgcolor": "#E5ECF6",
           "caxis": {
            "gridcolor": "white",
            "linecolor": "white",
            "ticks": ""
           }
          },
          "title": {
           "x": 0.05
          },
          "xaxis": {
           "automargin": true,
           "gridcolor": "white",
           "linecolor": "white",
           "ticks": "",
           "title": {
            "standoff": 15
           },
           "zerolinecolor": "white",
           "zerolinewidth": 2
          },
          "yaxis": {
           "automargin": true,
           "gridcolor": "white",
           "linecolor": "white",
           "ticks": "",
           "title": {
            "standoff": 15
           },
           "zerolinecolor": "white",
           "zerolinewidth": 2
          }
         }
        },
        "xaxis": {
         "anchor": "y",
         "domain": [
          0,
          0.98
         ],
         "title": {
          "text": "start_date_local"
         }
        },
        "xaxis2": {
         "anchor": "y2",
         "domain": [
          0,
          0.98
         ],
         "matches": "x",
         "showticklabels": false
        },
        "yaxis": {
         "anchor": "x",
         "domain": [
          0,
          0.485
         ],
         "title": {
          "text": "max_heartrate"
         }
        },
        "yaxis2": {
         "anchor": "x2",
         "domain": [
          0.515,
          1
         ],
         "matches": "y",
         "title": {
          "text": "max_heartrate"
         }
        }
       }
      },
      "text/html": [
       "<div>                            <div id=\"66d3db50-f5f3-49f8-b025-69849fe60712\" class=\"plotly-graph-div\" style=\"height:525px; width:100%;\"></div>            <script type=\"text/javascript\">                require([\"plotly\"], function(Plotly) {                    window.PLOTLYENV=window.PLOTLYENV || {};                                    if (document.getElementById(\"66d3db50-f5f3-49f8-b025-69849fe60712\")) {                    Plotly.newPlot(                        \"66d3db50-f5f3-49f8-b025-69849fe60712\",                        [{\"hovertemplate\": \"type=Ride<br>start_date_local=%{x}<br>max_heartrate=%{y}<extra></extra>\", \"legendgroup\": \"Ride\", \"marker\": {\"color\": \"#636efa\", \"symbol\": \"circle\"}, \"mode\": \"markers\", \"name\": \"Ride\", \"orientation\": \"v\", \"showlegend\": true, \"type\": \"scatter\", \"x\": [\"2021-04-07\", \"2021-04-06\", \"2021-04-01\", \"2021-04-01\", \"2021-04-01\", \"2021-03-30\", \"2021-03-28\", \"2021-03-26\", \"2021-03-25\", \"2021-03-23\", \"2021-03-21\", \"2021-03-20\", \"2021-03-19\", \"2021-03-17\", \"2021-03-16\", \"2021-03-14\", \"2021-03-12\", \"2021-03-09\", \"2021-03-07\", \"2021-03-06\", \"2021-03-05\", \"2021-03-04\", \"2021-03-02\", \"2021-02-28\", \"2021-02-27\", \"2021-02-17\", \"2021-02-14\", \"2021-02-13\", \"2021-02-11\", \"2021-02-10\", \"2021-02-07\", \"2021-02-06\", \"2021-02-04\", \"2021-02-02\", \"2021-01-31\", \"2021-01-30\", \"2021-01-29\", \"2021-01-27\", \"2021-01-24\", \"2021-01-23\", \"2021-01-21\", \"2021-01-17\", \"2021-01-16\", \"2021-01-14\", \"2021-01-12\", \"2021-01-09\", \"2021-01-08\", \"2021-01-06\", \"2021-01-03\", \"2021-01-02\", \"2020-12-31\", \"2020-12-28\", \"2020-12-26\", \"2020-12-25\", \"2020-12-23\", \"2020-12-22\", \"2020-12-19\", \"2020-12-17\", \"2020-12-13\", \"2020-12-12\", \"2020-12-09\", \"2020-12-08\", \"2020-12-06\", \"2020-12-03\", \"2020-11-30\", \"2020-11-29\", \"2020-11-26\", \"2020-11-24\", \"2020-11-22\", \"2020-11-21\", \"2020-11-20\", \"2020-11-17\", \"2020-11-15\", \"2020-11-12\", \"2020-11-08\", \"2020-11-06\", \"2020-11-03\", \"2020-11-01\", \"2020-10-24\", \"2020-10-22\", \"2020-10-20\", \"2020-10-18\", \"2020-10-14\", \"2020-10-11\", \"2020-10-06\", \"2020-07-11\", \"2020-05-10\", \"2020-05-03\", \"2020-04-23\", \"2020-04-17\", \"2020-04-12\", \"2020-04-07\", \"2020-01-10\", \"2019-09-14\", \"2019-09-12\"], \"xaxis\": \"x2\", \"y\": [155.0, 150.0, 148.0, 150.0, 151.0, 157.0, 153.0, 166.0, 139.0, 153.0, 160.0, 148.0, 161.0, 156.0, 153.0, 160.0, 155.0, 150.0, 150.0, 162.0, 153.0, 162.0, 161.0, 160.0, 162.0, 158.0, 150.0, 163.0, 161.0, 162.0, 155.0, 156.0, 161.0, 152.0, 151.0, 158.0, 147.0, 157.0, 154.0, 155.0, 157.0, 153.0, 143.0, 141.0, 157.0, 152.0, 159.0, 154.0, 154.0, 159.0, 158.0, 163.0, 157.0, 160.0, 163.0, 160.0, 166.0, 155.0, 158.0, 162.0, 156.0, 152.0, 160.0, 156.0, 154.0, 148.0, 159.0, 159.0, 161.0, 158.0, 160.0, 160.0, 152.0, 159.0, 152.0, 156.0, 153.0, 165.0, 162.0, 148.0, 165.0, 157.0, 164.0, 161.0, 157.0, 157.0, 170.0, 172.0, 153.0, 157.0, 152.0, 153.0, 152.0, 167.0, 151.0], \"yaxis\": \"y2\"}, {\"hovertemplate\": \"type=Run<br>start_date_local=%{x}<br>max_heartrate=%{y}<extra></extra>\", \"legendgroup\": \"Run\", \"marker\": {\"color\": \"#EF553B\", \"symbol\": \"circle\"}, \"mode\": \"markers\", \"name\": \"Run\", \"orientation\": \"v\", \"showlegend\": true, \"type\": \"scatter\", \"x\": [\"2021-01-19\", \"2021-01-15\", \"2021-01-10\", \"2020-12-20\", \"2020-12-15\", \"2020-12-10\", \"2020-12-04\", \"2020-12-02\", \"2020-11-28\", \"2020-11-26\", \"2020-11-23\", \"2020-11-07\", \"2020-11-04\", \"2020-11-02\", \"2020-10-30\", \"2020-10-28\", \"2020-10-26\", \"2020-10-23\", \"2020-10-20\", \"2020-10-18\", \"2020-10-16\", \"2020-08-31\", \"2020-03-27\", \"2020-03-25\", \"2020-03-22\", \"2020-03-19\", \"2020-01-03\", \"2019-12-31\", \"2019-12-25\", \"2019-12-22\", \"2019-12-21\", \"2019-12-17\", \"2019-12-04\", \"2019-12-02\", \"2019-11-26\", \"2019-11-22\", \"2019-11-19\", \"2019-11-17\", \"2019-11-14\", \"2019-08-27\", \"2019-08-22\", \"2019-08-19\", \"2019-08-15\", \"2019-08-12\", \"2019-08-09\", \"2019-08-06\", \"2019-08-03\", \"2019-07-31\", \"2019-07-29\", \"2019-07-24\", \"2019-07-22\", \"2019-07-19\", \"2019-07-14\", \"2019-07-12\", \"2019-07-10\", \"2019-07-08\"], \"xaxis\": \"x\", \"y\": [154.0, 154.0, 158.0, 161.0, 159.0, 158.0, 164.0, 161.0, 165.0, 164.0, 159.0, 158.0, 161.0, 168.0, 166.0, 161.0, 155.0, 164.0, 164.0, 166.0, 165.0, 171.0, 165.0, 152.0, 171.0, 166.0, 165.0, 178.0, 167.0, 166.0, 158.0, 165.0, 167.0, 166.0, 163.0, 171.0, 168.0, 172.0, 169.0, 166.0, 168.0, 164.0, 168.0, 151.0, 167.0, 164.0, 166.0, 166.0, 165.0, 157.0, 170.0, 177.0, 170.0, 161.0, 169.0, 177.0], \"yaxis\": \"y\"}],                        {\"annotations\": [{\"font\": {}, \"showarrow\": false, \"text\": \"type=Run\", \"textangle\": 90, \"x\": 0.98, \"xanchor\": \"left\", \"xref\": \"paper\", \"y\": 0.2425, \"yanchor\": \"middle\", \"yref\": \"paper\"}, {\"font\": {}, \"showarrow\": false, \"text\": \"type=Ride\", \"textangle\": 90, \"x\": 0.98, \"xanchor\": \"left\", \"xref\": \"paper\", \"y\": 0.7575000000000001, \"yanchor\": \"middle\", \"yref\": \"paper\"}], \"legend\": {\"title\": {\"text\": \"type\"}, \"tracegroupgap\": 0}, \"margin\": {\"t\": 60}, \"template\": {\"data\": {\"bar\": [{\"error_x\": {\"color\": \"#2a3f5f\"}, \"error_y\": {\"color\": \"#2a3f5f\"}, \"marker\": {\"line\": {\"color\": \"#E5ECF6\", \"width\": 0.5}}, \"type\": \"bar\"}], \"barpolar\": [{\"marker\": {\"line\": {\"color\": \"#E5ECF6\", \"width\": 0.5}}, \"type\": \"barpolar\"}], \"carpet\": [{\"aaxis\": {\"endlinecolor\": \"#2a3f5f\", \"gridcolor\": \"white\", \"linecolor\": \"white\", \"minorgridcolor\": \"white\", \"startlinecolor\": \"#2a3f5f\"}, \"baxis\": {\"endlinecolor\": \"#2a3f5f\", \"gridcolor\": \"white\", \"linecolor\": \"white\", \"minorgridcolor\": \"white\", \"startlinecolor\": \"#2a3f5f\"}, \"type\": \"carpet\"}], \"choropleth\": [{\"colorbar\": {\"outlinewidth\": 0, \"ticks\": \"\"}, \"type\": \"choropleth\"}], \"contour\": [{\"colorbar\": {\"outlinewidth\": 0, \"ticks\": \"\"}, \"colorscale\": [[0.0, \"#0d0887\"], [0.1111111111111111, \"#46039f\"], [0.2222222222222222, \"#7201a8\"], [0.3333333333333333, \"#9c179e\"], [0.4444444444444444, \"#bd3786\"], [0.5555555555555556, \"#d8576b\"], [0.6666666666666666, \"#ed7953\"], [0.7777777777777778, \"#fb9f3a\"], [0.8888888888888888, \"#fdca26\"], [1.0, \"#f0f921\"]], \"type\": \"contour\"}], \"contourcarpet\": [{\"colorbar\": {\"outlinewidth\": 0, \"ticks\": \"\"}, \"type\": \"contourcarpet\"}], \"heatmap\": [{\"colorbar\": {\"outlinewidth\": 0, \"ticks\": \"\"}, \"colorscale\": [[0.0, \"#0d0887\"], [0.1111111111111111, \"#46039f\"], [0.2222222222222222, \"#7201a8\"], [0.3333333333333333, \"#9c179e\"], [0.4444444444444444, \"#bd3786\"], [0.5555555555555556, \"#d8576b\"], [0.6666666666666666, \"#ed7953\"], [0.7777777777777778, \"#fb9f3a\"], [0.8888888888888888, \"#fdca26\"], [1.0, \"#f0f921\"]], \"type\": \"heatmap\"}], \"heatmapgl\": [{\"colorbar\": {\"outlinewidth\": 0, \"ticks\": \"\"}, \"colorscale\": [[0.0, \"#0d0887\"], [0.1111111111111111, \"#46039f\"], [0.2222222222222222, \"#7201a8\"], [0.3333333333333333, \"#9c179e\"], [0.4444444444444444, \"#bd3786\"], [0.5555555555555556, \"#d8576b\"], [0.6666666666666666, \"#ed7953\"], [0.7777777777777778, \"#fb9f3a\"], [0.8888888888888888, \"#fdca26\"], [1.0, \"#f0f921\"]], \"type\": \"heatmapgl\"}], \"histogram\": [{\"marker\": {\"colorbar\": {\"outlinewidth\": 0, \"ticks\": \"\"}}, \"type\": \"histogram\"}], \"histogram2d\": [{\"colorbar\": {\"outlinewidth\": 0, \"ticks\": \"\"}, \"colorscale\": [[0.0, \"#0d0887\"], [0.1111111111111111, \"#46039f\"], [0.2222222222222222, \"#7201a8\"], [0.3333333333333333, \"#9c179e\"], [0.4444444444444444, \"#bd3786\"], [0.5555555555555556, \"#d8576b\"], [0.6666666666666666, \"#ed7953\"], [0.7777777777777778, \"#fb9f3a\"], [0.8888888888888888, \"#fdca26\"], [1.0, \"#f0f921\"]], \"type\": \"histogram2d\"}], \"histogram2dcontour\": [{\"colorbar\": {\"outlinewidth\": 0, \"ticks\": \"\"}, \"colorscale\": [[0.0, \"#0d0887\"], [0.1111111111111111, \"#46039f\"], [0.2222222222222222, \"#7201a8\"], [0.3333333333333333, \"#9c179e\"], [0.4444444444444444, \"#bd3786\"], [0.5555555555555556, \"#d8576b\"], [0.6666666666666666, \"#ed7953\"], [0.7777777777777778, \"#fb9f3a\"], [0.8888888888888888, \"#fdca26\"], [1.0, \"#f0f921\"]], \"type\": \"histogram2dcontour\"}], \"mesh3d\": [{\"colorbar\": {\"outlinewidth\": 0, \"ticks\": \"\"}, \"type\": \"mesh3d\"}], \"parcoords\": [{\"line\": {\"colorbar\": {\"outlinewidth\": 0, \"ticks\": \"\"}}, \"type\": \"parcoords\"}], \"pie\": [{\"automargin\": true, \"type\": \"pie\"}], \"scatter\": [{\"marker\": {\"colorbar\": {\"outlinewidth\": 0, \"ticks\": \"\"}}, \"type\": \"scatter\"}], \"scatter3d\": [{\"line\": {\"colorbar\": {\"outlinewidth\": 0, \"ticks\": \"\"}}, \"marker\": {\"colorbar\": {\"outlinewidth\": 0, \"ticks\": \"\"}}, \"type\": \"scatter3d\"}], \"scattercarpet\": [{\"marker\": {\"colorbar\": {\"outlinewidth\": 0, \"ticks\": \"\"}}, \"type\": \"scattercarpet\"}], \"scattergeo\": [{\"marker\": {\"colorbar\": {\"outlinewidth\": 0, \"ticks\": \"\"}}, \"type\": \"scattergeo\"}], \"scattergl\": [{\"marker\": {\"colorbar\": {\"outlinewidth\": 0, \"ticks\": \"\"}}, \"type\": \"scattergl\"}], \"scattermapbox\": [{\"marker\": {\"colorbar\": {\"outlinewidth\": 0, \"ticks\": \"\"}}, \"type\": \"scattermapbox\"}], \"scatterpolar\": [{\"marker\": {\"colorbar\": {\"outlinewidth\": 0, \"ticks\": \"\"}}, \"type\": \"scatterpolar\"}], \"scatterpolargl\": [{\"marker\": {\"colorbar\": {\"outlinewidth\": 0, \"ticks\": \"\"}}, \"type\": \"scatterpolargl\"}], \"scatterternary\": [{\"marker\": {\"colorbar\": {\"outlinewidth\": 0, \"ticks\": \"\"}}, \"type\": \"scatterternary\"}], \"surface\": [{\"colorbar\": {\"outlinewidth\": 0, \"ticks\": \"\"}, \"colorscale\": [[0.0, \"#0d0887\"], [0.1111111111111111, \"#46039f\"], [0.2222222222222222, \"#7201a8\"], [0.3333333333333333, \"#9c179e\"], [0.4444444444444444, \"#bd3786\"], [0.5555555555555556, \"#d8576b\"], [0.6666666666666666, \"#ed7953\"], [0.7777777777777778, \"#fb9f3a\"], [0.8888888888888888, \"#fdca26\"], [1.0, \"#f0f921\"]], \"type\": \"surface\"}], \"table\": [{\"cells\": {\"fill\": {\"color\": \"#EBF0F8\"}, \"line\": {\"color\": \"white\"}}, \"header\": {\"fill\": {\"color\": \"#C8D4E3\"}, \"line\": {\"color\": \"white\"}}, \"type\": \"table\"}]}, \"layout\": {\"annotationdefaults\": {\"arrowcolor\": \"#2a3f5f\", \"arrowhead\": 0, \"arrowwidth\": 1}, \"autotypenumbers\": \"strict\", \"coloraxis\": {\"colorbar\": {\"outlinewidth\": 0, \"ticks\": \"\"}}, \"colorscale\": {\"diverging\": [[0, \"#8e0152\"], [0.1, \"#c51b7d\"], [0.2, \"#de77ae\"], [0.3, \"#f1b6da\"], [0.4, \"#fde0ef\"], [0.5, \"#f7f7f7\"], [0.6, \"#e6f5d0\"], [0.7, \"#b8e186\"], [0.8, \"#7fbc41\"], [0.9, \"#4d9221\"], [1, \"#276419\"]], \"sequential\": [[0.0, \"#0d0887\"], [0.1111111111111111, \"#46039f\"], [0.2222222222222222, \"#7201a8\"], [0.3333333333333333, \"#9c179e\"], [0.4444444444444444, \"#bd3786\"], [0.5555555555555556, \"#d8576b\"], [0.6666666666666666, \"#ed7953\"], [0.7777777777777778, \"#fb9f3a\"], [0.8888888888888888, \"#fdca26\"], [1.0, \"#f0f921\"]], \"sequentialminus\": [[0.0, \"#0d0887\"], [0.1111111111111111, \"#46039f\"], [0.2222222222222222, \"#7201a8\"], [0.3333333333333333, \"#9c179e\"], [0.4444444444444444, \"#bd3786\"], [0.5555555555555556, \"#d8576b\"], [0.6666666666666666, \"#ed7953\"], [0.7777777777777778, \"#fb9f3a\"], [0.8888888888888888, \"#fdca26\"], [1.0, \"#f0f921\"]]}, \"colorway\": [\"#636efa\", \"#EF553B\", \"#00cc96\", \"#ab63fa\", \"#FFA15A\", \"#19d3f3\", \"#FF6692\", \"#B6E880\", \"#FF97FF\", \"#FECB52\"], \"font\": {\"color\": \"#2a3f5f\"}, \"geo\": {\"bgcolor\": \"white\", \"lakecolor\": \"white\", \"landcolor\": \"#E5ECF6\", \"showlakes\": true, \"showland\": true, \"subunitcolor\": \"white\"}, \"hoverlabel\": {\"align\": \"left\"}, \"hovermode\": \"closest\", \"mapbox\": {\"style\": \"light\"}, \"paper_bgcolor\": \"white\", \"plot_bgcolor\": \"#E5ECF6\", \"polar\": {\"angularaxis\": {\"gridcolor\": \"white\", \"linecolor\": \"white\", \"ticks\": \"\"}, \"bgcolor\": \"#E5ECF6\", \"radialaxis\": {\"gridcolor\": \"white\", \"linecolor\": \"white\", \"ticks\": \"\"}}, \"scene\": {\"xaxis\": {\"backgroundcolor\": \"#E5ECF6\", \"gridcolor\": \"white\", \"gridwidth\": 2, \"linecolor\": \"white\", \"showbackground\": true, \"ticks\": \"\", \"zerolinecolor\": \"white\"}, \"yaxis\": {\"backgroundcolor\": \"#E5ECF6\", \"gridcolor\": \"white\", \"gridwidth\": 2, \"linecolor\": \"white\", \"showbackground\": true, \"ticks\": \"\", \"zerolinecolor\": \"white\"}, \"zaxis\": {\"backgroundcolor\": \"#E5ECF6\", \"gridcolor\": \"white\", \"gridwidth\": 2, \"linecolor\": \"white\", \"showbackground\": true, \"ticks\": \"\", \"zerolinecolor\": \"white\"}}, \"shapedefaults\": {\"line\": {\"color\": \"#2a3f5f\"}}, \"ternary\": {\"aaxis\": {\"gridcolor\": \"white\", \"linecolor\": \"white\", \"ticks\": \"\"}, \"baxis\": {\"gridcolor\": \"white\", \"linecolor\": \"white\", \"ticks\": \"\"}, \"bgcolor\": \"#E5ECF6\", \"caxis\": {\"gridcolor\": \"white\", \"linecolor\": \"white\", \"ticks\": \"\"}}, \"title\": {\"x\": 0.05}, \"xaxis\": {\"automargin\": true, \"gridcolor\": \"white\", \"linecolor\": \"white\", \"ticks\": \"\", \"title\": {\"standoff\": 15}, \"zerolinecolor\": \"white\", \"zerolinewidth\": 2}, \"yaxis\": {\"automargin\": true, \"gridcolor\": \"white\", \"linecolor\": \"white\", \"ticks\": \"\", \"title\": {\"standoff\": 15}, \"zerolinecolor\": \"white\", \"zerolinewidth\": 2}}}, \"xaxis\": {\"anchor\": \"y\", \"domain\": [0.0, 0.98], \"title\": {\"text\": \"start_date_local\"}}, \"xaxis2\": {\"anchor\": \"y2\", \"domain\": [0.0, 0.98], \"matches\": \"x\", \"showticklabels\": false}, \"yaxis\": {\"anchor\": \"x\", \"domain\": [0.0, 0.485], \"title\": {\"text\": \"max_heartrate\"}}, \"yaxis2\": {\"anchor\": \"x2\", \"domain\": [0.515, 1.0], \"matches\": \"y\", \"title\": {\"text\": \"max_heartrate\"}}},                        {\"responsive\": true}                    ).then(function(){\n",
       "                            \n",
       "var gd = document.getElementById('66d3db50-f5f3-49f8-b025-69849fe60712');\n",
       "var x = new MutationObserver(function (mutations, observer) {{\n",
       "        var display = window.getComputedStyle(gd).display;\n",
       "        if (!display || display === 'none') {{\n",
       "            console.log([gd, 'removed!']);\n",
       "            Plotly.purge(gd);\n",
       "            observer.disconnect();\n",
       "        }}\n",
       "}});\n",
       "\n",
       "// Listen for the removal of the full notebook cells\n",
       "var notebookContainer = gd.closest('#notebook-container');\n",
       "if (notebookContainer) {{\n",
       "    x.observe(notebookContainer, {childList: true});\n",
       "}}\n",
       "\n",
       "// Listen for the clearing of the current output cell\n",
       "var outputEl = gd.closest('.output');\n",
       "if (outputEl) {{\n",
       "    x.observe(outputEl, {childList: true});\n",
       "}}\n",
       "\n",
       "                        })                };                });            </script>        </div>"
      ]
     },
     "metadata": {},
     "output_type": "display_data"
    }
   ],
   "source": [
    "fig = px.scatter(_df, x='start_date_local', y='max_heartrate', facet_row=\"type\", color='type')\n",
    "fig.show()"
   ]
  },
  {
   "cell_type": "code",
   "execution_count": null,
   "id": "91564880",
   "metadata": {},
   "outputs": [],
   "source": []
  }
 ],
 "metadata": {
  "kernelspec": {
   "display_name": "Python 3",
   "language": "python",
   "name": "python3"
  },
  "language_info": {
   "codemirror_mode": {
    "name": "ipython",
    "version": 3
   },
   "file_extension": ".py",
   "mimetype": "text/x-python",
   "name": "python",
   "nbconvert_exporter": "python",
   "pygments_lexer": "ipython3",
   "version": "3.9.2"
  }
 },
 "nbformat": 4,
 "nbformat_minor": 5
}
