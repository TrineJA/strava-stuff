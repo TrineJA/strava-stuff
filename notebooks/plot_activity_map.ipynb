{
 "cells": [
  {
   "cell_type": "code",
   "execution_count": 3,
   "metadata": {},
   "outputs": [],
   "source": [
    "import requests\n",
    "import urllib3\n",
    "urllib3.disable_warnings(urllib3.exceptions.InsecureRequestWarning)\n",
    "import numpy as np\n",
    "import pandas as pd\n",
    "import polyline\n",
    "\n",
    "import sys\n",
    "sys.path.append('..')\n",
    "from api_key import api_key, mapbox_token\n",
    "\n",
    "auth_url = \"https://www.strava.com/oauth/token\"\n",
    "activites_url = \"https://www.strava.com/api/v3/athlete/activities\""
   ]
  },
  {
   "cell_type": "code",
   "execution_count": 4,
   "metadata": {},
   "outputs": [
    {
     "data": {
      "text/html": [
       "<div>\n",
       "<style scoped>\n",
       "    .dataframe tbody tr th:only-of-type {\n",
       "        vertical-align: middle;\n",
       "    }\n",
       "\n",
       "    .dataframe tbody tr th {\n",
       "        vertical-align: top;\n",
       "    }\n",
       "\n",
       "    .dataframe thead th {\n",
       "        text-align: right;\n",
       "    }\n",
       "</style>\n",
       "<table border=\"1\" class=\"dataframe\">\n",
       "  <thead>\n",
       "    <tr style=\"text-align: right;\">\n",
       "      <th></th>\n",
       "      <th>resource_state</th>\n",
       "      <th>name</th>\n",
       "      <th>distance</th>\n",
       "      <th>moving_time</th>\n",
       "      <th>elapsed_time</th>\n",
       "      <th>total_elevation_gain</th>\n",
       "      <th>type</th>\n",
       "      <th>workout_type</th>\n",
       "      <th>id</th>\n",
       "      <th>external_id</th>\n",
       "      <th>...</th>\n",
       "      <th>pr_count</th>\n",
       "      <th>total_photo_count</th>\n",
       "      <th>has_kudoed</th>\n",
       "      <th>athlete.id</th>\n",
       "      <th>athlete.resource_state</th>\n",
       "      <th>map.id</th>\n",
       "      <th>map.summary_polyline</th>\n",
       "      <th>map.resource_state</th>\n",
       "      <th>average_temp</th>\n",
       "      <th>average_cadence</th>\n",
       "    </tr>\n",
       "  </thead>\n",
       "  <tbody>\n",
       "    <tr>\n",
       "      <th>0</th>\n",
       "      <td>2</td>\n",
       "      <td>Rebild bakker</td>\n",
       "      <td>35085.0</td>\n",
       "      <td>10484</td>\n",
       "      <td>15388</td>\n",
       "      <td>537.4</td>\n",
       "      <td>Ride</td>\n",
       "      <td>10.0</td>\n",
       "      <td>5085121622</td>\n",
       "      <td>garmin_push_6565702584</td>\n",
       "      <td>...</td>\n",
       "      <td>2</td>\n",
       "      <td>0</td>\n",
       "      <td>False</td>\n",
       "      <td>623588</td>\n",
       "      <td>1</td>\n",
       "      <td>a5085121622</td>\n",
       "      <td>ue{yIguf{@@|IpApFjGiCtJa@nIbBjBmQjDyUy@jM~DkFu...</td>\n",
       "      <td>2</td>\n",
       "      <td>NaN</td>\n",
       "      <td>NaN</td>\n",
       "    </tr>\n",
       "    <tr>\n",
       "      <th>1</th>\n",
       "      <td>2</td>\n",
       "      <td>Aalborg</td>\n",
       "      <td>20125.5</td>\n",
       "      <td>6279</td>\n",
       "      <td>7416</td>\n",
       "      <td>435.2</td>\n",
       "      <td>Ride</td>\n",
       "      <td>10.0</td>\n",
       "      <td>5078818942</td>\n",
       "      <td>garmin_push_6559443035</td>\n",
       "      <td>...</td>\n",
       "      <td>9</td>\n",
       "      <td>0</td>\n",
       "      <td>False</td>\n",
       "      <td>623588</td>\n",
       "      <td>1</td>\n",
       "      <td>a5078818942</td>\n",
       "      <td>eg|zIetp{@p@_@jD`EbAk@McE{@gBBaB`@i@\\Rd@pAr@YX...</td>\n",
       "      <td>2</td>\n",
       "      <td>NaN</td>\n",
       "      <td>NaN</td>\n",
       "    </tr>\n",
       "    <tr>\n",
       "      <th>2</th>\n",
       "      <td>2</td>\n",
       "      <td>Silkeborg-Viborg-Mors part 3</td>\n",
       "      <td>10816.7</td>\n",
       "      <td>3971</td>\n",
       "      <td>5083</td>\n",
       "      <td>179.0</td>\n",
       "      <td>Ride</td>\n",
       "      <td>10.0</td>\n",
       "      <td>5050831627</td>\n",
       "      <td>garmin_push_6532008192</td>\n",
       "      <td>...</td>\n",
       "      <td>0</td>\n",
       "      <td>0</td>\n",
       "      <td>False</td>\n",
       "      <td>623588</td>\n",
       "      <td>1</td>\n",
       "      <td>a5050831627</td>\n",
       "      <td>oslyI{ryt@@^ZRhBdCF~B[hEa@~BYv@w@bAMq@]\\Oc@G@E...</td>\n",
       "      <td>2</td>\n",
       "      <td>NaN</td>\n",
       "      <td>NaN</td>\n",
       "    </tr>\n",
       "    <tr>\n",
       "      <th>3</th>\n",
       "      <td>2</td>\n",
       "      <td>Silkeborg-Viborg-Mors part 2</td>\n",
       "      <td>9026.9</td>\n",
       "      <td>2901</td>\n",
       "      <td>3238</td>\n",
       "      <td>69.3</td>\n",
       "      <td>Ride</td>\n",
       "      <td>10.0</td>\n",
       "      <td>5049722962</td>\n",
       "      <td>garmin_push_6530904449</td>\n",
       "      <td>...</td>\n",
       "      <td>0</td>\n",
       "      <td>0</td>\n",
       "      <td>False</td>\n",
       "      <td>623588</td>\n",
       "      <td>1</td>\n",
       "      <td>a5049722962</td>\n",
       "      <td>u~tvI_fsw@i@y@Dc@EW@iAOs@EaAXmA@SOg@MwBUuAy@sA...</td>\n",
       "      <td>2</td>\n",
       "      <td>NaN</td>\n",
       "      <td>NaN</td>\n",
       "    </tr>\n",
       "    <tr>\n",
       "      <th>4</th>\n",
       "      <td>2</td>\n",
       "      <td>Silkeborg-Viborg-Mors part 1</td>\n",
       "      <td>15201.3</td>\n",
       "      <td>4250</td>\n",
       "      <td>4899</td>\n",
       "      <td>319.3</td>\n",
       "      <td>Ride</td>\n",
       "      <td>10.0</td>\n",
       "      <td>5048541792</td>\n",
       "      <td>garmin_push_6529719534</td>\n",
       "      <td>...</td>\n",
       "      <td>0</td>\n",
       "      <td>0</td>\n",
       "      <td>False</td>\n",
       "      <td>623588</td>\n",
       "      <td>1</td>\n",
       "      <td>a5048541792</td>\n",
       "      <td>spuuIeliy@|ByB`CTN_@zC_DjAMBzARLZoCROTb@CvF`Ah...</td>\n",
       "      <td>2</td>\n",
       "      <td>NaN</td>\n",
       "      <td>NaN</td>\n",
       "    </tr>\n",
       "  </tbody>\n",
       "</table>\n",
       "<p>5 rows × 58 columns</p>\n",
       "</div>"
      ],
      "text/plain": [
       "   resource_state                          name  distance  moving_time  \\\n",
       "0               2                 Rebild bakker   35085.0        10484   \n",
       "1               2                       Aalborg   20125.5         6279   \n",
       "2               2  Silkeborg-Viborg-Mors part 3   10816.7         3971   \n",
       "3               2  Silkeborg-Viborg-Mors part 2    9026.9         2901   \n",
       "4               2  Silkeborg-Viborg-Mors part 1   15201.3         4250   \n",
       "\n",
       "   elapsed_time  total_elevation_gain  type  workout_type          id  \\\n",
       "0         15388                 537.4  Ride          10.0  5085121622   \n",
       "1          7416                 435.2  Ride          10.0  5078818942   \n",
       "2          5083                 179.0  Ride          10.0  5050831627   \n",
       "3          3238                  69.3  Ride          10.0  5049722962   \n",
       "4          4899                 319.3  Ride          10.0  5048541792   \n",
       "\n",
       "              external_id  ...  pr_count total_photo_count has_kudoed  \\\n",
       "0  garmin_push_6565702584  ...         2                 0      False   \n",
       "1  garmin_push_6559443035  ...         9                 0      False   \n",
       "2  garmin_push_6532008192  ...         0                 0      False   \n",
       "3  garmin_push_6530904449  ...         0                 0      False   \n",
       "4  garmin_push_6529719534  ...         0                 0      False   \n",
       "\n",
       "  athlete.id  athlete.resource_state       map.id  \\\n",
       "0     623588                       1  a5085121622   \n",
       "1     623588                       1  a5078818942   \n",
       "2     623588                       1  a5050831627   \n",
       "3     623588                       1  a5049722962   \n",
       "4     623588                       1  a5048541792   \n",
       "\n",
       "                                map.summary_polyline map.resource_state  \\\n",
       "0  ue{yIguf{@@|IpApFjGiCtJa@nIbBjBmQjDyUy@jM~DkFu...                  2   \n",
       "1  eg|zIetp{@p@_@jD`EbAk@McE{@gBBaB`@i@\\Rd@pAr@YX...                  2   \n",
       "2  oslyI{ryt@@^ZRhBdCF~B[hEa@~BYv@w@bAMq@]\\Oc@G@E...                  2   \n",
       "3  u~tvI_fsw@i@y@Dc@EW@iAOs@EaAXmA@SOg@MwBUuAy@sA...                  2   \n",
       "4  spuuIeliy@|ByB`CTN_@zC_DjAMBzARLZoCROTb@CvF`Ah...                  2   \n",
       "\n",
       "  average_temp average_cadence  \n",
       "0          NaN             NaN  \n",
       "1          NaN             NaN  \n",
       "2          NaN             NaN  \n",
       "3          NaN             NaN  \n",
       "4          NaN             NaN  \n",
       "\n",
       "[5 rows x 58 columns]"
      ]
     },
     "execution_count": 4,
     "metadata": {},
     "output_type": "execute_result"
    }
   ],
   "source": [
    "# Get data\n",
    "payload = {\n",
    "    'client_id': api_key['client_id'],\n",
    "    'client_secret': api_key['client_secret'],\n",
    "    'refresh_token': api_key['refresh_token'],\n",
    "    'grant_type': \"refresh_token\",\n",
    "    'f': 'json'\n",
    "}\n",
    "\n",
    "# Request access token\n",
    "res = requests.post(auth_url, data=payload, verify=False)\n",
    "access_token = res.json()['access_token']\n",
    "\n",
    "# Get data\n",
    "header = {'Authorization': 'Bearer ' + access_token}\n",
    "param = {'per_page': 200, 'page': 1}\n",
    "my_dataset = requests.get(activites_url, headers=header, params=param).json()\n",
    "df = pd.json_normalize(my_dataset)\n",
    "df.head()"
   ]
  },
  {
   "cell_type": "code",
   "execution_count": 7,
   "metadata": {},
   "outputs": [],
   "source": [
    "# plot 1 ride\n",
    "_df = df.head(1)\n",
    "\n",
    "coordinates = polyline.decode(_df.loc[0,'map.summary_polyline'])\n",
    "\n",
    "ride_longitudes = [coordinate[1] for coordinate in coordinates]\n",
    "ride_latitudes = [coordinate[0] for coordinate in coordinates]"
   ]
  },
  {
   "cell_type": "code",
   "execution_count": 8,
   "metadata": {},
   "outputs": [
    {
     "data": {
      "application/vnd.plotly.v1+json": {
       "config": {
        "plotlyServerURL": "https://plot.ly"
       },
       "data": [
        {
         "lat": [
          56.83307,
          56.83306,
          56.83265,
          56.83131,
          56.82944,
          56.82776,
          56.82722,
          56.82636,
          56.82665,
          56.82569,
          56.82612,
          56.82619,
          56.8266,
          56.82701,
          56.82814,
          56.82962,
          56.82921,
          56.82865,
          56.82836,
          56.8284,
          56.82879,
          56.82984,
          56.83096,
          56.83316,
          56.83312,
          56.83297,
          56.83293,
          56.83272,
          56.83114,
          56.82863,
          56.82781,
          56.82761,
          56.8271,
          56.82662,
          56.82571,
          56.82571,
          56.8261,
          56.82542,
          56.82191,
          56.82077,
          56.81968,
          56.81884,
          56.81825,
          56.8176,
          56.81567,
          56.81482,
          56.81343,
          56.81194,
          56.81093,
          56.81055,
          56.80791,
          56.8076,
          56.80705,
          56.80568,
          56.80488,
          56.80271,
          56.80136,
          56.80042,
          56.79964,
          56.79951,
          56.79962,
          56.80023,
          56.80013,
          56.80029,
          56.80198,
          56.80226,
          56.80369,
          56.80441,
          56.80647,
          56.80753,
          56.80875,
          56.81062,
          56.81183,
          56.8121,
          56.81295,
          56.81375,
          56.81403,
          56.81417,
          56.81568,
          56.81637,
          56.81697,
          56.81708,
          56.81752,
          56.81748,
          56.8187,
          56.81982,
          56.82052,
          56.82048,
          56.82083,
          56.82176,
          56.82092,
          56.81799,
          56.81765,
          56.81835,
          56.81885,
          56.81937,
          56.81962,
          56.82084,
          56.82218,
          56.82235,
          56.82218,
          56.82278,
          56.8228,
          56.82376,
          56.82416,
          56.82418,
          56.82359,
          56.8237,
          56.82321,
          56.82323,
          56.82382,
          56.82411,
          56.82409,
          56.8238,
          56.82382,
          56.82398,
          56.82451,
          56.82601,
          56.82673,
          56.8286,
          56.82977,
          56.8302,
          56.83041,
          56.83049,
          56.83113,
          56.83166,
          56.83205,
          56.83319,
          56.83339,
          56.83325,
          56.83398,
          56.834,
          56.83423,
          56.83459,
          56.83466,
          56.83385,
          56.83289,
          56.83259,
          56.83264,
          56.83374,
          56.8338,
          56.83491,
          56.83501,
          56.8355,
          56.83562,
          56.83764,
          56.83906,
          56.83967,
          56.84033,
          56.84299,
          56.84353,
          56.84392,
          56.8436,
          56.84351,
          56.84334,
          56.84249,
          56.84079,
          56.8407,
          56.84037,
          56.84098,
          56.83957,
          56.83938,
          56.83946,
          56.83848,
          56.83828,
          56.83832,
          56.83975,
          56.83994,
          56.83777,
          56.83517,
          56.83437,
          56.83432,
          56.83399,
          56.83309,
          56.8335,
          56.83406,
          56.83419,
          56.83389,
          56.8331,
          56.83325,
          56.83336,
          56.83286,
          56.83232,
          56.83119,
          56.83058,
          56.83024,
          56.83028,
          56.83066,
          56.83053,
          56.82964,
          56.82935,
          56.82901,
          56.82747,
          56.82662,
          56.8254,
          56.82443,
          56.82447,
          56.82508,
          56.82555,
          56.82586,
          56.82554,
          56.82568,
          56.82598,
          56.82604,
          56.82623,
          56.82662,
          56.82692,
          56.82707,
          56.82723,
          56.82738,
          56.82711,
          56.82722,
          56.83118,
          56.83148,
          56.8311,
          56.83042,
          56.83028,
          56.82957,
          56.82912,
          56.82936,
          56.82922,
          56.82957,
          56.82861,
          56.82739,
          56.82677,
          56.82626,
          56.82611,
          56.82563,
          56.82527,
          56.8243,
          56.82333,
          56.82323,
          56.82348,
          56.82403,
          56.82477,
          56.82548,
          56.82535,
          56.82509,
          56.82239,
          56.82226,
          56.82247,
          56.82273,
          56.82304,
          56.82371,
          56.82323,
          56.82277,
          56.82274,
          56.82216,
          56.82148,
          56.82144,
          56.82131,
          56.82117,
          56.82113,
          56.82084,
          56.82112,
          56.82107,
          56.82037,
          56.82036,
          56.8207,
          56.82077,
          56.82201,
          56.82198,
          56.82149,
          56.8213,
          56.82046,
          56.82033,
          56.81996,
          56.81978,
          56.82003,
          56.8196,
          56.81992,
          56.81922,
          56.81901,
          56.81881,
          56.81806,
          56.818,
          56.81847,
          56.81863,
          56.81862,
          56.81898,
          56.81871,
          56.81918,
          56.81954,
          56.81979,
          56.82046,
          56.8207,
          56.82088,
          56.82209,
          56.82427,
          56.82476,
          56.82507,
          56.82545,
          56.82539,
          56.8262,
          56.82665,
          56.82677,
          56.82715,
          56.82726,
          56.82637,
          56.82657,
          56.82702,
          56.82705,
          56.8274,
          56.82878,
          56.82865,
          56.82856,
          56.82815,
          56.82739,
          56.82753,
          56.82732,
          56.82718,
          56.82803,
          56.82819,
          56.82949,
          56.83023,
          56.83009,
          56.83055,
          56.83077,
          56.83067,
          56.82991,
          56.82975,
          56.8303,
          56.83078,
          56.83117,
          56.83122,
          56.83087,
          56.83119,
          56.8312,
          56.83124,
          56.83166,
          56.83138,
          56.83162,
          56.83155,
          56.83149,
          56.83135,
          56.83136,
          56.83159,
          56.83139,
          56.83164,
          56.83137,
          56.83211,
          56.83339,
          56.83383,
          56.83385,
          56.83322
         ],
         "line": {
          "color": "black"
         },
         "lon": [
          9.8698,
          9.86805,
          9.86684,
          9.86753,
          9.8677,
          9.8672,
          9.87015,
          9.8738,
          9.8715,
          9.87268,
          9.87328,
          9.87522,
          9.87588,
          9.87591,
          9.87512,
          9.87505,
          9.87418,
          9.87393,
          9.87253,
          9.87087,
          9.86934,
          9.86896,
          9.86975,
          9.87023,
          9.86818,
          9.86814,
          9.86727,
          9.86689,
          9.86754,
          9.86761,
          9.86719,
          9.8675,
          9.87037,
          9.87147,
          9.87255,
          9.87284,
          9.8735,
          9.87455,
          9.87551,
          9.87655,
          9.87594,
          9.87464,
          9.87449,
          9.87705,
          9.87633,
          9.87662,
          9.87784,
          9.87702,
          9.87596,
          9.87513,
          9.87416,
          9.87455,
          9.8745,
          9.87385,
          9.8748,
          9.8744,
          9.87268,
          9.87206,
          9.872,
          9.87082,
          9.86757,
          9.86461,
          9.86274,
          9.85667,
          9.85495,
          9.85341,
          9.85094,
          9.8487,
          9.8494,
          9.85078,
          9.85097,
          9.85267,
          9.85254,
          9.85085,
          9.84809,
          9.8474,
          9.84659,
          9.84323,
          9.84446,
          9.84477,
          9.84413,
          9.8425,
          9.84361,
          9.84472,
          9.84404,
          9.84479,
          9.84473,
          9.84411,
          9.84386,
          9.84146,
          9.84378,
          9.84405,
          9.84334,
          9.8426,
          9.84341,
          9.8427,
          9.84311,
          9.84312,
          9.83998,
          9.83924,
          9.8386,
          9.83703,
          9.83604,
          9.83478,
          9.83344,
          9.833,
          9.83176,
          9.82959,
          9.82831,
          9.82773,
          9.82796,
          9.8294,
          9.83068,
          9.82899,
          9.83083,
          9.83139,
          9.83154,
          9.8301,
          9.82714,
          9.8278,
          9.82765,
          9.82728,
          9.82669,
          9.82697,
          9.82646,
          9.82505,
          9.82721,
          9.83136,
          9.83447,
          9.83615,
          9.8372,
          9.83825,
          9.83895,
          9.83868,
          9.83901,
          9.84083,
          9.84205,
          9.84309,
          9.84389,
          9.8437,
          9.84253,
          9.84224,
          9.84332,
          9.84345,
          9.84486,
          9.84428,
          9.84472,
          9.84539,
          9.84564,
          9.84469,
          9.8451,
          9.846,
          9.84868,
          9.85156,
          9.85124,
          9.85129,
          9.852,
          9.85235,
          9.8564,
          9.85859,
          9.86294,
          9.8643,
          9.86727,
          9.86923,
          9.87146,
          9.87199,
          9.87282,
          9.87459,
          9.87423,
          9.87411,
          9.87353,
          9.87422,
          9.87158,
          9.8705,
          9.87065,
          9.8717,
          9.8762,
          9.87667,
          9.87681,
          9.87691,
          9.87849,
          9.87921,
          9.88106,
          9.88135,
          9.87933,
          9.87899,
          9.88023,
          9.88046,
          9.88141,
          9.88128,
          9.8798,
          9.87955,
          9.87987,
          9.88081,
          9.87934,
          9.87739,
          9.87599,
          9.87465,
          9.87429,
          9.87452,
          9.87652,
          9.87729,
          9.877,
          9.87613,
          9.87607,
          9.87713,
          9.87708,
          9.87653,
          9.87666,
          9.87721,
          9.87774,
          9.87793,
          9.87575,
          9.87468,
          9.87428,
          9.87432,
          9.87544,
          9.87362,
          9.87326,
          9.87347,
          9.87385,
          9.87499,
          9.8751,
          9.87611,
          9.87595,
          9.87515,
          9.87361,
          9.87305,
          9.87203,
          9.87083,
          9.8707,
          9.87195,
          9.87244,
          9.87267,
          9.87196,
          9.87329,
          9.87398,
          9.87445,
          9.87544,
          9.87807,
          9.87854,
          9.87815,
          9.87656,
          9.87729,
          9.87751,
          9.8784,
          9.87895,
          9.87897,
          9.87832,
          9.87888,
          9.87901,
          9.87861,
          9.87927,
          9.87858,
          9.87794,
          9.87724,
          9.8764,
          9.87603,
          9.87469,
          9.87308,
          9.87101,
          9.87085,
          9.87065,
          9.87132,
          9.87175,
          9.87134,
          9.87261,
          9.87358,
          9.87368,
          9.87519,
          9.87622,
          9.87991,
          9.87939,
          9.87987,
          9.87945,
          9.87842,
          9.87848,
          9.87809,
          9.87714,
          9.87602,
          9.87479,
          9.87336,
          9.8733,
          9.87213,
          9.87062,
          9.87099,
          9.87099,
          9.86927,
          9.86968,
          9.86915,
          9.86922,
          9.87054,
          9.87101,
          9.87071,
          9.86974,
          9.86871,
          9.86867,
          9.86968,
          9.87334,
          9.87464,
          9.87542,
          9.87496,
          9.87459,
          9.87396,
          9.87348,
          9.87388,
          9.87415,
          9.87421,
          9.87368,
          9.87345,
          9.87249,
          9.87201,
          9.87135,
          9.87178,
          9.87098,
          9.87045,
          9.87063,
          9.87112,
          9.87167,
          9.87182,
          9.87224,
          9.87371,
          9.87386,
          9.87288,
          9.87243,
          9.87242,
          9.87239,
          9.87154,
          9.8722,
          9.87205,
          9.87205,
          9.87193,
          9.87185,
          9.87173,
          9.87177,
          9.87221,
          9.87237,
          9.87228,
          9.87229,
          9.87247,
          9.87276,
          9.87289,
          9.87206,
          9.87143,
          9.8704
         ],
         "mode": "lines",
         "type": "scattermapbox"
        }
       ],
       "layout": {
        "mapbox": {
         "accesstoken": "pk.eyJ1IjoidHJpbmVqYSIsImEiOiJjazRvcjVhaWcxZ2hkM2tsNTNucXc4b2JqIn0.yGJjjGJbL51k6-RDIQ-5vg",
         "center": {
          "lat": 56.82662,
          "lon": 9.87199
         },
         "style": "light",
         "zoom": 11
        },
        "margin": {
         "b": 0,
         "l": 0,
         "r": 0,
         "t": 0
        },
        "template": {
         "data": {
          "bar": [
           {
            "error_x": {
             "color": "#2a3f5f"
            },
            "error_y": {
             "color": "#2a3f5f"
            },
            "marker": {
             "line": {
              "color": "#E5ECF6",
              "width": 0.5
             }
            },
            "type": "bar"
           }
          ],
          "barpolar": [
           {
            "marker": {
             "line": {
              "color": "#E5ECF6",
              "width": 0.5
             }
            },
            "type": "barpolar"
           }
          ],
          "carpet": [
           {
            "aaxis": {
             "endlinecolor": "#2a3f5f",
             "gridcolor": "white",
             "linecolor": "white",
             "minorgridcolor": "white",
             "startlinecolor": "#2a3f5f"
            },
            "baxis": {
             "endlinecolor": "#2a3f5f",
             "gridcolor": "white",
             "linecolor": "white",
             "minorgridcolor": "white",
             "startlinecolor": "#2a3f5f"
            },
            "type": "carpet"
           }
          ],
          "choropleth": [
           {
            "colorbar": {
             "outlinewidth": 0,
             "ticks": ""
            },
            "type": "choropleth"
           }
          ],
          "contour": [
           {
            "colorbar": {
             "outlinewidth": 0,
             "ticks": ""
            },
            "colorscale": [
             [
              0,
              "#0d0887"
             ],
             [
              0.1111111111111111,
              "#46039f"
             ],
             [
              0.2222222222222222,
              "#7201a8"
             ],
             [
              0.3333333333333333,
              "#9c179e"
             ],
             [
              0.4444444444444444,
              "#bd3786"
             ],
             [
              0.5555555555555556,
              "#d8576b"
             ],
             [
              0.6666666666666666,
              "#ed7953"
             ],
             [
              0.7777777777777778,
              "#fb9f3a"
             ],
             [
              0.8888888888888888,
              "#fdca26"
             ],
             [
              1,
              "#f0f921"
             ]
            ],
            "type": "contour"
           }
          ],
          "contourcarpet": [
           {
            "colorbar": {
             "outlinewidth": 0,
             "ticks": ""
            },
            "type": "contourcarpet"
           }
          ],
          "heatmap": [
           {
            "colorbar": {
             "outlinewidth": 0,
             "ticks": ""
            },
            "colorscale": [
             [
              0,
              "#0d0887"
             ],
             [
              0.1111111111111111,
              "#46039f"
             ],
             [
              0.2222222222222222,
              "#7201a8"
             ],
             [
              0.3333333333333333,
              "#9c179e"
             ],
             [
              0.4444444444444444,
              "#bd3786"
             ],
             [
              0.5555555555555556,
              "#d8576b"
             ],
             [
              0.6666666666666666,
              "#ed7953"
             ],
             [
              0.7777777777777778,
              "#fb9f3a"
             ],
             [
              0.8888888888888888,
              "#fdca26"
             ],
             [
              1,
              "#f0f921"
             ]
            ],
            "type": "heatmap"
           }
          ],
          "heatmapgl": [
           {
            "colorbar": {
             "outlinewidth": 0,
             "ticks": ""
            },
            "colorscale": [
             [
              0,
              "#0d0887"
             ],
             [
              0.1111111111111111,
              "#46039f"
             ],
             [
              0.2222222222222222,
              "#7201a8"
             ],
             [
              0.3333333333333333,
              "#9c179e"
             ],
             [
              0.4444444444444444,
              "#bd3786"
             ],
             [
              0.5555555555555556,
              "#d8576b"
             ],
             [
              0.6666666666666666,
              "#ed7953"
             ],
             [
              0.7777777777777778,
              "#fb9f3a"
             ],
             [
              0.8888888888888888,
              "#fdca26"
             ],
             [
              1,
              "#f0f921"
             ]
            ],
            "type": "heatmapgl"
           }
          ],
          "histogram": [
           {
            "marker": {
             "colorbar": {
              "outlinewidth": 0,
              "ticks": ""
             }
            },
            "type": "histogram"
           }
          ],
          "histogram2d": [
           {
            "colorbar": {
             "outlinewidth": 0,
             "ticks": ""
            },
            "colorscale": [
             [
              0,
              "#0d0887"
             ],
             [
              0.1111111111111111,
              "#46039f"
             ],
             [
              0.2222222222222222,
              "#7201a8"
             ],
             [
              0.3333333333333333,
              "#9c179e"
             ],
             [
              0.4444444444444444,
              "#bd3786"
             ],
             [
              0.5555555555555556,
              "#d8576b"
             ],
             [
              0.6666666666666666,
              "#ed7953"
             ],
             [
              0.7777777777777778,
              "#fb9f3a"
             ],
             [
              0.8888888888888888,
              "#fdca26"
             ],
             [
              1,
              "#f0f921"
             ]
            ],
            "type": "histogram2d"
           }
          ],
          "histogram2dcontour": [
           {
            "colorbar": {
             "outlinewidth": 0,
             "ticks": ""
            },
            "colorscale": [
             [
              0,
              "#0d0887"
             ],
             [
              0.1111111111111111,
              "#46039f"
             ],
             [
              0.2222222222222222,
              "#7201a8"
             ],
             [
              0.3333333333333333,
              "#9c179e"
             ],
             [
              0.4444444444444444,
              "#bd3786"
             ],
             [
              0.5555555555555556,
              "#d8576b"
             ],
             [
              0.6666666666666666,
              "#ed7953"
             ],
             [
              0.7777777777777778,
              "#fb9f3a"
             ],
             [
              0.8888888888888888,
              "#fdca26"
             ],
             [
              1,
              "#f0f921"
             ]
            ],
            "type": "histogram2dcontour"
           }
          ],
          "mesh3d": [
           {
            "colorbar": {
             "outlinewidth": 0,
             "ticks": ""
            },
            "type": "mesh3d"
           }
          ],
          "parcoords": [
           {
            "line": {
             "colorbar": {
              "outlinewidth": 0,
              "ticks": ""
             }
            },
            "type": "parcoords"
           }
          ],
          "pie": [
           {
            "automargin": true,
            "type": "pie"
           }
          ],
          "scatter": [
           {
            "marker": {
             "colorbar": {
              "outlinewidth": 0,
              "ticks": ""
             }
            },
            "type": "scatter"
           }
          ],
          "scatter3d": [
           {
            "line": {
             "colorbar": {
              "outlinewidth": 0,
              "ticks": ""
             }
            },
            "marker": {
             "colorbar": {
              "outlinewidth": 0,
              "ticks": ""
             }
            },
            "type": "scatter3d"
           }
          ],
          "scattercarpet": [
           {
            "marker": {
             "colorbar": {
              "outlinewidth": 0,
              "ticks": ""
             }
            },
            "type": "scattercarpet"
           }
          ],
          "scattergeo": [
           {
            "marker": {
             "colorbar": {
              "outlinewidth": 0,
              "ticks": ""
             }
            },
            "type": "scattergeo"
           }
          ],
          "scattergl": [
           {
            "marker": {
             "colorbar": {
              "outlinewidth": 0,
              "ticks": ""
             }
            },
            "type": "scattergl"
           }
          ],
          "scattermapbox": [
           {
            "marker": {
             "colorbar": {
              "outlinewidth": 0,
              "ticks": ""
             }
            },
            "type": "scattermapbox"
           }
          ],
          "scatterpolar": [
           {
            "marker": {
             "colorbar": {
              "outlinewidth": 0,
              "ticks": ""
             }
            },
            "type": "scatterpolar"
           }
          ],
          "scatterpolargl": [
           {
            "marker": {
             "colorbar": {
              "outlinewidth": 0,
              "ticks": ""
             }
            },
            "type": "scatterpolargl"
           }
          ],
          "scatterternary": [
           {
            "marker": {
             "colorbar": {
              "outlinewidth": 0,
              "ticks": ""
             }
            },
            "type": "scatterternary"
           }
          ],
          "surface": [
           {
            "colorbar": {
             "outlinewidth": 0,
             "ticks": ""
            },
            "colorscale": [
             [
              0,
              "#0d0887"
             ],
             [
              0.1111111111111111,
              "#46039f"
             ],
             [
              0.2222222222222222,
              "#7201a8"
             ],
             [
              0.3333333333333333,
              "#9c179e"
             ],
             [
              0.4444444444444444,
              "#bd3786"
             ],
             [
              0.5555555555555556,
              "#d8576b"
             ],
             [
              0.6666666666666666,
              "#ed7953"
             ],
             [
              0.7777777777777778,
              "#fb9f3a"
             ],
             [
              0.8888888888888888,
              "#fdca26"
             ],
             [
              1,
              "#f0f921"
             ]
            ],
            "type": "surface"
           }
          ],
          "table": [
           {
            "cells": {
             "fill": {
              "color": "#EBF0F8"
             },
             "line": {
              "color": "white"
             }
            },
            "header": {
             "fill": {
              "color": "#C8D4E3"
             },
             "line": {
              "color": "white"
             }
            },
            "type": "table"
           }
          ]
         },
         "layout": {
          "annotationdefaults": {
           "arrowcolor": "#2a3f5f",
           "arrowhead": 0,
           "arrowwidth": 1
          },
          "autotypenumbers": "strict",
          "coloraxis": {
           "colorbar": {
            "outlinewidth": 0,
            "ticks": ""
           }
          },
          "colorscale": {
           "diverging": [
            [
             0,
             "#8e0152"
            ],
            [
             0.1,
             "#c51b7d"
            ],
            [
             0.2,
             "#de77ae"
            ],
            [
             0.3,
             "#f1b6da"
            ],
            [
             0.4,
             "#fde0ef"
            ],
            [
             0.5,
             "#f7f7f7"
            ],
            [
             0.6,
             "#e6f5d0"
            ],
            [
             0.7,
             "#b8e186"
            ],
            [
             0.8,
             "#7fbc41"
            ],
            [
             0.9,
             "#4d9221"
            ],
            [
             1,
             "#276419"
            ]
           ],
           "sequential": [
            [
             0,
             "#0d0887"
            ],
            [
             0.1111111111111111,
             "#46039f"
            ],
            [
             0.2222222222222222,
             "#7201a8"
            ],
            [
             0.3333333333333333,
             "#9c179e"
            ],
            [
             0.4444444444444444,
             "#bd3786"
            ],
            [
             0.5555555555555556,
             "#d8576b"
            ],
            [
             0.6666666666666666,
             "#ed7953"
            ],
            [
             0.7777777777777778,
             "#fb9f3a"
            ],
            [
             0.8888888888888888,
             "#fdca26"
            ],
            [
             1,
             "#f0f921"
            ]
           ],
           "sequentialminus": [
            [
             0,
             "#0d0887"
            ],
            [
             0.1111111111111111,
             "#46039f"
            ],
            [
             0.2222222222222222,
             "#7201a8"
            ],
            [
             0.3333333333333333,
             "#9c179e"
            ],
            [
             0.4444444444444444,
             "#bd3786"
            ],
            [
             0.5555555555555556,
             "#d8576b"
            ],
            [
             0.6666666666666666,
             "#ed7953"
            ],
            [
             0.7777777777777778,
             "#fb9f3a"
            ],
            [
             0.8888888888888888,
             "#fdca26"
            ],
            [
             1,
             "#f0f921"
            ]
           ]
          },
          "colorway": [
           "#636efa",
           "#EF553B",
           "#00cc96",
           "#ab63fa",
           "#FFA15A",
           "#19d3f3",
           "#FF6692",
           "#B6E880",
           "#FF97FF",
           "#FECB52"
          ],
          "font": {
           "color": "#2a3f5f"
          },
          "geo": {
           "bgcolor": "white",
           "lakecolor": "white",
           "landcolor": "#E5ECF6",
           "showlakes": true,
           "showland": true,
           "subunitcolor": "white"
          },
          "hoverlabel": {
           "align": "left"
          },
          "hovermode": "closest",
          "mapbox": {
           "style": "light"
          },
          "paper_bgcolor": "white",
          "plot_bgcolor": "#E5ECF6",
          "polar": {
           "angularaxis": {
            "gridcolor": "white",
            "linecolor": "white",
            "ticks": ""
           },
           "bgcolor": "#E5ECF6",
           "radialaxis": {
            "gridcolor": "white",
            "linecolor": "white",
            "ticks": ""
           }
          },
          "scene": {
           "xaxis": {
            "backgroundcolor": "#E5ECF6",
            "gridcolor": "white",
            "gridwidth": 2,
            "linecolor": "white",
            "showbackground": true,
            "ticks": "",
            "zerolinecolor": "white"
           },
           "yaxis": {
            "backgroundcolor": "#E5ECF6",
            "gridcolor": "white",
            "gridwidth": 2,
            "linecolor": "white",
            "showbackground": true,
            "ticks": "",
            "zerolinecolor": "white"
           },
           "zaxis": {
            "backgroundcolor": "#E5ECF6",
            "gridcolor": "white",
            "gridwidth": 2,
            "linecolor": "white",
            "showbackground": true,
            "ticks": "",
            "zerolinecolor": "white"
           }
          },
          "shapedefaults": {
           "line": {
            "color": "#2a3f5f"
           }
          },
          "ternary": {
           "aaxis": {
            "gridcolor": "white",
            "linecolor": "white",
            "ticks": ""
           },
           "baxis": {
            "gridcolor": "white",
            "linecolor": "white",
            "ticks": ""
           },
           "bgcolor": "#E5ECF6",
           "caxis": {
            "gridcolor": "white",
            "linecolor": "white",
            "ticks": ""
           }
          },
          "title": {
           "x": 0.05
          },
          "xaxis": {
           "automargin": true,
           "gridcolor": "white",
           "linecolor": "white",
           "ticks": "",
           "title": {
            "standoff": 15
           },
           "zerolinecolor": "white",
           "zerolinewidth": 2
          },
          "yaxis": {
           "automargin": true,
           "gridcolor": "white",
           "linecolor": "white",
           "ticks": "",
           "title": {
            "standoff": 15
           },
           "zerolinecolor": "white",
           "zerolinewidth": 2
          }
         }
        }
       }
      },
      "text/html": [
       "<div>                            <div id=\"605fd917-7c4c-4fa4-8981-ec308eb3043a\" class=\"plotly-graph-div\" style=\"height:525px; width:100%;\"></div>            <script type=\"text/javascript\">                require([\"plotly\"], function(Plotly) {                    window.PLOTLYENV=window.PLOTLYENV || {};                                    if (document.getElementById(\"605fd917-7c4c-4fa4-8981-ec308eb3043a\")) {                    Plotly.newPlot(                        \"605fd917-7c4c-4fa4-8981-ec308eb3043a\",                        [{\"lat\": [56.83307, 56.83306, 56.83265, 56.83131, 56.82944, 56.82776, 56.82722, 56.82636, 56.82665, 56.82569, 56.82612, 56.82619, 56.8266, 56.82701, 56.82814, 56.82962, 56.82921, 56.82865, 56.82836, 56.8284, 56.82879, 56.82984, 56.83096, 56.83316, 56.83312, 56.83297, 56.83293, 56.83272, 56.83114, 56.82863, 56.82781, 56.82761, 56.8271, 56.82662, 56.82571, 56.82571, 56.8261, 56.82542, 56.82191, 56.82077, 56.81968, 56.81884, 56.81825, 56.8176, 56.81567, 56.81482, 56.81343, 56.81194, 56.81093, 56.81055, 56.80791, 56.8076, 56.80705, 56.80568, 56.80488, 56.80271, 56.80136, 56.80042, 56.79964, 56.79951, 56.79962, 56.80023, 56.80013, 56.80029, 56.80198, 56.80226, 56.80369, 56.80441, 56.80647, 56.80753, 56.80875, 56.81062, 56.81183, 56.8121, 56.81295, 56.81375, 56.81403, 56.81417, 56.81568, 56.81637, 56.81697, 56.81708, 56.81752, 56.81748, 56.8187, 56.81982, 56.82052, 56.82048, 56.82083, 56.82176, 56.82092, 56.81799, 56.81765, 56.81835, 56.81885, 56.81937, 56.81962, 56.82084, 56.82218, 56.82235, 56.82218, 56.82278, 56.8228, 56.82376, 56.82416, 56.82418, 56.82359, 56.8237, 56.82321, 56.82323, 56.82382, 56.82411, 56.82409, 56.8238, 56.82382, 56.82398, 56.82451, 56.82601, 56.82673, 56.8286, 56.82977, 56.8302, 56.83041, 56.83049, 56.83113, 56.83166, 56.83205, 56.83319, 56.83339, 56.83325, 56.83398, 56.834, 56.83423, 56.83459, 56.83466, 56.83385, 56.83289, 56.83259, 56.83264, 56.83374, 56.8338, 56.83491, 56.83501, 56.8355, 56.83562, 56.83764, 56.83906, 56.83967, 56.84033, 56.84299, 56.84353, 56.84392, 56.8436, 56.84351, 56.84334, 56.84249, 56.84079, 56.8407, 56.84037, 56.84098, 56.83957, 56.83938, 56.83946, 56.83848, 56.83828, 56.83832, 56.83975, 56.83994, 56.83777, 56.83517, 56.83437, 56.83432, 56.83399, 56.83309, 56.8335, 56.83406, 56.83419, 56.83389, 56.8331, 56.83325, 56.83336, 56.83286, 56.83232, 56.83119, 56.83058, 56.83024, 56.83028, 56.83066, 56.83053, 56.82964, 56.82935, 56.82901, 56.82747, 56.82662, 56.8254, 56.82443, 56.82447, 56.82508, 56.82555, 56.82586, 56.82554, 56.82568, 56.82598, 56.82604, 56.82623, 56.82662, 56.82692, 56.82707, 56.82723, 56.82738, 56.82711, 56.82722, 56.83118, 56.83148, 56.8311, 56.83042, 56.83028, 56.82957, 56.82912, 56.82936, 56.82922, 56.82957, 56.82861, 56.82739, 56.82677, 56.82626, 56.82611, 56.82563, 56.82527, 56.8243, 56.82333, 56.82323, 56.82348, 56.82403, 56.82477, 56.82548, 56.82535, 56.82509, 56.82239, 56.82226, 56.82247, 56.82273, 56.82304, 56.82371, 56.82323, 56.82277, 56.82274, 56.82216, 56.82148, 56.82144, 56.82131, 56.82117, 56.82113, 56.82084, 56.82112, 56.82107, 56.82037, 56.82036, 56.8207, 56.82077, 56.82201, 56.82198, 56.82149, 56.8213, 56.82046, 56.82033, 56.81996, 56.81978, 56.82003, 56.8196, 56.81992, 56.81922, 56.81901, 56.81881, 56.81806, 56.818, 56.81847, 56.81863, 56.81862, 56.81898, 56.81871, 56.81918, 56.81954, 56.81979, 56.82046, 56.8207, 56.82088, 56.82209, 56.82427, 56.82476, 56.82507, 56.82545, 56.82539, 56.8262, 56.82665, 56.82677, 56.82715, 56.82726, 56.82637, 56.82657, 56.82702, 56.82705, 56.8274, 56.82878, 56.82865, 56.82856, 56.82815, 56.82739, 56.82753, 56.82732, 56.82718, 56.82803, 56.82819, 56.82949, 56.83023, 56.83009, 56.83055, 56.83077, 56.83067, 56.82991, 56.82975, 56.8303, 56.83078, 56.83117, 56.83122, 56.83087, 56.83119, 56.8312, 56.83124, 56.83166, 56.83138, 56.83162, 56.83155, 56.83149, 56.83135, 56.83136, 56.83159, 56.83139, 56.83164, 56.83137, 56.83211, 56.83339, 56.83383, 56.83385, 56.83322], \"line\": {\"color\": \"black\"}, \"lon\": [9.8698, 9.86805, 9.86684, 9.86753, 9.8677, 9.8672, 9.87015, 9.8738, 9.8715, 9.87268, 9.87328, 9.87522, 9.87588, 9.87591, 9.87512, 9.87505, 9.87418, 9.87393, 9.87253, 9.87087, 9.86934, 9.86896, 9.86975, 9.87023, 9.86818, 9.86814, 9.86727, 9.86689, 9.86754, 9.86761, 9.86719, 9.8675, 9.87037, 9.87147, 9.87255, 9.87284, 9.8735, 9.87455, 9.87551, 9.87655, 9.87594, 9.87464, 9.87449, 9.87705, 9.87633, 9.87662, 9.87784, 9.87702, 9.87596, 9.87513, 9.87416, 9.87455, 9.8745, 9.87385, 9.8748, 9.8744, 9.87268, 9.87206, 9.872, 9.87082, 9.86757, 9.86461, 9.86274, 9.85667, 9.85495, 9.85341, 9.85094, 9.8487, 9.8494, 9.85078, 9.85097, 9.85267, 9.85254, 9.85085, 9.84809, 9.8474, 9.84659, 9.84323, 9.84446, 9.84477, 9.84413, 9.8425, 9.84361, 9.84472, 9.84404, 9.84479, 9.84473, 9.84411, 9.84386, 9.84146, 9.84378, 9.84405, 9.84334, 9.8426, 9.84341, 9.8427, 9.84311, 9.84312, 9.83998, 9.83924, 9.8386, 9.83703, 9.83604, 9.83478, 9.83344, 9.833, 9.83176, 9.82959, 9.82831, 9.82773, 9.82796, 9.8294, 9.83068, 9.82899, 9.83083, 9.83139, 9.83154, 9.8301, 9.82714, 9.8278, 9.82765, 9.82728, 9.82669, 9.82697, 9.82646, 9.82505, 9.82721, 9.83136, 9.83447, 9.83615, 9.8372, 9.83825, 9.83895, 9.83868, 9.83901, 9.84083, 9.84205, 9.84309, 9.84389, 9.8437, 9.84253, 9.84224, 9.84332, 9.84345, 9.84486, 9.84428, 9.84472, 9.84539, 9.84564, 9.84469, 9.8451, 9.846, 9.84868, 9.85156, 9.85124, 9.85129, 9.852, 9.85235, 9.8564, 9.85859, 9.86294, 9.8643, 9.86727, 9.86923, 9.87146, 9.87199, 9.87282, 9.87459, 9.87423, 9.87411, 9.87353, 9.87422, 9.87158, 9.8705, 9.87065, 9.8717, 9.8762, 9.87667, 9.87681, 9.87691, 9.87849, 9.87921, 9.88106, 9.88135, 9.87933, 9.87899, 9.88023, 9.88046, 9.88141, 9.88128, 9.8798, 9.87955, 9.87987, 9.88081, 9.87934, 9.87739, 9.87599, 9.87465, 9.87429, 9.87452, 9.87652, 9.87729, 9.877, 9.87613, 9.87607, 9.87713, 9.87708, 9.87653, 9.87666, 9.87721, 9.87774, 9.87793, 9.87575, 9.87468, 9.87428, 9.87432, 9.87544, 9.87362, 9.87326, 9.87347, 9.87385, 9.87499, 9.8751, 9.87611, 9.87595, 9.87515, 9.87361, 9.87305, 9.87203, 9.87083, 9.8707, 9.87195, 9.87244, 9.87267, 9.87196, 9.87329, 9.87398, 9.87445, 9.87544, 9.87807, 9.87854, 9.87815, 9.87656, 9.87729, 9.87751, 9.8784, 9.87895, 9.87897, 9.87832, 9.87888, 9.87901, 9.87861, 9.87927, 9.87858, 9.87794, 9.87724, 9.8764, 9.87603, 9.87469, 9.87308, 9.87101, 9.87085, 9.87065, 9.87132, 9.87175, 9.87134, 9.87261, 9.87358, 9.87368, 9.87519, 9.87622, 9.87991, 9.87939, 9.87987, 9.87945, 9.87842, 9.87848, 9.87809, 9.87714, 9.87602, 9.87479, 9.87336, 9.8733, 9.87213, 9.87062, 9.87099, 9.87099, 9.86927, 9.86968, 9.86915, 9.86922, 9.87054, 9.87101, 9.87071, 9.86974, 9.86871, 9.86867, 9.86968, 9.87334, 9.87464, 9.87542, 9.87496, 9.87459, 9.87396, 9.87348, 9.87388, 9.87415, 9.87421, 9.87368, 9.87345, 9.87249, 9.87201, 9.87135, 9.87178, 9.87098, 9.87045, 9.87063, 9.87112, 9.87167, 9.87182, 9.87224, 9.87371, 9.87386, 9.87288, 9.87243, 9.87242, 9.87239, 9.87154, 9.8722, 9.87205, 9.87205, 9.87193, 9.87185, 9.87173, 9.87177, 9.87221, 9.87237, 9.87228, 9.87229, 9.87247, 9.87276, 9.87289, 9.87206, 9.87143, 9.8704], \"mode\": \"lines\", \"type\": \"scattermapbox\"}],                        {\"mapbox\": {\"accesstoken\": \"pk.eyJ1IjoidHJpbmVqYSIsImEiOiJjazRvcjVhaWcxZ2hkM2tsNTNucXc4b2JqIn0.yGJjjGJbL51k6-RDIQ-5vg\", \"center\": {\"lat\": 56.82662, \"lon\": 9.87199}, \"style\": \"light\", \"zoom\": 11}, \"margin\": {\"b\": 0, \"l\": 0, \"r\": 0, \"t\": 0}, \"template\": {\"data\": {\"bar\": [{\"error_x\": {\"color\": \"#2a3f5f\"}, \"error_y\": {\"color\": \"#2a3f5f\"}, \"marker\": {\"line\": {\"color\": \"#E5ECF6\", \"width\": 0.5}}, \"type\": \"bar\"}], \"barpolar\": [{\"marker\": {\"line\": {\"color\": \"#E5ECF6\", \"width\": 0.5}}, \"type\": \"barpolar\"}], \"carpet\": [{\"aaxis\": {\"endlinecolor\": \"#2a3f5f\", \"gridcolor\": \"white\", \"linecolor\": \"white\", \"minorgridcolor\": \"white\", \"startlinecolor\": \"#2a3f5f\"}, \"baxis\": {\"endlinecolor\": \"#2a3f5f\", \"gridcolor\": \"white\", \"linecolor\": \"white\", \"minorgridcolor\": \"white\", \"startlinecolor\": \"#2a3f5f\"}, \"type\": \"carpet\"}], \"choropleth\": [{\"colorbar\": {\"outlinewidth\": 0, \"ticks\": \"\"}, \"type\": \"choropleth\"}], \"contour\": [{\"colorbar\": {\"outlinewidth\": 0, \"ticks\": \"\"}, \"colorscale\": [[0.0, \"#0d0887\"], [0.1111111111111111, \"#46039f\"], [0.2222222222222222, \"#7201a8\"], [0.3333333333333333, \"#9c179e\"], [0.4444444444444444, \"#bd3786\"], [0.5555555555555556, \"#d8576b\"], [0.6666666666666666, \"#ed7953\"], [0.7777777777777778, \"#fb9f3a\"], [0.8888888888888888, \"#fdca26\"], [1.0, \"#f0f921\"]], \"type\": \"contour\"}], \"contourcarpet\": [{\"colorbar\": {\"outlinewidth\": 0, \"ticks\": \"\"}, \"type\": \"contourcarpet\"}], \"heatmap\": [{\"colorbar\": {\"outlinewidth\": 0, \"ticks\": \"\"}, \"colorscale\": [[0.0, \"#0d0887\"], [0.1111111111111111, \"#46039f\"], [0.2222222222222222, \"#7201a8\"], [0.3333333333333333, \"#9c179e\"], [0.4444444444444444, \"#bd3786\"], [0.5555555555555556, \"#d8576b\"], [0.6666666666666666, \"#ed7953\"], [0.7777777777777778, \"#fb9f3a\"], [0.8888888888888888, \"#fdca26\"], [1.0, \"#f0f921\"]], \"type\": \"heatmap\"}], \"heatmapgl\": [{\"colorbar\": {\"outlinewidth\": 0, \"ticks\": \"\"}, \"colorscale\": [[0.0, \"#0d0887\"], [0.1111111111111111, \"#46039f\"], [0.2222222222222222, \"#7201a8\"], [0.3333333333333333, \"#9c179e\"], [0.4444444444444444, \"#bd3786\"], [0.5555555555555556, \"#d8576b\"], [0.6666666666666666, \"#ed7953\"], [0.7777777777777778, \"#fb9f3a\"], [0.8888888888888888, \"#fdca26\"], [1.0, \"#f0f921\"]], \"type\": \"heatmapgl\"}], \"histogram\": [{\"marker\": {\"colorbar\": {\"outlinewidth\": 0, \"ticks\": \"\"}}, \"type\": \"histogram\"}], \"histogram2d\": [{\"colorbar\": {\"outlinewidth\": 0, \"ticks\": \"\"}, \"colorscale\": [[0.0, \"#0d0887\"], [0.1111111111111111, \"#46039f\"], [0.2222222222222222, \"#7201a8\"], [0.3333333333333333, \"#9c179e\"], [0.4444444444444444, \"#bd3786\"], [0.5555555555555556, \"#d8576b\"], [0.6666666666666666, \"#ed7953\"], [0.7777777777777778, \"#fb9f3a\"], [0.8888888888888888, \"#fdca26\"], [1.0, \"#f0f921\"]], \"type\": \"histogram2d\"}], \"histogram2dcontour\": [{\"colorbar\": {\"outlinewidth\": 0, \"ticks\": \"\"}, \"colorscale\": [[0.0, \"#0d0887\"], [0.1111111111111111, \"#46039f\"], [0.2222222222222222, \"#7201a8\"], [0.3333333333333333, \"#9c179e\"], [0.4444444444444444, \"#bd3786\"], [0.5555555555555556, \"#d8576b\"], [0.6666666666666666, \"#ed7953\"], [0.7777777777777778, \"#fb9f3a\"], [0.8888888888888888, \"#fdca26\"], [1.0, \"#f0f921\"]], \"type\": \"histogram2dcontour\"}], \"mesh3d\": [{\"colorbar\": {\"outlinewidth\": 0, \"ticks\": \"\"}, \"type\": \"mesh3d\"}], \"parcoords\": [{\"line\": {\"colorbar\": {\"outlinewidth\": 0, \"ticks\": \"\"}}, \"type\": \"parcoords\"}], \"pie\": [{\"automargin\": true, \"type\": \"pie\"}], \"scatter\": [{\"marker\": {\"colorbar\": {\"outlinewidth\": 0, \"ticks\": \"\"}}, \"type\": \"scatter\"}], \"scatter3d\": [{\"line\": {\"colorbar\": {\"outlinewidth\": 0, \"ticks\": \"\"}}, \"marker\": {\"colorbar\": {\"outlinewidth\": 0, \"ticks\": \"\"}}, \"type\": \"scatter3d\"}], \"scattercarpet\": [{\"marker\": {\"colorbar\": {\"outlinewidth\": 0, \"ticks\": \"\"}}, \"type\": \"scattercarpet\"}], \"scattergeo\": [{\"marker\": {\"colorbar\": {\"outlinewidth\": 0, \"ticks\": \"\"}}, \"type\": \"scattergeo\"}], \"scattergl\": [{\"marker\": {\"colorbar\": {\"outlinewidth\": 0, \"ticks\": \"\"}}, \"type\": \"scattergl\"}], \"scattermapbox\": [{\"marker\": {\"colorbar\": {\"outlinewidth\": 0, \"ticks\": \"\"}}, \"type\": \"scattermapbox\"}], \"scatterpolar\": [{\"marker\": {\"colorbar\": {\"outlinewidth\": 0, \"ticks\": \"\"}}, \"type\": \"scatterpolar\"}], \"scatterpolargl\": [{\"marker\": {\"colorbar\": {\"outlinewidth\": 0, \"ticks\": \"\"}}, \"type\": \"scatterpolargl\"}], \"scatterternary\": [{\"marker\": {\"colorbar\": {\"outlinewidth\": 0, \"ticks\": \"\"}}, \"type\": \"scatterternary\"}], \"surface\": [{\"colorbar\": {\"outlinewidth\": 0, \"ticks\": \"\"}, \"colorscale\": [[0.0, \"#0d0887\"], [0.1111111111111111, \"#46039f\"], [0.2222222222222222, \"#7201a8\"], [0.3333333333333333, \"#9c179e\"], [0.4444444444444444, \"#bd3786\"], [0.5555555555555556, \"#d8576b\"], [0.6666666666666666, \"#ed7953\"], [0.7777777777777778, \"#fb9f3a\"], [0.8888888888888888, \"#fdca26\"], [1.0, \"#f0f921\"]], \"type\": \"surface\"}], \"table\": [{\"cells\": {\"fill\": {\"color\": \"#EBF0F8\"}, \"line\": {\"color\": \"white\"}}, \"header\": {\"fill\": {\"color\": \"#C8D4E3\"}, \"line\": {\"color\": \"white\"}}, \"type\": \"table\"}]}, \"layout\": {\"annotationdefaults\": {\"arrowcolor\": \"#2a3f5f\", \"arrowhead\": 0, \"arrowwidth\": 1}, \"autotypenumbers\": \"strict\", \"coloraxis\": {\"colorbar\": {\"outlinewidth\": 0, \"ticks\": \"\"}}, \"colorscale\": {\"diverging\": [[0, \"#8e0152\"], [0.1, \"#c51b7d\"], [0.2, \"#de77ae\"], [0.3, \"#f1b6da\"], [0.4, \"#fde0ef\"], [0.5, \"#f7f7f7\"], [0.6, \"#e6f5d0\"], [0.7, \"#b8e186\"], [0.8, \"#7fbc41\"], [0.9, \"#4d9221\"], [1, \"#276419\"]], \"sequential\": [[0.0, \"#0d0887\"], [0.1111111111111111, \"#46039f\"], [0.2222222222222222, \"#7201a8\"], [0.3333333333333333, \"#9c179e\"], [0.4444444444444444, \"#bd3786\"], [0.5555555555555556, \"#d8576b\"], [0.6666666666666666, \"#ed7953\"], [0.7777777777777778, \"#fb9f3a\"], [0.8888888888888888, \"#fdca26\"], [1.0, \"#f0f921\"]], \"sequentialminus\": [[0.0, \"#0d0887\"], [0.1111111111111111, \"#46039f\"], [0.2222222222222222, \"#7201a8\"], [0.3333333333333333, \"#9c179e\"], [0.4444444444444444, \"#bd3786\"], [0.5555555555555556, \"#d8576b\"], [0.6666666666666666, \"#ed7953\"], [0.7777777777777778, \"#fb9f3a\"], [0.8888888888888888, \"#fdca26\"], [1.0, \"#f0f921\"]]}, \"colorway\": [\"#636efa\", \"#EF553B\", \"#00cc96\", \"#ab63fa\", \"#FFA15A\", \"#19d3f3\", \"#FF6692\", \"#B6E880\", \"#FF97FF\", \"#FECB52\"], \"font\": {\"color\": \"#2a3f5f\"}, \"geo\": {\"bgcolor\": \"white\", \"lakecolor\": \"white\", \"landcolor\": \"#E5ECF6\", \"showlakes\": true, \"showland\": true, \"subunitcolor\": \"white\"}, \"hoverlabel\": {\"align\": \"left\"}, \"hovermode\": \"closest\", \"mapbox\": {\"style\": \"light\"}, \"paper_bgcolor\": \"white\", \"plot_bgcolor\": \"#E5ECF6\", \"polar\": {\"angularaxis\": {\"gridcolor\": \"white\", \"linecolor\": \"white\", \"ticks\": \"\"}, \"bgcolor\": \"#E5ECF6\", \"radialaxis\": {\"gridcolor\": \"white\", \"linecolor\": \"white\", \"ticks\": \"\"}}, \"scene\": {\"xaxis\": {\"backgroundcolor\": \"#E5ECF6\", \"gridcolor\": \"white\", \"gridwidth\": 2, \"linecolor\": \"white\", \"showbackground\": true, \"ticks\": \"\", \"zerolinecolor\": \"white\"}, \"yaxis\": {\"backgroundcolor\": \"#E5ECF6\", \"gridcolor\": \"white\", \"gridwidth\": 2, \"linecolor\": \"white\", \"showbackground\": true, \"ticks\": \"\", \"zerolinecolor\": \"white\"}, \"zaxis\": {\"backgroundcolor\": \"#E5ECF6\", \"gridcolor\": \"white\", \"gridwidth\": 2, \"linecolor\": \"white\", \"showbackground\": true, \"ticks\": \"\", \"zerolinecolor\": \"white\"}}, \"shapedefaults\": {\"line\": {\"color\": \"#2a3f5f\"}}, \"ternary\": {\"aaxis\": {\"gridcolor\": \"white\", \"linecolor\": \"white\", \"ticks\": \"\"}, \"baxis\": {\"gridcolor\": \"white\", \"linecolor\": \"white\", \"ticks\": \"\"}, \"bgcolor\": \"#E5ECF6\", \"caxis\": {\"gridcolor\": \"white\", \"linecolor\": \"white\", \"ticks\": \"\"}}, \"title\": {\"x\": 0.05}, \"xaxis\": {\"automargin\": true, \"gridcolor\": \"white\", \"linecolor\": \"white\", \"ticks\": \"\", \"title\": {\"standoff\": 15}, \"zerolinecolor\": \"white\", \"zerolinewidth\": 2}, \"yaxis\": {\"automargin\": true, \"gridcolor\": \"white\", \"linecolor\": \"white\", \"ticks\": \"\", \"title\": {\"standoff\": 15}, \"zerolinecolor\": \"white\", \"zerolinewidth\": 2}}}},                        {\"responsive\": true}                    ).then(function(){\n",
       "                            \n",
       "var gd = document.getElementById('605fd917-7c4c-4fa4-8981-ec308eb3043a');\n",
       "var x = new MutationObserver(function (mutations, observer) {{\n",
       "        var display = window.getComputedStyle(gd).display;\n",
       "        if (!display || display === 'none') {{\n",
       "            console.log([gd, 'removed!']);\n",
       "            Plotly.purge(gd);\n",
       "            observer.disconnect();\n",
       "        }}\n",
       "}});\n",
       "\n",
       "// Listen for the removal of the full notebook cells\n",
       "var notebookContainer = gd.closest('#notebook-container');\n",
       "if (notebookContainer) {{\n",
       "    x.observe(notebookContainer, {childList: true});\n",
       "}}\n",
       "\n",
       "// Listen for the clearing of the current output cell\n",
       "var outputEl = gd.closest('.output');\n",
       "if (outputEl) {{\n",
       "    x.observe(outputEl, {childList: true});\n",
       "}}\n",
       "\n",
       "                        })                };                });            </script>        </div>"
      ]
     },
     "metadata": {},
     "output_type": "display_data"
    }
   ],
   "source": [
    "# plot ride above on map\n",
    "import plotly.graph_objects as go\n",
    "\n",
    "fig = go.Figure()\n",
    "fig.add_trace(\n",
    "    go.Scattermapbox(\n",
    "        lat = ride_latitudes, \n",
    "        lon = ride_longitudes,\n",
    "        mode = \"lines\", # is it possible to add direction arrow?\n",
    "        line= go.scattermapbox.Line(\n",
    "            color='black'\n",
    "        )\n",
    "    )\n",
    ")\n",
    "\n",
    "fig.update_layout(\n",
    "        mapbox = go.layout.Mapbox(\n",
    "            accesstoken=mapbox_token,\n",
    "            style='light',\n",
    "            zoom=11,\n",
    "            center=go.layout.mapbox.Center(\n",
    "                lat=np.median(ride_latitudes),\n",
    "                lon=np.median(ride_longitudes)\n",
    "            ),\n",
    "        ),\n",
    "        margin={\"r\":0,\"t\":0,\"l\":0,\"b\":0}\n",
    "    )"
   ]
  },
  {
   "cell_type": "code",
   "execution_count": 9,
   "metadata": {},
   "outputs": [
    {
     "data": {
      "application/vnd.plotly.v1+json": {
       "config": {
        "plotlyServerURL": "https://plot.ly"
       },
       "data": [
        {
         "hovertemplate": "lat=%{lat}<br>lon=%{lon}<extra></extra>",
         "lat": [
          56.83307,
          56.83306,
          56.83265,
          56.83131,
          56.82944,
          56.82776,
          56.82722,
          56.82636,
          56.82665,
          56.82569,
          56.82612,
          56.82619,
          56.8266,
          56.82701,
          56.82814,
          56.82962,
          56.82921,
          56.82865,
          56.82836,
          56.8284,
          56.82879,
          56.82984,
          56.83096,
          56.83316,
          56.83312,
          56.83297,
          56.83293,
          56.83272,
          56.83114,
          56.82863,
          56.82781,
          56.82761,
          56.8271,
          56.82662,
          56.82571,
          56.82571,
          56.8261,
          56.82542,
          56.82191,
          56.82077,
          56.81968,
          56.81884,
          56.81825,
          56.8176,
          56.81567,
          56.81482,
          56.81343,
          56.81194,
          56.81093,
          56.81055,
          56.80791,
          56.8076,
          56.80705,
          56.80568,
          56.80488,
          56.80271,
          56.80136,
          56.80042,
          56.79964,
          56.79951,
          56.79962,
          56.80023,
          56.80013,
          56.80029,
          56.80198,
          56.80226,
          56.80369,
          56.80441,
          56.80647,
          56.80753,
          56.80875,
          56.81062,
          56.81183,
          56.8121,
          56.81295,
          56.81375,
          56.81403,
          56.81417,
          56.81568,
          56.81637,
          56.81697,
          56.81708,
          56.81752,
          56.81748,
          56.8187,
          56.81982,
          56.82052,
          56.82048,
          56.82083,
          56.82176,
          56.82092,
          56.81799,
          56.81765,
          56.81835,
          56.81885,
          56.81937,
          56.81962,
          56.82084,
          56.82218,
          56.82235,
          56.82218,
          56.82278,
          56.8228,
          56.82376,
          56.82416,
          56.82418,
          56.82359,
          56.8237,
          56.82321,
          56.82323,
          56.82382,
          56.82411,
          56.82409,
          56.8238,
          56.82382,
          56.82398,
          56.82451,
          56.82601,
          56.82673,
          56.8286,
          56.82977,
          56.8302,
          56.83041,
          56.83049,
          56.83113,
          56.83166,
          56.83205,
          56.83319,
          56.83339,
          56.83325,
          56.83398,
          56.834,
          56.83423,
          56.83459,
          56.83466,
          56.83385,
          56.83289,
          56.83259,
          56.83264,
          56.83374,
          56.8338,
          56.83491,
          56.83501,
          56.8355,
          56.83562,
          56.83764,
          56.83906,
          56.83967,
          56.84033,
          56.84299,
          56.84353,
          56.84392,
          56.8436,
          56.84351,
          56.84334,
          56.84249,
          56.84079,
          56.8407,
          56.84037,
          56.84098,
          56.83957,
          56.83938,
          56.83946,
          56.83848,
          56.83828,
          56.83832,
          56.83975,
          56.83994,
          56.83777,
          56.83517,
          56.83437,
          56.83432,
          56.83399,
          56.83309,
          56.8335,
          56.83406,
          56.83419,
          56.83389,
          56.8331,
          56.83325,
          56.83336,
          56.83286,
          56.83232,
          56.83119,
          56.83058,
          56.83024,
          56.83028,
          56.83066,
          56.83053,
          56.82964,
          56.82935,
          56.82901,
          56.82747,
          56.82662,
          56.8254,
          56.82443,
          56.82447,
          56.82508,
          56.82555,
          56.82586,
          56.82554,
          56.82568,
          56.82598,
          56.82604,
          56.82623,
          56.82662,
          56.82692,
          56.82707,
          56.82723,
          56.82738,
          56.82711,
          56.82722,
          56.83118,
          56.83148,
          56.8311,
          56.83042,
          56.83028,
          56.82957,
          56.82912,
          56.82936,
          56.82922,
          56.82957,
          56.82861,
          56.82739,
          56.82677,
          56.82626,
          56.82611,
          56.82563,
          56.82527,
          56.8243,
          56.82333,
          56.82323,
          56.82348,
          56.82403,
          56.82477,
          56.82548,
          56.82535,
          56.82509,
          56.82239,
          56.82226,
          56.82247,
          56.82273,
          56.82304,
          56.82371,
          56.82323,
          56.82277,
          56.82274,
          56.82216,
          56.82148,
          56.82144,
          56.82131,
          56.82117,
          56.82113,
          56.82084,
          56.82112,
          56.82107,
          56.82037,
          56.82036,
          56.8207,
          56.82077,
          56.82201,
          56.82198,
          56.82149,
          56.8213,
          56.82046,
          56.82033,
          56.81996,
          56.81978,
          56.82003,
          56.8196,
          56.81992,
          56.81922,
          56.81901,
          56.81881,
          56.81806,
          56.818,
          56.81847,
          56.81863,
          56.81862,
          56.81898,
          56.81871,
          56.81918,
          56.81954,
          56.81979,
          56.82046,
          56.8207,
          56.82088,
          56.82209,
          56.82427,
          56.82476,
          56.82507,
          56.82545,
          56.82539,
          56.8262,
          56.82665,
          56.82677,
          56.82715,
          56.82726,
          56.82637,
          56.82657,
          56.82702,
          56.82705,
          56.8274,
          56.82878,
          56.82865,
          56.82856,
          56.82815,
          56.82739,
          56.82753,
          56.82732,
          56.82718,
          56.82803,
          56.82819,
          56.82949,
          56.83023,
          56.83009,
          56.83055,
          56.83077,
          56.83067,
          56.82991,
          56.82975,
          56.8303,
          56.83078,
          56.83117,
          56.83122,
          56.83087,
          56.83119,
          56.8312,
          56.83124,
          56.83166,
          56.83138,
          56.83162,
          56.83155,
          56.83149,
          56.83135,
          56.83136,
          56.83159,
          56.83139,
          56.83164,
          56.83137,
          56.83211,
          56.83339,
          56.83383,
          56.83385,
          56.83322
         ],
         "legendgroup": "",
         "line": {
          "color": "#636efa"
         },
         "lon": [
          9.8698,
          9.86805,
          9.86684,
          9.86753,
          9.8677,
          9.8672,
          9.87015,
          9.8738,
          9.8715,
          9.87268,
          9.87328,
          9.87522,
          9.87588,
          9.87591,
          9.87512,
          9.87505,
          9.87418,
          9.87393,
          9.87253,
          9.87087,
          9.86934,
          9.86896,
          9.86975,
          9.87023,
          9.86818,
          9.86814,
          9.86727,
          9.86689,
          9.86754,
          9.86761,
          9.86719,
          9.8675,
          9.87037,
          9.87147,
          9.87255,
          9.87284,
          9.8735,
          9.87455,
          9.87551,
          9.87655,
          9.87594,
          9.87464,
          9.87449,
          9.87705,
          9.87633,
          9.87662,
          9.87784,
          9.87702,
          9.87596,
          9.87513,
          9.87416,
          9.87455,
          9.8745,
          9.87385,
          9.8748,
          9.8744,
          9.87268,
          9.87206,
          9.872,
          9.87082,
          9.86757,
          9.86461,
          9.86274,
          9.85667,
          9.85495,
          9.85341,
          9.85094,
          9.8487,
          9.8494,
          9.85078,
          9.85097,
          9.85267,
          9.85254,
          9.85085,
          9.84809,
          9.8474,
          9.84659,
          9.84323,
          9.84446,
          9.84477,
          9.84413,
          9.8425,
          9.84361,
          9.84472,
          9.84404,
          9.84479,
          9.84473,
          9.84411,
          9.84386,
          9.84146,
          9.84378,
          9.84405,
          9.84334,
          9.8426,
          9.84341,
          9.8427,
          9.84311,
          9.84312,
          9.83998,
          9.83924,
          9.8386,
          9.83703,
          9.83604,
          9.83478,
          9.83344,
          9.833,
          9.83176,
          9.82959,
          9.82831,
          9.82773,
          9.82796,
          9.8294,
          9.83068,
          9.82899,
          9.83083,
          9.83139,
          9.83154,
          9.8301,
          9.82714,
          9.8278,
          9.82765,
          9.82728,
          9.82669,
          9.82697,
          9.82646,
          9.82505,
          9.82721,
          9.83136,
          9.83447,
          9.83615,
          9.8372,
          9.83825,
          9.83895,
          9.83868,
          9.83901,
          9.84083,
          9.84205,
          9.84309,
          9.84389,
          9.8437,
          9.84253,
          9.84224,
          9.84332,
          9.84345,
          9.84486,
          9.84428,
          9.84472,
          9.84539,
          9.84564,
          9.84469,
          9.8451,
          9.846,
          9.84868,
          9.85156,
          9.85124,
          9.85129,
          9.852,
          9.85235,
          9.8564,
          9.85859,
          9.86294,
          9.8643,
          9.86727,
          9.86923,
          9.87146,
          9.87199,
          9.87282,
          9.87459,
          9.87423,
          9.87411,
          9.87353,
          9.87422,
          9.87158,
          9.8705,
          9.87065,
          9.8717,
          9.8762,
          9.87667,
          9.87681,
          9.87691,
          9.87849,
          9.87921,
          9.88106,
          9.88135,
          9.87933,
          9.87899,
          9.88023,
          9.88046,
          9.88141,
          9.88128,
          9.8798,
          9.87955,
          9.87987,
          9.88081,
          9.87934,
          9.87739,
          9.87599,
          9.87465,
          9.87429,
          9.87452,
          9.87652,
          9.87729,
          9.877,
          9.87613,
          9.87607,
          9.87713,
          9.87708,
          9.87653,
          9.87666,
          9.87721,
          9.87774,
          9.87793,
          9.87575,
          9.87468,
          9.87428,
          9.87432,
          9.87544,
          9.87362,
          9.87326,
          9.87347,
          9.87385,
          9.87499,
          9.8751,
          9.87611,
          9.87595,
          9.87515,
          9.87361,
          9.87305,
          9.87203,
          9.87083,
          9.8707,
          9.87195,
          9.87244,
          9.87267,
          9.87196,
          9.87329,
          9.87398,
          9.87445,
          9.87544,
          9.87807,
          9.87854,
          9.87815,
          9.87656,
          9.87729,
          9.87751,
          9.8784,
          9.87895,
          9.87897,
          9.87832,
          9.87888,
          9.87901,
          9.87861,
          9.87927,
          9.87858,
          9.87794,
          9.87724,
          9.8764,
          9.87603,
          9.87469,
          9.87308,
          9.87101,
          9.87085,
          9.87065,
          9.87132,
          9.87175,
          9.87134,
          9.87261,
          9.87358,
          9.87368,
          9.87519,
          9.87622,
          9.87991,
          9.87939,
          9.87987,
          9.87945,
          9.87842,
          9.87848,
          9.87809,
          9.87714,
          9.87602,
          9.87479,
          9.87336,
          9.8733,
          9.87213,
          9.87062,
          9.87099,
          9.87099,
          9.86927,
          9.86968,
          9.86915,
          9.86922,
          9.87054,
          9.87101,
          9.87071,
          9.86974,
          9.86871,
          9.86867,
          9.86968,
          9.87334,
          9.87464,
          9.87542,
          9.87496,
          9.87459,
          9.87396,
          9.87348,
          9.87388,
          9.87415,
          9.87421,
          9.87368,
          9.87345,
          9.87249,
          9.87201,
          9.87135,
          9.87178,
          9.87098,
          9.87045,
          9.87063,
          9.87112,
          9.87167,
          9.87182,
          9.87224,
          9.87371,
          9.87386,
          9.87288,
          9.87243,
          9.87242,
          9.87239,
          9.87154,
          9.8722,
          9.87205,
          9.87205,
          9.87193,
          9.87185,
          9.87173,
          9.87177,
          9.87221,
          9.87237,
          9.87228,
          9.87229,
          9.87247,
          9.87276,
          9.87289,
          9.87206,
          9.87143,
          9.8704
         ],
         "marker": {
          "size": 6
         },
         "mode": "lines",
         "name": "",
         "showlegend": false,
         "subplot": "mapbox",
         "type": "scattermapbox"
        }
       ],
       "layout": {
        "font": {
         "size": 16
        },
        "height": 600,
        "legend": {
         "tracegroupgap": 0
        },
        "mapbox": {
         "accesstoken": "pk.eyJ1IjoidHJpbmVqYSIsImEiOiJjazRvcjVhaWcxZ2hkM2tsNTNucXc4b2JqIn0.yGJjjGJbL51k6-RDIQ-5vg",
         "center": {
          "lat": 56.82563342028986,
          "lon": 9.8645555942029
         },
         "domain": {
          "x": [
           0,
           1
          ],
          "y": [
           0,
           1
          ]
         },
         "style": "mapbox://styles/strym/ckhd00st61aum19noz9h8y8kw",
         "zoom": 11
        },
        "template": {
         "data": {
          "bar": [
           {
            "error_x": {
             "color": "#2a3f5f"
            },
            "error_y": {
             "color": "#2a3f5f"
            },
            "marker": {
             "line": {
              "color": "#E5ECF6",
              "width": 0.5
             }
            },
            "type": "bar"
           }
          ],
          "barpolar": [
           {
            "marker": {
             "line": {
              "color": "#E5ECF6",
              "width": 0.5
             }
            },
            "type": "barpolar"
           }
          ],
          "carpet": [
           {
            "aaxis": {
             "endlinecolor": "#2a3f5f",
             "gridcolor": "white",
             "linecolor": "white",
             "minorgridcolor": "white",
             "startlinecolor": "#2a3f5f"
            },
            "baxis": {
             "endlinecolor": "#2a3f5f",
             "gridcolor": "white",
             "linecolor": "white",
             "minorgridcolor": "white",
             "startlinecolor": "#2a3f5f"
            },
            "type": "carpet"
           }
          ],
          "choropleth": [
           {
            "colorbar": {
             "outlinewidth": 0,
             "ticks": ""
            },
            "type": "choropleth"
           }
          ],
          "contour": [
           {
            "colorbar": {
             "outlinewidth": 0,
             "ticks": ""
            },
            "colorscale": [
             [
              0,
              "#0d0887"
             ],
             [
              0.1111111111111111,
              "#46039f"
             ],
             [
              0.2222222222222222,
              "#7201a8"
             ],
             [
              0.3333333333333333,
              "#9c179e"
             ],
             [
              0.4444444444444444,
              "#bd3786"
             ],
             [
              0.5555555555555556,
              "#d8576b"
             ],
             [
              0.6666666666666666,
              "#ed7953"
             ],
             [
              0.7777777777777778,
              "#fb9f3a"
             ],
             [
              0.8888888888888888,
              "#fdca26"
             ],
             [
              1,
              "#f0f921"
             ]
            ],
            "type": "contour"
           }
          ],
          "contourcarpet": [
           {
            "colorbar": {
             "outlinewidth": 0,
             "ticks": ""
            },
            "type": "contourcarpet"
           }
          ],
          "heatmap": [
           {
            "colorbar": {
             "outlinewidth": 0,
             "ticks": ""
            },
            "colorscale": [
             [
              0,
              "#0d0887"
             ],
             [
              0.1111111111111111,
              "#46039f"
             ],
             [
              0.2222222222222222,
              "#7201a8"
             ],
             [
              0.3333333333333333,
              "#9c179e"
             ],
             [
              0.4444444444444444,
              "#bd3786"
             ],
             [
              0.5555555555555556,
              "#d8576b"
             ],
             [
              0.6666666666666666,
              "#ed7953"
             ],
             [
              0.7777777777777778,
              "#fb9f3a"
             ],
             [
              0.8888888888888888,
              "#fdca26"
             ],
             [
              1,
              "#f0f921"
             ]
            ],
            "type": "heatmap"
           }
          ],
          "heatmapgl": [
           {
            "colorbar": {
             "outlinewidth": 0,
             "ticks": ""
            },
            "colorscale": [
             [
              0,
              "#0d0887"
             ],
             [
              0.1111111111111111,
              "#46039f"
             ],
             [
              0.2222222222222222,
              "#7201a8"
             ],
             [
              0.3333333333333333,
              "#9c179e"
             ],
             [
              0.4444444444444444,
              "#bd3786"
             ],
             [
              0.5555555555555556,
              "#d8576b"
             ],
             [
              0.6666666666666666,
              "#ed7953"
             ],
             [
              0.7777777777777778,
              "#fb9f3a"
             ],
             [
              0.8888888888888888,
              "#fdca26"
             ],
             [
              1,
              "#f0f921"
             ]
            ],
            "type": "heatmapgl"
           }
          ],
          "histogram": [
           {
            "marker": {
             "colorbar": {
              "outlinewidth": 0,
              "ticks": ""
             }
            },
            "type": "histogram"
           }
          ],
          "histogram2d": [
           {
            "colorbar": {
             "outlinewidth": 0,
             "ticks": ""
            },
            "colorscale": [
             [
              0,
              "#0d0887"
             ],
             [
              0.1111111111111111,
              "#46039f"
             ],
             [
              0.2222222222222222,
              "#7201a8"
             ],
             [
              0.3333333333333333,
              "#9c179e"
             ],
             [
              0.4444444444444444,
              "#bd3786"
             ],
             [
              0.5555555555555556,
              "#d8576b"
             ],
             [
              0.6666666666666666,
              "#ed7953"
             ],
             [
              0.7777777777777778,
              "#fb9f3a"
             ],
             [
              0.8888888888888888,
              "#fdca26"
             ],
             [
              1,
              "#f0f921"
             ]
            ],
            "type": "histogram2d"
           }
          ],
          "histogram2dcontour": [
           {
            "colorbar": {
             "outlinewidth": 0,
             "ticks": ""
            },
            "colorscale": [
             [
              0,
              "#0d0887"
             ],
             [
              0.1111111111111111,
              "#46039f"
             ],
             [
              0.2222222222222222,
              "#7201a8"
             ],
             [
              0.3333333333333333,
              "#9c179e"
             ],
             [
              0.4444444444444444,
              "#bd3786"
             ],
             [
              0.5555555555555556,
              "#d8576b"
             ],
             [
              0.6666666666666666,
              "#ed7953"
             ],
             [
              0.7777777777777778,
              "#fb9f3a"
             ],
             [
              0.8888888888888888,
              "#fdca26"
             ],
             [
              1,
              "#f0f921"
             ]
            ],
            "type": "histogram2dcontour"
           }
          ],
          "mesh3d": [
           {
            "colorbar": {
             "outlinewidth": 0,
             "ticks": ""
            },
            "type": "mesh3d"
           }
          ],
          "parcoords": [
           {
            "line": {
             "colorbar": {
              "outlinewidth": 0,
              "ticks": ""
             }
            },
            "type": "parcoords"
           }
          ],
          "pie": [
           {
            "automargin": true,
            "type": "pie"
           }
          ],
          "scatter": [
           {
            "marker": {
             "colorbar": {
              "outlinewidth": 0,
              "ticks": ""
             }
            },
            "type": "scatter"
           }
          ],
          "scatter3d": [
           {
            "line": {
             "colorbar": {
              "outlinewidth": 0,
              "ticks": ""
             }
            },
            "marker": {
             "colorbar": {
              "outlinewidth": 0,
              "ticks": ""
             }
            },
            "type": "scatter3d"
           }
          ],
          "scattercarpet": [
           {
            "marker": {
             "colorbar": {
              "outlinewidth": 0,
              "ticks": ""
             }
            },
            "type": "scattercarpet"
           }
          ],
          "scattergeo": [
           {
            "marker": {
             "colorbar": {
              "outlinewidth": 0,
              "ticks": ""
             }
            },
            "type": "scattergeo"
           }
          ],
          "scattergl": [
           {
            "marker": {
             "colorbar": {
              "outlinewidth": 0,
              "ticks": ""
             }
            },
            "type": "scattergl"
           }
          ],
          "scattermapbox": [
           {
            "marker": {
             "colorbar": {
              "outlinewidth": 0,
              "ticks": ""
             }
            },
            "type": "scattermapbox"
           }
          ],
          "scatterpolar": [
           {
            "marker": {
             "colorbar": {
              "outlinewidth": 0,
              "ticks": ""
             }
            },
            "type": "scatterpolar"
           }
          ],
          "scatterpolargl": [
           {
            "marker": {
             "colorbar": {
              "outlinewidth": 0,
              "ticks": ""
             }
            },
            "type": "scatterpolargl"
           }
          ],
          "scatterternary": [
           {
            "marker": {
             "colorbar": {
              "outlinewidth": 0,
              "ticks": ""
             }
            },
            "type": "scatterternary"
           }
          ],
          "surface": [
           {
            "colorbar": {
             "outlinewidth": 0,
             "ticks": ""
            },
            "colorscale": [
             [
              0,
              "#0d0887"
             ],
             [
              0.1111111111111111,
              "#46039f"
             ],
             [
              0.2222222222222222,
              "#7201a8"
             ],
             [
              0.3333333333333333,
              "#9c179e"
             ],
             [
              0.4444444444444444,
              "#bd3786"
             ],
             [
              0.5555555555555556,
              "#d8576b"
             ],
             [
              0.6666666666666666,
              "#ed7953"
             ],
             [
              0.7777777777777778,
              "#fb9f3a"
             ],
             [
              0.8888888888888888,
              "#fdca26"
             ],
             [
              1,
              "#f0f921"
             ]
            ],
            "type": "surface"
           }
          ],
          "table": [
           {
            "cells": {
             "fill": {
              "color": "#EBF0F8"
             },
             "line": {
              "color": "white"
             }
            },
            "header": {
             "fill": {
              "color": "#C8D4E3"
             },
             "line": {
              "color": "white"
             }
            },
            "type": "table"
           }
          ]
         },
         "layout": {
          "annotationdefaults": {
           "arrowcolor": "#2a3f5f",
           "arrowhead": 0,
           "arrowwidth": 1
          },
          "autotypenumbers": "strict",
          "coloraxis": {
           "colorbar": {
            "outlinewidth": 0,
            "ticks": ""
           }
          },
          "colorscale": {
           "diverging": [
            [
             0,
             "#8e0152"
            ],
            [
             0.1,
             "#c51b7d"
            ],
            [
             0.2,
             "#de77ae"
            ],
            [
             0.3,
             "#f1b6da"
            ],
            [
             0.4,
             "#fde0ef"
            ],
            [
             0.5,
             "#f7f7f7"
            ],
            [
             0.6,
             "#e6f5d0"
            ],
            [
             0.7,
             "#b8e186"
            ],
            [
             0.8,
             "#7fbc41"
            ],
            [
             0.9,
             "#4d9221"
            ],
            [
             1,
             "#276419"
            ]
           ],
           "sequential": [
            [
             0,
             "#0d0887"
            ],
            [
             0.1111111111111111,
             "#46039f"
            ],
            [
             0.2222222222222222,
             "#7201a8"
            ],
            [
             0.3333333333333333,
             "#9c179e"
            ],
            [
             0.4444444444444444,
             "#bd3786"
            ],
            [
             0.5555555555555556,
             "#d8576b"
            ],
            [
             0.6666666666666666,
             "#ed7953"
            ],
            [
             0.7777777777777778,
             "#fb9f3a"
            ],
            [
             0.8888888888888888,
             "#fdca26"
            ],
            [
             1,
             "#f0f921"
            ]
           ],
           "sequentialminus": [
            [
             0,
             "#0d0887"
            ],
            [
             0.1111111111111111,
             "#46039f"
            ],
            [
             0.2222222222222222,
             "#7201a8"
            ],
            [
             0.3333333333333333,
             "#9c179e"
            ],
            [
             0.4444444444444444,
             "#bd3786"
            ],
            [
             0.5555555555555556,
             "#d8576b"
            ],
            [
             0.6666666666666666,
             "#ed7953"
            ],
            [
             0.7777777777777778,
             "#fb9f3a"
            ],
            [
             0.8888888888888888,
             "#fdca26"
            ],
            [
             1,
             "#f0f921"
            ]
           ]
          },
          "colorway": [
           "#636efa",
           "#EF553B",
           "#00cc96",
           "#ab63fa",
           "#FFA15A",
           "#19d3f3",
           "#FF6692",
           "#B6E880",
           "#FF97FF",
           "#FECB52"
          ],
          "font": {
           "color": "#2a3f5f"
          },
          "geo": {
           "bgcolor": "white",
           "lakecolor": "white",
           "landcolor": "#E5ECF6",
           "showlakes": true,
           "showland": true,
           "subunitcolor": "white"
          },
          "hoverlabel": {
           "align": "left"
          },
          "hovermode": "closest",
          "mapbox": {
           "style": "light"
          },
          "paper_bgcolor": "white",
          "plot_bgcolor": "#E5ECF6",
          "polar": {
           "angularaxis": {
            "gridcolor": "white",
            "linecolor": "white",
            "ticks": ""
           },
           "bgcolor": "#E5ECF6",
           "radialaxis": {
            "gridcolor": "white",
            "linecolor": "white",
            "ticks": ""
           }
          },
          "scene": {
           "xaxis": {
            "backgroundcolor": "#E5ECF6",
            "gridcolor": "white",
            "gridwidth": 2,
            "linecolor": "white",
            "showbackground": true,
            "ticks": "",
            "zerolinecolor": "white"
           },
           "yaxis": {
            "backgroundcolor": "#E5ECF6",
            "gridcolor": "white",
            "gridwidth": 2,
            "linecolor": "white",
            "showbackground": true,
            "ticks": "",
            "zerolinecolor": "white"
           },
           "zaxis": {
            "backgroundcolor": "#E5ECF6",
            "gridcolor": "white",
            "gridwidth": 2,
            "linecolor": "white",
            "showbackground": true,
            "ticks": "",
            "zerolinecolor": "white"
           }
          },
          "shapedefaults": {
           "line": {
            "color": "#2a3f5f"
           }
          },
          "ternary": {
           "aaxis": {
            "gridcolor": "white",
            "linecolor": "white",
            "ticks": ""
           },
           "baxis": {
            "gridcolor": "white",
            "linecolor": "white",
            "ticks": ""
           },
           "bgcolor": "#E5ECF6",
           "caxis": {
            "gridcolor": "white",
            "linecolor": "white",
            "ticks": ""
           }
          },
          "title": {
           "x": 0.05
          },
          "xaxis": {
           "automargin": true,
           "gridcolor": "white",
           "linecolor": "white",
           "ticks": "",
           "title": {
            "standoff": 15
           },
           "zerolinecolor": "white",
           "zerolinewidth": 2
          },
          "yaxis": {
           "automargin": true,
           "gridcolor": "white",
           "linecolor": "white",
           "ticks": "",
           "title": {
            "standoff": 15
           },
           "zerolinecolor": "white",
           "zerolinewidth": 2
          }
         }
        },
        "title": {
         "font": {
          "size": 24
         },
         "text": "Drive Route with Mapbox",
         "x": 0.5,
         "xanchor": "center",
         "y": 0.9,
         "yanchor": "top"
        },
        "width": 1000
       }
      },
      "text/html": [
       "<div>                            <div id=\"580f43bb-c4d9-4c1c-90ff-27072da49352\" class=\"plotly-graph-div\" style=\"height:600px; width:1000px;\"></div>            <script type=\"text/javascript\">                require([\"plotly\"], function(Plotly) {                    window.PLOTLYENV=window.PLOTLYENV || {};                                    if (document.getElementById(\"580f43bb-c4d9-4c1c-90ff-27072da49352\")) {                    Plotly.newPlot(                        \"580f43bb-c4d9-4c1c-90ff-27072da49352\",                        [{\"hovertemplate\": \"lat=%{lat}<br>lon=%{lon}<extra></extra>\", \"lat\": [56.83307, 56.83306, 56.83265, 56.83131, 56.82944, 56.82776, 56.82722, 56.82636, 56.82665, 56.82569, 56.82612, 56.82619, 56.8266, 56.82701, 56.82814, 56.82962, 56.82921, 56.82865, 56.82836, 56.8284, 56.82879, 56.82984, 56.83096, 56.83316, 56.83312, 56.83297, 56.83293, 56.83272, 56.83114, 56.82863, 56.82781, 56.82761, 56.8271, 56.82662, 56.82571, 56.82571, 56.8261, 56.82542, 56.82191, 56.82077, 56.81968, 56.81884, 56.81825, 56.8176, 56.81567, 56.81482, 56.81343, 56.81194, 56.81093, 56.81055, 56.80791, 56.8076, 56.80705, 56.80568, 56.80488, 56.80271, 56.80136, 56.80042, 56.79964, 56.79951, 56.79962, 56.80023, 56.80013, 56.80029, 56.80198, 56.80226, 56.80369, 56.80441, 56.80647, 56.80753, 56.80875, 56.81062, 56.81183, 56.8121, 56.81295, 56.81375, 56.81403, 56.81417, 56.81568, 56.81637, 56.81697, 56.81708, 56.81752, 56.81748, 56.8187, 56.81982, 56.82052, 56.82048, 56.82083, 56.82176, 56.82092, 56.81799, 56.81765, 56.81835, 56.81885, 56.81937, 56.81962, 56.82084, 56.82218, 56.82235, 56.82218, 56.82278, 56.8228, 56.82376, 56.82416, 56.82418, 56.82359, 56.8237, 56.82321, 56.82323, 56.82382, 56.82411, 56.82409, 56.8238, 56.82382, 56.82398, 56.82451, 56.82601, 56.82673, 56.8286, 56.82977, 56.8302, 56.83041, 56.83049, 56.83113, 56.83166, 56.83205, 56.83319, 56.83339, 56.83325, 56.83398, 56.834, 56.83423, 56.83459, 56.83466, 56.83385, 56.83289, 56.83259, 56.83264, 56.83374, 56.8338, 56.83491, 56.83501, 56.8355, 56.83562, 56.83764, 56.83906, 56.83967, 56.84033, 56.84299, 56.84353, 56.84392, 56.8436, 56.84351, 56.84334, 56.84249, 56.84079, 56.8407, 56.84037, 56.84098, 56.83957, 56.83938, 56.83946, 56.83848, 56.83828, 56.83832, 56.83975, 56.83994, 56.83777, 56.83517, 56.83437, 56.83432, 56.83399, 56.83309, 56.8335, 56.83406, 56.83419, 56.83389, 56.8331, 56.83325, 56.83336, 56.83286, 56.83232, 56.83119, 56.83058, 56.83024, 56.83028, 56.83066, 56.83053, 56.82964, 56.82935, 56.82901, 56.82747, 56.82662, 56.8254, 56.82443, 56.82447, 56.82508, 56.82555, 56.82586, 56.82554, 56.82568, 56.82598, 56.82604, 56.82623, 56.82662, 56.82692, 56.82707, 56.82723, 56.82738, 56.82711, 56.82722, 56.83118, 56.83148, 56.8311, 56.83042, 56.83028, 56.82957, 56.82912, 56.82936, 56.82922, 56.82957, 56.82861, 56.82739, 56.82677, 56.82626, 56.82611, 56.82563, 56.82527, 56.8243, 56.82333, 56.82323, 56.82348, 56.82403, 56.82477, 56.82548, 56.82535, 56.82509, 56.82239, 56.82226, 56.82247, 56.82273, 56.82304, 56.82371, 56.82323, 56.82277, 56.82274, 56.82216, 56.82148, 56.82144, 56.82131, 56.82117, 56.82113, 56.82084, 56.82112, 56.82107, 56.82037, 56.82036, 56.8207, 56.82077, 56.82201, 56.82198, 56.82149, 56.8213, 56.82046, 56.82033, 56.81996, 56.81978, 56.82003, 56.8196, 56.81992, 56.81922, 56.81901, 56.81881, 56.81806, 56.818, 56.81847, 56.81863, 56.81862, 56.81898, 56.81871, 56.81918, 56.81954, 56.81979, 56.82046, 56.8207, 56.82088, 56.82209, 56.82427, 56.82476, 56.82507, 56.82545, 56.82539, 56.8262, 56.82665, 56.82677, 56.82715, 56.82726, 56.82637, 56.82657, 56.82702, 56.82705, 56.8274, 56.82878, 56.82865, 56.82856, 56.82815, 56.82739, 56.82753, 56.82732, 56.82718, 56.82803, 56.82819, 56.82949, 56.83023, 56.83009, 56.83055, 56.83077, 56.83067, 56.82991, 56.82975, 56.8303, 56.83078, 56.83117, 56.83122, 56.83087, 56.83119, 56.8312, 56.83124, 56.83166, 56.83138, 56.83162, 56.83155, 56.83149, 56.83135, 56.83136, 56.83159, 56.83139, 56.83164, 56.83137, 56.83211, 56.83339, 56.83383, 56.83385, 56.83322], \"legendgroup\": \"\", \"line\": {\"color\": \"#636efa\"}, \"lon\": [9.8698, 9.86805, 9.86684, 9.86753, 9.8677, 9.8672, 9.87015, 9.8738, 9.8715, 9.87268, 9.87328, 9.87522, 9.87588, 9.87591, 9.87512, 9.87505, 9.87418, 9.87393, 9.87253, 9.87087, 9.86934, 9.86896, 9.86975, 9.87023, 9.86818, 9.86814, 9.86727, 9.86689, 9.86754, 9.86761, 9.86719, 9.8675, 9.87037, 9.87147, 9.87255, 9.87284, 9.8735, 9.87455, 9.87551, 9.87655, 9.87594, 9.87464, 9.87449, 9.87705, 9.87633, 9.87662, 9.87784, 9.87702, 9.87596, 9.87513, 9.87416, 9.87455, 9.8745, 9.87385, 9.8748, 9.8744, 9.87268, 9.87206, 9.872, 9.87082, 9.86757, 9.86461, 9.86274, 9.85667, 9.85495, 9.85341, 9.85094, 9.8487, 9.8494, 9.85078, 9.85097, 9.85267, 9.85254, 9.85085, 9.84809, 9.8474, 9.84659, 9.84323, 9.84446, 9.84477, 9.84413, 9.8425, 9.84361, 9.84472, 9.84404, 9.84479, 9.84473, 9.84411, 9.84386, 9.84146, 9.84378, 9.84405, 9.84334, 9.8426, 9.84341, 9.8427, 9.84311, 9.84312, 9.83998, 9.83924, 9.8386, 9.83703, 9.83604, 9.83478, 9.83344, 9.833, 9.83176, 9.82959, 9.82831, 9.82773, 9.82796, 9.8294, 9.83068, 9.82899, 9.83083, 9.83139, 9.83154, 9.8301, 9.82714, 9.8278, 9.82765, 9.82728, 9.82669, 9.82697, 9.82646, 9.82505, 9.82721, 9.83136, 9.83447, 9.83615, 9.8372, 9.83825, 9.83895, 9.83868, 9.83901, 9.84083, 9.84205, 9.84309, 9.84389, 9.8437, 9.84253, 9.84224, 9.84332, 9.84345, 9.84486, 9.84428, 9.84472, 9.84539, 9.84564, 9.84469, 9.8451, 9.846, 9.84868, 9.85156, 9.85124, 9.85129, 9.852, 9.85235, 9.8564, 9.85859, 9.86294, 9.8643, 9.86727, 9.86923, 9.87146, 9.87199, 9.87282, 9.87459, 9.87423, 9.87411, 9.87353, 9.87422, 9.87158, 9.8705, 9.87065, 9.8717, 9.8762, 9.87667, 9.87681, 9.87691, 9.87849, 9.87921, 9.88106, 9.88135, 9.87933, 9.87899, 9.88023, 9.88046, 9.88141, 9.88128, 9.8798, 9.87955, 9.87987, 9.88081, 9.87934, 9.87739, 9.87599, 9.87465, 9.87429, 9.87452, 9.87652, 9.87729, 9.877, 9.87613, 9.87607, 9.87713, 9.87708, 9.87653, 9.87666, 9.87721, 9.87774, 9.87793, 9.87575, 9.87468, 9.87428, 9.87432, 9.87544, 9.87362, 9.87326, 9.87347, 9.87385, 9.87499, 9.8751, 9.87611, 9.87595, 9.87515, 9.87361, 9.87305, 9.87203, 9.87083, 9.8707, 9.87195, 9.87244, 9.87267, 9.87196, 9.87329, 9.87398, 9.87445, 9.87544, 9.87807, 9.87854, 9.87815, 9.87656, 9.87729, 9.87751, 9.8784, 9.87895, 9.87897, 9.87832, 9.87888, 9.87901, 9.87861, 9.87927, 9.87858, 9.87794, 9.87724, 9.8764, 9.87603, 9.87469, 9.87308, 9.87101, 9.87085, 9.87065, 9.87132, 9.87175, 9.87134, 9.87261, 9.87358, 9.87368, 9.87519, 9.87622, 9.87991, 9.87939, 9.87987, 9.87945, 9.87842, 9.87848, 9.87809, 9.87714, 9.87602, 9.87479, 9.87336, 9.8733, 9.87213, 9.87062, 9.87099, 9.87099, 9.86927, 9.86968, 9.86915, 9.86922, 9.87054, 9.87101, 9.87071, 9.86974, 9.86871, 9.86867, 9.86968, 9.87334, 9.87464, 9.87542, 9.87496, 9.87459, 9.87396, 9.87348, 9.87388, 9.87415, 9.87421, 9.87368, 9.87345, 9.87249, 9.87201, 9.87135, 9.87178, 9.87098, 9.87045, 9.87063, 9.87112, 9.87167, 9.87182, 9.87224, 9.87371, 9.87386, 9.87288, 9.87243, 9.87242, 9.87239, 9.87154, 9.8722, 9.87205, 9.87205, 9.87193, 9.87185, 9.87173, 9.87177, 9.87221, 9.87237, 9.87228, 9.87229, 9.87247, 9.87276, 9.87289, 9.87206, 9.87143, 9.8704], \"marker\": {\"size\": 6}, \"mode\": \"lines\", \"name\": \"\", \"showlegend\": false, \"subplot\": \"mapbox\", \"type\": \"scattermapbox\"}],                        {\"font\": {\"size\": 16}, \"height\": 600, \"legend\": {\"tracegroupgap\": 0}, \"mapbox\": {\"accesstoken\": \"pk.eyJ1IjoidHJpbmVqYSIsImEiOiJjazRvcjVhaWcxZ2hkM2tsNTNucXc4b2JqIn0.yGJjjGJbL51k6-RDIQ-5vg\", \"center\": {\"lat\": 56.82563342028986, \"lon\": 9.8645555942029}, \"domain\": {\"x\": [0.0, 1.0], \"y\": [0.0, 1.0]}, \"style\": \"mapbox://styles/strym/ckhd00st61aum19noz9h8y8kw\", \"zoom\": 11}, \"template\": {\"data\": {\"bar\": [{\"error_x\": {\"color\": \"#2a3f5f\"}, \"error_y\": {\"color\": \"#2a3f5f\"}, \"marker\": {\"line\": {\"color\": \"#E5ECF6\", \"width\": 0.5}}, \"type\": \"bar\"}], \"barpolar\": [{\"marker\": {\"line\": {\"color\": \"#E5ECF6\", \"width\": 0.5}}, \"type\": \"barpolar\"}], \"carpet\": [{\"aaxis\": {\"endlinecolor\": \"#2a3f5f\", \"gridcolor\": \"white\", \"linecolor\": \"white\", \"minorgridcolor\": \"white\", \"startlinecolor\": \"#2a3f5f\"}, \"baxis\": {\"endlinecolor\": \"#2a3f5f\", \"gridcolor\": \"white\", \"linecolor\": \"white\", \"minorgridcolor\": \"white\", \"startlinecolor\": \"#2a3f5f\"}, \"type\": \"carpet\"}], \"choropleth\": [{\"colorbar\": {\"outlinewidth\": 0, \"ticks\": \"\"}, \"type\": \"choropleth\"}], \"contour\": [{\"colorbar\": {\"outlinewidth\": 0, \"ticks\": \"\"}, \"colorscale\": [[0.0, \"#0d0887\"], [0.1111111111111111, \"#46039f\"], [0.2222222222222222, \"#7201a8\"], [0.3333333333333333, \"#9c179e\"], [0.4444444444444444, \"#bd3786\"], [0.5555555555555556, \"#d8576b\"], [0.6666666666666666, \"#ed7953\"], [0.7777777777777778, \"#fb9f3a\"], [0.8888888888888888, \"#fdca26\"], [1.0, \"#f0f921\"]], \"type\": \"contour\"}], \"contourcarpet\": [{\"colorbar\": {\"outlinewidth\": 0, \"ticks\": \"\"}, \"type\": \"contourcarpet\"}], \"heatmap\": [{\"colorbar\": {\"outlinewidth\": 0, \"ticks\": \"\"}, \"colorscale\": [[0.0, \"#0d0887\"], [0.1111111111111111, \"#46039f\"], [0.2222222222222222, \"#7201a8\"], [0.3333333333333333, \"#9c179e\"], [0.4444444444444444, \"#bd3786\"], [0.5555555555555556, \"#d8576b\"], [0.6666666666666666, \"#ed7953\"], [0.7777777777777778, \"#fb9f3a\"], [0.8888888888888888, \"#fdca26\"], [1.0, \"#f0f921\"]], \"type\": \"heatmap\"}], \"heatmapgl\": [{\"colorbar\": {\"outlinewidth\": 0, \"ticks\": \"\"}, \"colorscale\": [[0.0, \"#0d0887\"], [0.1111111111111111, \"#46039f\"], [0.2222222222222222, \"#7201a8\"], [0.3333333333333333, \"#9c179e\"], [0.4444444444444444, \"#bd3786\"], [0.5555555555555556, \"#d8576b\"], [0.6666666666666666, \"#ed7953\"], [0.7777777777777778, \"#fb9f3a\"], [0.8888888888888888, \"#fdca26\"], [1.0, \"#f0f921\"]], \"type\": \"heatmapgl\"}], \"histogram\": [{\"marker\": {\"colorbar\": {\"outlinewidth\": 0, \"ticks\": \"\"}}, \"type\": \"histogram\"}], \"histogram2d\": [{\"colorbar\": {\"outlinewidth\": 0, \"ticks\": \"\"}, \"colorscale\": [[0.0, \"#0d0887\"], [0.1111111111111111, \"#46039f\"], [0.2222222222222222, \"#7201a8\"], [0.3333333333333333, \"#9c179e\"], [0.4444444444444444, \"#bd3786\"], [0.5555555555555556, \"#d8576b\"], [0.6666666666666666, \"#ed7953\"], [0.7777777777777778, \"#fb9f3a\"], [0.8888888888888888, \"#fdca26\"], [1.0, \"#f0f921\"]], \"type\": \"histogram2d\"}], \"histogram2dcontour\": [{\"colorbar\": {\"outlinewidth\": 0, \"ticks\": \"\"}, \"colorscale\": [[0.0, \"#0d0887\"], [0.1111111111111111, \"#46039f\"], [0.2222222222222222, \"#7201a8\"], [0.3333333333333333, \"#9c179e\"], [0.4444444444444444, \"#bd3786\"], [0.5555555555555556, \"#d8576b\"], [0.6666666666666666, \"#ed7953\"], [0.7777777777777778, \"#fb9f3a\"], [0.8888888888888888, \"#fdca26\"], [1.0, \"#f0f921\"]], \"type\": \"histogram2dcontour\"}], \"mesh3d\": [{\"colorbar\": {\"outlinewidth\": 0, \"ticks\": \"\"}, \"type\": \"mesh3d\"}], \"parcoords\": [{\"line\": {\"colorbar\": {\"outlinewidth\": 0, \"ticks\": \"\"}}, \"type\": \"parcoords\"}], \"pie\": [{\"automargin\": true, \"type\": \"pie\"}], \"scatter\": [{\"marker\": {\"colorbar\": {\"outlinewidth\": 0, \"ticks\": \"\"}}, \"type\": \"scatter\"}], \"scatter3d\": [{\"line\": {\"colorbar\": {\"outlinewidth\": 0, \"ticks\": \"\"}}, \"marker\": {\"colorbar\": {\"outlinewidth\": 0, \"ticks\": \"\"}}, \"type\": \"scatter3d\"}], \"scattercarpet\": [{\"marker\": {\"colorbar\": {\"outlinewidth\": 0, \"ticks\": \"\"}}, \"type\": \"scattercarpet\"}], \"scattergeo\": [{\"marker\": {\"colorbar\": {\"outlinewidth\": 0, \"ticks\": \"\"}}, \"type\": \"scattergeo\"}], \"scattergl\": [{\"marker\": {\"colorbar\": {\"outlinewidth\": 0, \"ticks\": \"\"}}, \"type\": \"scattergl\"}], \"scattermapbox\": [{\"marker\": {\"colorbar\": {\"outlinewidth\": 0, \"ticks\": \"\"}}, \"type\": \"scattermapbox\"}], \"scatterpolar\": [{\"marker\": {\"colorbar\": {\"outlinewidth\": 0, \"ticks\": \"\"}}, \"type\": \"scatterpolar\"}], \"scatterpolargl\": [{\"marker\": {\"colorbar\": {\"outlinewidth\": 0, \"ticks\": \"\"}}, \"type\": \"scatterpolargl\"}], \"scatterternary\": [{\"marker\": {\"colorbar\": {\"outlinewidth\": 0, \"ticks\": \"\"}}, \"type\": \"scatterternary\"}], \"surface\": [{\"colorbar\": {\"outlinewidth\": 0, \"ticks\": \"\"}, \"colorscale\": [[0.0, \"#0d0887\"], [0.1111111111111111, \"#46039f\"], [0.2222222222222222, \"#7201a8\"], [0.3333333333333333, \"#9c179e\"], [0.4444444444444444, \"#bd3786\"], [0.5555555555555556, \"#d8576b\"], [0.6666666666666666, \"#ed7953\"], [0.7777777777777778, \"#fb9f3a\"], [0.8888888888888888, \"#fdca26\"], [1.0, \"#f0f921\"]], \"type\": \"surface\"}], \"table\": [{\"cells\": {\"fill\": {\"color\": \"#EBF0F8\"}, \"line\": {\"color\": \"white\"}}, \"header\": {\"fill\": {\"color\": \"#C8D4E3\"}, \"line\": {\"color\": \"white\"}}, \"type\": \"table\"}]}, \"layout\": {\"annotationdefaults\": {\"arrowcolor\": \"#2a3f5f\", \"arrowhead\": 0, \"arrowwidth\": 1}, \"autotypenumbers\": \"strict\", \"coloraxis\": {\"colorbar\": {\"outlinewidth\": 0, \"ticks\": \"\"}}, \"colorscale\": {\"diverging\": [[0, \"#8e0152\"], [0.1, \"#c51b7d\"], [0.2, \"#de77ae\"], [0.3, \"#f1b6da\"], [0.4, \"#fde0ef\"], [0.5, \"#f7f7f7\"], [0.6, \"#e6f5d0\"], [0.7, \"#b8e186\"], [0.8, \"#7fbc41\"], [0.9, \"#4d9221\"], [1, \"#276419\"]], \"sequential\": [[0.0, \"#0d0887\"], [0.1111111111111111, \"#46039f\"], [0.2222222222222222, \"#7201a8\"], [0.3333333333333333, \"#9c179e\"], [0.4444444444444444, \"#bd3786\"], [0.5555555555555556, \"#d8576b\"], [0.6666666666666666, \"#ed7953\"], [0.7777777777777778, \"#fb9f3a\"], [0.8888888888888888, \"#fdca26\"], [1.0, \"#f0f921\"]], \"sequentialminus\": [[0.0, \"#0d0887\"], [0.1111111111111111, \"#46039f\"], [0.2222222222222222, \"#7201a8\"], [0.3333333333333333, \"#9c179e\"], [0.4444444444444444, \"#bd3786\"], [0.5555555555555556, \"#d8576b\"], [0.6666666666666666, \"#ed7953\"], [0.7777777777777778, \"#fb9f3a\"], [0.8888888888888888, \"#fdca26\"], [1.0, \"#f0f921\"]]}, \"colorway\": [\"#636efa\", \"#EF553B\", \"#00cc96\", \"#ab63fa\", \"#FFA15A\", \"#19d3f3\", \"#FF6692\", \"#B6E880\", \"#FF97FF\", \"#FECB52\"], \"font\": {\"color\": \"#2a3f5f\"}, \"geo\": {\"bgcolor\": \"white\", \"lakecolor\": \"white\", \"landcolor\": \"#E5ECF6\", \"showlakes\": true, \"showland\": true, \"subunitcolor\": \"white\"}, \"hoverlabel\": {\"align\": \"left\"}, \"hovermode\": \"closest\", \"mapbox\": {\"style\": \"light\"}, \"paper_bgcolor\": \"white\", \"plot_bgcolor\": \"#E5ECF6\", \"polar\": {\"angularaxis\": {\"gridcolor\": \"white\", \"linecolor\": \"white\", \"ticks\": \"\"}, \"bgcolor\": \"#E5ECF6\", \"radialaxis\": {\"gridcolor\": \"white\", \"linecolor\": \"white\", \"ticks\": \"\"}}, \"scene\": {\"xaxis\": {\"backgroundcolor\": \"#E5ECF6\", \"gridcolor\": \"white\", \"gridwidth\": 2, \"linecolor\": \"white\", \"showbackground\": true, \"ticks\": \"\", \"zerolinecolor\": \"white\"}, \"yaxis\": {\"backgroundcolor\": \"#E5ECF6\", \"gridcolor\": \"white\", \"gridwidth\": 2, \"linecolor\": \"white\", \"showbackground\": true, \"ticks\": \"\", \"zerolinecolor\": \"white\"}, \"zaxis\": {\"backgroundcolor\": \"#E5ECF6\", \"gridcolor\": \"white\", \"gridwidth\": 2, \"linecolor\": \"white\", \"showbackground\": true, \"ticks\": \"\", \"zerolinecolor\": \"white\"}}, \"shapedefaults\": {\"line\": {\"color\": \"#2a3f5f\"}}, \"ternary\": {\"aaxis\": {\"gridcolor\": \"white\", \"linecolor\": \"white\", \"ticks\": \"\"}, \"baxis\": {\"gridcolor\": \"white\", \"linecolor\": \"white\", \"ticks\": \"\"}, \"bgcolor\": \"#E5ECF6\", \"caxis\": {\"gridcolor\": \"white\", \"linecolor\": \"white\", \"ticks\": \"\"}}, \"title\": {\"x\": 0.05}, \"xaxis\": {\"automargin\": true, \"gridcolor\": \"white\", \"linecolor\": \"white\", \"ticks\": \"\", \"title\": {\"standoff\": 15}, \"zerolinecolor\": \"white\", \"zerolinewidth\": 2}, \"yaxis\": {\"automargin\": true, \"gridcolor\": \"white\", \"linecolor\": \"white\", \"ticks\": \"\", \"title\": {\"standoff\": 15}, \"zerolinecolor\": \"white\", \"zerolinewidth\": 2}}}, \"title\": {\"font\": {\"size\": 24}, \"text\": \"Drive Route with Mapbox\", \"x\": 0.5, \"xanchor\": \"center\", \"y\": 0.9, \"yanchor\": \"top\"}, \"width\": 1000},                        {\"responsive\": true}                    ).then(function(){\n",
       "                            \n",
       "var gd = document.getElementById('580f43bb-c4d9-4c1c-90ff-27072da49352');\n",
       "var x = new MutationObserver(function (mutations, observer) {{\n",
       "        var display = window.getComputedStyle(gd).display;\n",
       "        if (!display || display === 'none') {{\n",
       "            console.log([gd, 'removed!']);\n",
       "            Plotly.purge(gd);\n",
       "            observer.disconnect();\n",
       "        }}\n",
       "}});\n",
       "\n",
       "// Listen for the removal of the full notebook cells\n",
       "var notebookContainer = gd.closest('#notebook-container');\n",
       "if (notebookContainer) {{\n",
       "    x.observe(notebookContainer, {childList: true});\n",
       "}}\n",
       "\n",
       "// Listen for the clearing of the current output cell\n",
       "var outputEl = gd.closest('.output');\n",
       "if (outputEl) {{\n",
       "    x.observe(outputEl, {childList: true});\n",
       "}}\n",
       "\n",
       "                        })                };                });            </script>        </div>"
      ]
     },
     "metadata": {},
     "output_type": "display_data"
    }
   ],
   "source": [
    "import plotly.express as px\n",
    "\n",
    "fig = px.line_mapbox(lat=ride_latitudes, lon=ride_longitudes, zoom=11,\n",
    "                  height = 600, width = 1000, #center = dict(lat = g.center)\n",
    "                        title='Drive Route with Mapbox',\n",
    "                       #mapbox_style=\"open-street-map\"\n",
    "                       )\n",
    "fig.update_layout(font_size=16,  title={'xanchor': 'center','yanchor': 'top', 'y':0.9, 'x':0.5,}, \n",
    "        title_font_size = 24, mapbox_accesstoken=mapbox_token, mapbox_style = \"mapbox://styles/strym/ckhd00st61aum19noz9h8y8kw\")\n",
    "fig.update_traces(marker=dict(size=6))"
   ]
  },
  {
   "cell_type": "code",
   "execution_count": 65,
   "metadata": {},
   "outputs": [
    {
     "data": {
      "text/html": [
       "<div>\n",
       "<style scoped>\n",
       "    .dataframe tbody tr th:only-of-type {\n",
       "        vertical-align: middle;\n",
       "    }\n",
       "\n",
       "    .dataframe tbody tr th {\n",
       "        vertical-align: top;\n",
       "    }\n",
       "\n",
       "    .dataframe thead th {\n",
       "        text-align: right;\n",
       "    }\n",
       "</style>\n",
       "<table border=\"1\" class=\"dataframe\">\n",
       "  <thead>\n",
       "    <tr style=\"text-align: right;\">\n",
       "      <th></th>\n",
       "      <th>resource_state</th>\n",
       "      <th>name</th>\n",
       "      <th>distance</th>\n",
       "      <th>moving_time</th>\n",
       "      <th>elapsed_time</th>\n",
       "      <th>total_elevation_gain</th>\n",
       "      <th>type</th>\n",
       "      <th>workout_type</th>\n",
       "      <th>id</th>\n",
       "      <th>external_id</th>\n",
       "      <th>...</th>\n",
       "      <th>pr_count</th>\n",
       "      <th>total_photo_count</th>\n",
       "      <th>has_kudoed</th>\n",
       "      <th>athlete.id</th>\n",
       "      <th>athlete.resource_state</th>\n",
       "      <th>map.id</th>\n",
       "      <th>map.summary_polyline</th>\n",
       "      <th>map.resource_state</th>\n",
       "      <th>average_temp</th>\n",
       "      <th>average_cadence</th>\n",
       "    </tr>\n",
       "  </thead>\n",
       "  <tbody>\n",
       "    <tr>\n",
       "      <th>0</th>\n",
       "      <td>2</td>\n",
       "      <td>Rebild bakker</td>\n",
       "      <td>35085.0</td>\n",
       "      <td>10484</td>\n",
       "      <td>15388</td>\n",
       "      <td>537.4</td>\n",
       "      <td>Ride</td>\n",
       "      <td>10.0</td>\n",
       "      <td>5085121622</td>\n",
       "      <td>garmin_push_6565702584</td>\n",
       "      <td>...</td>\n",
       "      <td>2</td>\n",
       "      <td>0</td>\n",
       "      <td>False</td>\n",
       "      <td>623588</td>\n",
       "      <td>1</td>\n",
       "      <td>a5085121622</td>\n",
       "      <td>ue{yIguf{@@|IpApFjGiCtJa@nIbBjBmQjDyUy@jM~DkFu...</td>\n",
       "      <td>2</td>\n",
       "      <td>NaN</td>\n",
       "      <td>NaN</td>\n",
       "    </tr>\n",
       "    <tr>\n",
       "      <th>1</th>\n",
       "      <td>2</td>\n",
       "      <td>Aalborg</td>\n",
       "      <td>20125.5</td>\n",
       "      <td>6279</td>\n",
       "      <td>7416</td>\n",
       "      <td>435.2</td>\n",
       "      <td>Ride</td>\n",
       "      <td>10.0</td>\n",
       "      <td>5078818942</td>\n",
       "      <td>garmin_push_6559443035</td>\n",
       "      <td>...</td>\n",
       "      <td>9</td>\n",
       "      <td>0</td>\n",
       "      <td>False</td>\n",
       "      <td>623588</td>\n",
       "      <td>1</td>\n",
       "      <td>a5078818942</td>\n",
       "      <td>eg|zIetp{@p@_@jD`EbAk@McE{@gBBaB`@i@\\Rd@pAr@YX...</td>\n",
       "      <td>2</td>\n",
       "      <td>NaN</td>\n",
       "      <td>NaN</td>\n",
       "    </tr>\n",
       "    <tr>\n",
       "      <th>2</th>\n",
       "      <td>2</td>\n",
       "      <td>Silkeborg-Viborg-Mors part 3</td>\n",
       "      <td>10816.7</td>\n",
       "      <td>3971</td>\n",
       "      <td>5083</td>\n",
       "      <td>179.0</td>\n",
       "      <td>Ride</td>\n",
       "      <td>10.0</td>\n",
       "      <td>5050831627</td>\n",
       "      <td>garmin_push_6532008192</td>\n",
       "      <td>...</td>\n",
       "      <td>0</td>\n",
       "      <td>0</td>\n",
       "      <td>False</td>\n",
       "      <td>623588</td>\n",
       "      <td>1</td>\n",
       "      <td>a5050831627</td>\n",
       "      <td>oslyI{ryt@@^ZRhBdCF~B[hEa@~BYv@w@bAMq@]\\Oc@G@E...</td>\n",
       "      <td>2</td>\n",
       "      <td>NaN</td>\n",
       "      <td>NaN</td>\n",
       "    </tr>\n",
       "    <tr>\n",
       "      <th>3</th>\n",
       "      <td>2</td>\n",
       "      <td>Silkeborg-Viborg-Mors part 2</td>\n",
       "      <td>9026.9</td>\n",
       "      <td>2901</td>\n",
       "      <td>3238</td>\n",
       "      <td>69.3</td>\n",
       "      <td>Ride</td>\n",
       "      <td>10.0</td>\n",
       "      <td>5049722962</td>\n",
       "      <td>garmin_push_6530904449</td>\n",
       "      <td>...</td>\n",
       "      <td>0</td>\n",
       "      <td>0</td>\n",
       "      <td>False</td>\n",
       "      <td>623588</td>\n",
       "      <td>1</td>\n",
       "      <td>a5049722962</td>\n",
       "      <td>u~tvI_fsw@i@y@Dc@EW@iAOs@EaAXmA@SOg@MwBUuAy@sA...</td>\n",
       "      <td>2</td>\n",
       "      <td>NaN</td>\n",
       "      <td>NaN</td>\n",
       "    </tr>\n",
       "    <tr>\n",
       "      <th>4</th>\n",
       "      <td>2</td>\n",
       "      <td>Silkeborg-Viborg-Mors part 1</td>\n",
       "      <td>15201.3</td>\n",
       "      <td>4250</td>\n",
       "      <td>4899</td>\n",
       "      <td>319.3</td>\n",
       "      <td>Ride</td>\n",
       "      <td>10.0</td>\n",
       "      <td>5048541792</td>\n",
       "      <td>garmin_push_6529719534</td>\n",
       "      <td>...</td>\n",
       "      <td>0</td>\n",
       "      <td>0</td>\n",
       "      <td>False</td>\n",
       "      <td>623588</td>\n",
       "      <td>1</td>\n",
       "      <td>a5048541792</td>\n",
       "      <td>spuuIeliy@|ByB`CTN_@zC_DjAMBzARLZoCROTb@CvF`Ah...</td>\n",
       "      <td>2</td>\n",
       "      <td>NaN</td>\n",
       "      <td>NaN</td>\n",
       "    </tr>\n",
       "  </tbody>\n",
       "</table>\n",
       "<p>5 rows × 58 columns</p>\n",
       "</div>"
      ],
      "text/plain": [
       "   resource_state                          name  distance  moving_time  \\\n",
       "0               2                 Rebild bakker   35085.0        10484   \n",
       "1               2                       Aalborg   20125.5         6279   \n",
       "2               2  Silkeborg-Viborg-Mors part 3   10816.7         3971   \n",
       "3               2  Silkeborg-Viborg-Mors part 2    9026.9         2901   \n",
       "4               2  Silkeborg-Viborg-Mors part 1   15201.3         4250   \n",
       "\n",
       "   elapsed_time  total_elevation_gain  type  workout_type          id  \\\n",
       "0         15388                 537.4  Ride          10.0  5085121622   \n",
       "1          7416                 435.2  Ride          10.0  5078818942   \n",
       "2          5083                 179.0  Ride          10.0  5050831627   \n",
       "3          3238                  69.3  Ride          10.0  5049722962   \n",
       "4          4899                 319.3  Ride          10.0  5048541792   \n",
       "\n",
       "              external_id  ...  pr_count total_photo_count has_kudoed  \\\n",
       "0  garmin_push_6565702584  ...         2                 0      False   \n",
       "1  garmin_push_6559443035  ...         9                 0      False   \n",
       "2  garmin_push_6532008192  ...         0                 0      False   \n",
       "3  garmin_push_6530904449  ...         0                 0      False   \n",
       "4  garmin_push_6529719534  ...         0                 0      False   \n",
       "\n",
       "  athlete.id  athlete.resource_state       map.id  \\\n",
       "0     623588                       1  a5085121622   \n",
       "1     623588                       1  a5078818942   \n",
       "2     623588                       1  a5050831627   \n",
       "3     623588                       1  a5049722962   \n",
       "4     623588                       1  a5048541792   \n",
       "\n",
       "                                map.summary_polyline map.resource_state  \\\n",
       "0  ue{yIguf{@@|IpApFjGiCtJa@nIbBjBmQjDyUy@jM~DkFu...                  2   \n",
       "1  eg|zIetp{@p@_@jD`EbAk@McE{@gBBaB`@i@\\Rd@pAr@YX...                  2   \n",
       "2  oslyI{ryt@@^ZRhBdCF~B[hEa@~BYv@w@bAMq@]\\Oc@G@E...                  2   \n",
       "3  u~tvI_fsw@i@y@Dc@EW@iAOs@EaAXmA@SOg@MwBUuAy@sA...                  2   \n",
       "4  spuuIeliy@|ByB`CTN_@zC_DjAMBzARLZoCROTb@CvF`Ah...                  2   \n",
       "\n",
       "  average_temp average_cadence  \n",
       "0          NaN             NaN  \n",
       "1          NaN             NaN  \n",
       "2          NaN             NaN  \n",
       "3          NaN             NaN  \n",
       "4          NaN             NaN  \n",
       "\n",
       "[5 rows x 58 columns]"
      ]
     },
     "execution_count": 65,
     "metadata": {},
     "output_type": "execute_result"
    }
   ],
   "source": [
    "df.head()"
   ]
  },
  {
   "cell_type": "code",
   "execution_count": 60,
   "metadata": {},
   "outputs": [],
   "source": [
    "for index, row in df.iterrows():\n",
    "    pass"
   ]
  },
  {
   "cell_type": "code",
   "execution_count": 95,
   "metadata": {},
   "outputs": [
    {
     "data": {
      "text/plain": [
       "resource_state                                                                   2\n",
       "name                                                                    06/15/2012\n",
       "distance                                                                   15607.2\n",
       "moving_time                                                                   2922\n",
       "elapsed_time                                                                  3373\n",
       "total_elevation_gain                                                         377.6\n",
       "type                                                                          Ride\n",
       "workout_type                                                                   NaN\n",
       "id                                                                        10912156\n",
       "external_id                                   B59D52EF-AACB-4ACC-ADEA-6601061A81E7\n",
       "upload_id                                                                 12642242\n",
       "start_date                                                    2012-06-16T01:04:15Z\n",
       "start_date_local                                         2012-06-15 18:04:15+00:00\n",
       "timezone                                           (GMT-08:00) America/Los_Angeles\n",
       "utc_offset                                                                -25200.0\n",
       "start_latlng                              [37.89313870429489, -122.26765501870096]\n",
       "end_latlng                                [37.89306630352955, -122.26764811153014]\n",
       "location_city                                                             Berkeley\n",
       "location_state                                                                  CA\n",
       "location_country                                                     United States\n",
       "start_latitude                                                           37.893139\n",
       "start_longitude                                                        -122.267655\n",
       "achievement_count                                                                6\n",
       "kudos_count                                                                      0\n",
       "comment_count                                                                    0\n",
       "athlete_count                                                                    1\n",
       "photo_count                                                                      0\n",
       "trainer                                                                      False\n",
       "commute                                                                      False\n",
       "manual                                                                       False\n",
       "private                                                                      False\n",
       "visibility                                                                everyone\n",
       "flagged                                                                      False\n",
       "gear_id                                                                       None\n",
       "from_accepted_tag                                                            False\n",
       "upload_id_str                                                             12642242\n",
       "average_speed                                                                5.341\n",
       "max_speed                                                                   14.426\n",
       "average_watts                                                                 79.1\n",
       "kilojoules                                                                   231.3\n",
       "device_watts                                                                 False\n",
       "has_heartrate                                                                False\n",
       "average_heartrate                                                              NaN\n",
       "max_heartrate                                                                  NaN\n",
       "heartrate_opt_out                                                            False\n",
       "display_hide_heartrate_option                                                False\n",
       "elev_high                                                                    509.6\n",
       "elev_low                                                                     174.3\n",
       "pr_count                                                                         2\n",
       "total_photo_count                                                                0\n",
       "has_kudoed                                                                   False\n",
       "athlete.id                                                                  623588\n",
       "athlete.resource_state                                                           1\n",
       "map.id                                                                   a10912156\n",
       "map.summary_polyline             obifFj|giVgE~C_I_IcBzEkMg@g@cBbBkHwBoFf@oKvBcG...\n",
       "map.resource_state                                                               2\n",
       "average_temp                                                                   NaN\n",
       "average_cadence                                                                NaN\n",
       "Name: 179, dtype: object"
      ]
     },
     "execution_count": 95,
     "metadata": {},
     "output_type": "execute_result"
    }
   ],
   "source": [
    "row"
   ]
  },
  {
   "cell_type": "code",
   "execution_count": 105,
   "metadata": {},
   "outputs": [
    {
     "data": {
      "text/plain": [
       "resource_state                                                 2\n",
       "name                                                Morning Swim\n",
       "distance                                                     0.0\n",
       "moving_time                                                    0\n",
       "elapsed_time                                                2281\n",
       "total_elevation_gain                                         0.0\n",
       "type                                                        Swim\n",
       "workout_type                                                 NaN\n",
       "id                                                    3883286122\n",
       "external_id                               garmin_push_5354845609\n",
       "upload_id                                             4155791370\n",
       "start_date                                  2020-08-08T14:23:19Z\n",
       "start_date_local                       2020-08-08 07:23:19+00:00\n",
       "timezone                         (GMT-08:00) America/Los_Angeles\n",
       "utc_offset                                              -25200.0\n",
       "start_latlng                                                None\n",
       "end_latlng                                                  None\n",
       "location_city                                               None\n",
       "location_state                                              None\n",
       "location_country                                   United States\n",
       "start_latitude                                               NaN\n",
       "start_longitude                                              NaN\n",
       "achievement_count                                              0\n",
       "kudos_count                                                    0\n",
       "comment_count                                                  0\n",
       "athlete_count                                                  1\n",
       "photo_count                                                    0\n",
       "trainer                                                     True\n",
       "commute                                                    False\n",
       "manual                                                     False\n",
       "private                                                    False\n",
       "visibility                                              everyone\n",
       "flagged                                                    False\n",
       "gear_id                                                     None\n",
       "from_accepted_tag                                          False\n",
       "upload_id_str                                         4155791370\n",
       "average_speed                                                0.0\n",
       "max_speed                                                    0.0\n",
       "average_watts                                                NaN\n",
       "kilojoules                                                   NaN\n",
       "device_watts                                                 NaN\n",
       "has_heartrate                                              False\n",
       "average_heartrate                                            NaN\n",
       "max_heartrate                                                NaN\n",
       "heartrate_opt_out                                          False\n",
       "display_hide_heartrate_option                              False\n",
       "elev_high                                                    NaN\n",
       "elev_low                                                     NaN\n",
       "pr_count                                                       0\n",
       "total_photo_count                                              0\n",
       "has_kudoed                                                 False\n",
       "athlete.id                                                623588\n",
       "athlete.resource_state                                         1\n",
       "map.id                                               a3883286122\n",
       "map.summary_polyline                                        None\n",
       "map.resource_state                                             2\n",
       "average_temp                                                 NaN\n",
       "average_cadence                                             21.0\n",
       "Name: 109, dtype: object"
      ]
     },
     "execution_count": 105,
     "metadata": {},
     "output_type": "execute_result"
    }
   ],
   "source": [
    "df.iloc[109]"
   ]
  },
  {
   "cell_type": "code",
   "execution_count": null,
   "metadata": {},
   "outputs": [],
   "source": []
  }
 ],
 "metadata": {
  "kernelspec": {
   "display_name": "Python 3",
   "language": "python",
   "name": "python3"
  },
  "language_info": {
   "codemirror_mode": {
    "name": "ipython",
    "version": 3
   },
   "file_extension": ".py",
   "mimetype": "text/x-python",
   "name": "python",
   "nbconvert_exporter": "python",
   "pygments_lexer": "ipython3",
   "version": "3.9.2"
  }
 },
 "nbformat": 4,
 "nbformat_minor": 4
}
